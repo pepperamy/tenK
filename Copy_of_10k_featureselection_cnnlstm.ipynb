{
  "nbformat": 4,
  "nbformat_minor": 0,
  "metadata": {
    "colab": {
      "name": "Copy of 10k_featureselection_cnnlstm.ipynb",
      "provenance": [],
      "collapsed_sections": [],
      "include_colab_link": true
    },
    "kernelspec": {
      "name": "python3",
      "display_name": "Python 3"
    }
  },
  "cells": [
    {
      "cell_type": "markdown",
      "metadata": {
        "id": "view-in-github",
        "colab_type": "text"
      },
      "source": [
        "<a href=\"https://colab.research.google.com/github/pepperamy/tenK/blob/master/Copy_of_10k_featureselection_cnnlstm.ipynb\" target=\"_parent\"><img src=\"https://colab.research.google.com/assets/colab-badge.svg\" alt=\"Open In Colab\"/></a>"
      ]
    },
    {
      "cell_type": "code",
      "metadata": {
        "id": "2gFdXv30e4Zx",
        "colab": {
          "base_uri": "https://localhost:8080/"
        },
        "outputId": "26e89d78-a643-43be-9227-d0a802064633"
      },
      "source": [
        "import pandas as pd\r\n",
        "import pickle\r\n",
        "import re\r\n",
        "from matplotlib import pyplot as plt\r\n",
        "import numpy as np\r\n",
        "\r\n",
        "from sklearn.feature_extraction.text import TfidfVectorizer, CountVectorizer\r\n",
        "from sklearn.metrics.pairwise import cosine_similarity\r\n",
        "\r\n",
        "from scipy.optimize import linear_sum_assignment\r\n",
        "import time\r\n",
        "\r\n",
        "from IPython.core.interactiveshell import InteractiveShell\r\n",
        "InteractiveShell.ast_node_interactivity = \"all\"\r\n",
        "\r\n",
        "import statsmodels.api as sm\r\n",
        "import statsmodels.formula.api as smf\r\n",
        "\r\n",
        "import warnings\r\n",
        "warnings.filterwarnings('ignore')\r\n",
        "\r\n",
        "from scipy.stats import mstats\r\n",
        "import math\r\n",
        "\r\n",
        "from sklearn.model_selection import train_test_split"
      ],
      "execution_count": 1,
      "outputs": [
        {
          "output_type": "stream",
          "text": [
            "/usr/local/lib/python3.7/dist-packages/statsmodels/tools/_testing.py:19: FutureWarning: pandas.util.testing is deprecated. Use the functions in the public API at pandas.testing instead.\n",
            "  import pandas.util.testing as tm\n"
          ],
          "name": "stderr"
        }
      ]
    },
    {
      "cell_type": "code",
      "metadata": {
        "id": "MPbGENVjzMx6"
      },
      "source": [
        "from sklearn.model_selection import KFold,StratifiedKFold"
      ],
      "execution_count": 2,
      "outputs": []
    },
    {
      "cell_type": "code",
      "metadata": {
        "id": "ovlMafoEj7fh"
      },
      "source": [
        "from keras import regularizers"
      ],
      "execution_count": 3,
      "outputs": []
    },
    {
      "cell_type": "code",
      "metadata": {
        "id": "edodAjPPLihc"
      },
      "source": [
        "from keras import backend as K"
      ],
      "execution_count": 4,
      "outputs": []
    },
    {
      "cell_type": "code",
      "metadata": {
        "id": "DEyVpJiqfWh7"
      },
      "source": [
        "from sklearn.metrics import confusion_matrix, precision_recall_fscore_support, precision_recall_curve, classification_report,accuracy_score, auc, roc_curve, roc_auc_score, average_precision_score"
      ],
      "execution_count": 5,
      "outputs": []
    },
    {
      "cell_type": "code",
      "metadata": {
        "id": "PQoE_A26fcCN"
      },
      "source": [
        "from keras.models import Sequential\r\n",
        "from sklearn.metrics import mean_squared_error\r\n",
        "from keras.layers import Embedding, Dense, Conv2D, MaxPooling2D, Reshape,\\\r\n",
        "Dropout, Activation, Input, Flatten, Concatenate, BatchNormalization, Lambda, LSTM, GRU, Bidirectional\r\n",
        "from keras.callbacks import Callback, EarlyStopping, ModelCheckpoint\r\n",
        "from keras import regularizers\r\n",
        "from keras.models import Model\r\n",
        "from keras import optimizers\r\n",
        "from keras import metrics\r\n",
        "from keras import models\r\n",
        "from keras import layers"
      ],
      "execution_count": 6,
      "outputs": []
    },
    {
      "cell_type": "code",
      "metadata": {
        "id": "VOhMLRyIB5rG"
      },
      "source": [
        "from sklearn.utils import class_weight"
      ],
      "execution_count": 7,
      "outputs": []
    },
    {
      "cell_type": "code",
      "metadata": {
        "id": "hU6Xry_KF88_"
      },
      "source": [
        "from sklearn import utils"
      ],
      "execution_count": 8,
      "outputs": []
    },
    {
      "cell_type": "code",
      "metadata": {
        "id": "5LTmS2gbJsCI"
      },
      "source": [
        "import random"
      ],
      "execution_count": 9,
      "outputs": []
    },
    {
      "cell_type": "code",
      "metadata": {
        "id": "FGDo0BX3fdqF"
      },
      "source": [
        "df = pd.read_csv('data_performance_words_win1_comb_20210301.csv')"
      ],
      "execution_count": 10,
      "outputs": []
    },
    {
      "cell_type": "code",
      "metadata": {
        "colab": {
          "base_uri": "https://localhost:8080/"
        },
        "id": "YXrMxcpfdcof",
        "outputId": "f2d0bb7b-ac4a-48d5-9f24-e49b9d18707f"
      },
      "source": [
        "df.shape"
      ],
      "execution_count": 11,
      "outputs": [
        {
          "output_type": "execute_result",
          "data": {
            "text/plain": [
              "(53635, 212)"
            ]
          },
          "metadata": {
            "tags": []
          },
          "execution_count": 11
        }
      ]
    },
    {
      "cell_type": "code",
      "metadata": {
        "colab": {
          "base_uri": "https://localhost:8080/"
        },
        "id": "VTHf-QumI8Cd",
        "outputId": "d71c7322-ec6d-427d-eda9-c0ad5bf56a38"
      },
      "source": [
        "sum(df.label)"
      ],
      "execution_count": 12,
      "outputs": [
        {
          "output_type": "execute_result",
          "data": {
            "text/plain": [
              "487.0"
            ]
          },
          "metadata": {
            "tags": []
          },
          "execution_count": 12
        }
      ]
    },
    {
      "cell_type": "code",
      "metadata": {
        "colab": {
          "base_uri": "https://localhost:8080/",
          "height": 244
        },
        "id": "7uYp5m-amwON",
        "outputId": "0708f38f-81db-43bf-e3e5-8615ee3bd756"
      },
      "source": [
        "df.head()"
      ],
      "execution_count": 13,
      "outputs": [
        {
          "output_type": "execute_result",
          "data": {
            "text/html": [
              "<div>\n",
              "<style scoped>\n",
              "    .dataframe tbody tr th:only-of-type {\n",
              "        vertical-align: middle;\n",
              "    }\n",
              "\n",
              "    .dataframe tbody tr th {\n",
              "        vertical-align: top;\n",
              "    }\n",
              "\n",
              "    .dataframe thead th {\n",
              "        text-align: right;\n",
              "    }\n",
              "</style>\n",
              "<table border=\"1\" class=\"dataframe\">\n",
              "  <thead>\n",
              "    <tr style=\"text-align: right;\">\n",
              "      <th></th>\n",
              "      <th>cik</th>\n",
              "      <th>y1</th>\n",
              "      <th>y2</th>\n",
              "      <th>s1</th>\n",
              "      <th>window</th>\n",
              "      <th>label</th>\n",
              "      <th>sic_class_x</th>\n",
              "      <th>rsst_acc</th>\n",
              "      <th>ch_rec</th>\n",
              "      <th>ch_inv</th>\n",
              "      <th>soft_asset</th>\n",
              "      <th>ch_cs</th>\n",
              "      <th>ch_roa</th>\n",
              "      <th>issue</th>\n",
              "      <th>aqi</th>\n",
              "      <th>asset_turnover</th>\n",
              "      <th>cfed</th>\n",
              "      <th>depi</th>\n",
              "      <th>gmi</th>\n",
              "      <th>ig</th>\n",
              "      <th>opm</th>\n",
              "      <th>rg</th>\n",
              "      <th>sg</th>\n",
              "      <th>sgee</th>\n",
              "      <th>pastavg5</th>\n",
              "      <th>pastavg3</th>\n",
              "      <th>pastavg1</th>\n",
              "      <th>cr5</th>\n",
              "      <th>cr3</th>\n",
              "      <th>cr1</th>\n",
              "      <th>WeakModal_3_avg</th>\n",
              "      <th>WeakModal_3_dis</th>\n",
              "      <th>WeakModal_3_n</th>\n",
              "      <th>WeakModal_3_new</th>\n",
              "      <th>WeakModal_3_p</th>\n",
              "      <th>WeakModal_3_u</th>\n",
              "      <th>Litigious_3_avg</th>\n",
              "      <th>Litigious_3_dis</th>\n",
              "      <th>Litigious_3_n</th>\n",
              "      <th>Litigious_3_new</th>\n",
              "      <th>...</th>\n",
              "      <th>Achieve_3_p</th>\n",
              "      <th>Achieve_3_u</th>\n",
              "      <th>Power_3_avg</th>\n",
              "      <th>Power_3_dis</th>\n",
              "      <th>Power_3_n</th>\n",
              "      <th>Power_3_new</th>\n",
              "      <th>Power_3_p</th>\n",
              "      <th>Power_3_u</th>\n",
              "      <th>Reward_3_avg</th>\n",
              "      <th>Reward_3_dis</th>\n",
              "      <th>Reward_3_n</th>\n",
              "      <th>Reward_3_new</th>\n",
              "      <th>Reward_3_p</th>\n",
              "      <th>Reward_3_u</th>\n",
              "      <th>Risk_3_avg</th>\n",
              "      <th>Risk_3_dis</th>\n",
              "      <th>Risk_3_n</th>\n",
              "      <th>Risk_3_new</th>\n",
              "      <th>Risk_3_p</th>\n",
              "      <th>Risk_3_u</th>\n",
              "      <th>WeakModal_up</th>\n",
              "      <th>WeakModal_down</th>\n",
              "      <th>Litigious_up</th>\n",
              "      <th>Litigious_down</th>\n",
              "      <th>StrongModal_up</th>\n",
              "      <th>StrongModal_down</th>\n",
              "      <th>Negative_up</th>\n",
              "      <th>Negative_down</th>\n",
              "      <th>Positive_up</th>\n",
              "      <th>Positive_down</th>\n",
              "      <th>Uncertainty_up</th>\n",
              "      <th>Uncertainty_down</th>\n",
              "      <th>Compare_up</th>\n",
              "      <th>Compare_down</th>\n",
              "      <th>Achieve_up</th>\n",
              "      <th>Achieve_down</th>\n",
              "      <th>Discrep_up</th>\n",
              "      <th>Discrep_down</th>\n",
              "      <th>Reward_up</th>\n",
              "      <th>Reward_down</th>\n",
              "    </tr>\n",
              "  </thead>\n",
              "  <tbody>\n",
              "    <tr>\n",
              "      <th>0</th>\n",
              "      <td>20.0</td>\n",
              "      <td>1995.0</td>\n",
              "      <td>1996.0</td>\n",
              "      <td>0.633505</td>\n",
              "      <td>1.0</td>\n",
              "      <td>0.0</td>\n",
              "      <td>3</td>\n",
              "      <td>0.063117</td>\n",
              "      <td>-0.072425</td>\n",
              "      <td>-0.067847</td>\n",
              "      <td>0.661974</td>\n",
              "      <td>-0.147079</td>\n",
              "      <td>0.198730</td>\n",
              "      <td>1</td>\n",
              "      <td>0.974056</td>\n",
              "      <td>1.624273</td>\n",
              "      <td>0.206066</td>\n",
              "      <td>1.226305</td>\n",
              "      <td>0.914198</td>\n",
              "      <td>0.715334</td>\n",
              "      <td>0.044798</td>\n",
              "      <td>0.783539</td>\n",
              "      <td>0.814093</td>\n",
              "      <td>1.013528</td>\n",
              "      <td>NaN</td>\n",
              "      <td>NaN</td>\n",
              "      <td>NaN</td>\n",
              "      <td>NaN</td>\n",
              "      <td>NaN</td>\n",
              "      <td>NaN</td>\n",
              "      <td>-0.000071</td>\n",
              "      <td>0.000000</td>\n",
              "      <td>0.095238</td>\n",
              "      <td>0.004950</td>\n",
              "      <td>0.047619</td>\n",
              "      <td>0.761905</td>\n",
              "      <td>-0.002775</td>\n",
              "      <td>0.002801</td>\n",
              "      <td>0.190476</td>\n",
              "      <td>0.000000</td>\n",
              "      <td>...</td>\n",
              "      <td>0.047619</td>\n",
              "      <td>0.571429</td>\n",
              "      <td>-0.004527</td>\n",
              "      <td>0.016180</td>\n",
              "      <td>0.428571</td>\n",
              "      <td>0.029638</td>\n",
              "      <td>0.285714</td>\n",
              "      <td>0.190476</td>\n",
              "      <td>-0.000009</td>\n",
              "      <td>0.002644</td>\n",
              "      <td>0.190476</td>\n",
              "      <td>0.000000</td>\n",
              "      <td>0.190476</td>\n",
              "      <td>0.523810</td>\n",
              "      <td>-0.002433</td>\n",
              "      <td>0.002488</td>\n",
              "      <td>0.333333</td>\n",
              "      <td>0.019737</td>\n",
              "      <td>0.000000</td>\n",
              "      <td>0.571429</td>\n",
              "      <td>0.052570</td>\n",
              "      <td>0.095238</td>\n",
              "      <td>0.142857</td>\n",
              "      <td>0.193277</td>\n",
              "      <td>0.047619</td>\n",
              "      <td>0.058512</td>\n",
              "      <td>0.353070</td>\n",
              "      <td>0.338308</td>\n",
              "      <td>0.238095</td>\n",
              "      <td>0.292404</td>\n",
              "      <td>0.100189</td>\n",
              "      <td>0.145658</td>\n",
              "      <td>0.395804</td>\n",
              "      <td>0.355975</td>\n",
              "      <td>0.060777</td>\n",
              "      <td>0.303224</td>\n",
              "      <td>0.190476</td>\n",
              "      <td>0.248916</td>\n",
              "      <td>0.190476</td>\n",
              "      <td>0.193121</td>\n",
              "    </tr>\n",
              "    <tr>\n",
              "      <th>1</th>\n",
              "      <td>20.0</td>\n",
              "      <td>1996.0</td>\n",
              "      <td>1997.0</td>\n",
              "      <td>0.803827</td>\n",
              "      <td>1.0</td>\n",
              "      <td>0.0</td>\n",
              "      <td>3</td>\n",
              "      <td>0.066126</td>\n",
              "      <td>-0.018252</td>\n",
              "      <td>-0.059281</td>\n",
              "      <td>0.620435</td>\n",
              "      <td>-0.066028</td>\n",
              "      <td>0.034753</td>\n",
              "      <td>1</td>\n",
              "      <td>1.248039</td>\n",
              "      <td>1.606518</td>\n",
              "      <td>0.025826</td>\n",
              "      <td>1.088859</td>\n",
              "      <td>0.978102</td>\n",
              "      <td>0.755016</td>\n",
              "      <td>0.062466</td>\n",
              "      <td>0.938786</td>\n",
              "      <td>0.969746</td>\n",
              "      <td>1.012432</td>\n",
              "      <td>0.633505</td>\n",
              "      <td>0.633505</td>\n",
              "      <td>0.633505</td>\n",
              "      <td>1.268856</td>\n",
              "      <td>1.268856</td>\n",
              "      <td>1.268856</td>\n",
              "      <td>-0.000034</td>\n",
              "      <td>0.000000</td>\n",
              "      <td>0.066667</td>\n",
              "      <td>0.028571</td>\n",
              "      <td>0.000000</td>\n",
              "      <td>0.866667</td>\n",
              "      <td>0.003234</td>\n",
              "      <td>0.000000</td>\n",
              "      <td>0.133333</td>\n",
              "      <td>0.000000</td>\n",
              "      <td>...</td>\n",
              "      <td>0.133333</td>\n",
              "      <td>0.733333</td>\n",
              "      <td>-0.003780</td>\n",
              "      <td>0.018289</td>\n",
              "      <td>0.333333</td>\n",
              "      <td>0.000000</td>\n",
              "      <td>0.200000</td>\n",
              "      <td>0.400000</td>\n",
              "      <td>0.000668</td>\n",
              "      <td>0.007947</td>\n",
              "      <td>0.200000</td>\n",
              "      <td>0.000000</td>\n",
              "      <td>0.200000</td>\n",
              "      <td>0.533333</td>\n",
              "      <td>-0.001054</td>\n",
              "      <td>0.013954</td>\n",
              "      <td>0.066667</td>\n",
              "      <td>0.000000</td>\n",
              "      <td>0.066667</td>\n",
              "      <td>0.800000</td>\n",
              "      <td>0.028571</td>\n",
              "      <td>0.066667</td>\n",
              "      <td>0.200000</td>\n",
              "      <td>0.133333</td>\n",
              "      <td>0.161905</td>\n",
              "      <td>0.066667</td>\n",
              "      <td>0.161905</td>\n",
              "      <td>0.357243</td>\n",
              "      <td>0.200000</td>\n",
              "      <td>0.219242</td>\n",
              "      <td>0.123810</td>\n",
              "      <td>0.134598</td>\n",
              "      <td>0.333333</td>\n",
              "      <td>0.144428</td>\n",
              "      <td>0.133333</td>\n",
              "      <td>0.075494</td>\n",
              "      <td>0.133333</td>\n",
              "      <td>0.070482</td>\n",
              "      <td>0.200000</td>\n",
              "      <td>0.207947</td>\n",
              "    </tr>\n",
              "    <tr>\n",
              "      <th>2</th>\n",
              "      <td>20.0</td>\n",
              "      <td>1997.0</td>\n",
              "      <td>1998.0</td>\n",
              "      <td>0.462705</td>\n",
              "      <td>1.0</td>\n",
              "      <td>0.0</td>\n",
              "      <td>3</td>\n",
              "      <td>0.095900</td>\n",
              "      <td>0.066711</td>\n",
              "      <td>0.013223</td>\n",
              "      <td>0.656729</td>\n",
              "      <td>-0.030720</td>\n",
              "      <td>0.019574</td>\n",
              "      <td>1</td>\n",
              "      <td>0.840540</td>\n",
              "      <td>1.574474</td>\n",
              "      <td>0.020191</td>\n",
              "      <td>0.991780</td>\n",
              "      <td>0.991078</td>\n",
              "      <td>1.073227</td>\n",
              "      <td>0.073961</td>\n",
              "      <td>1.241132</td>\n",
              "      <td>1.022834</td>\n",
              "      <td>0.983269</td>\n",
              "      <td>0.718666</td>\n",
              "      <td>0.718666</td>\n",
              "      <td>0.803827</td>\n",
              "      <td>0.643838</td>\n",
              "      <td>0.643838</td>\n",
              "      <td>0.575627</td>\n",
              "      <td>0.002823</td>\n",
              "      <td>0.005714</td>\n",
              "      <td>0.066667</td>\n",
              "      <td>0.007841</td>\n",
              "      <td>0.133333</td>\n",
              "      <td>0.466667</td>\n",
              "      <td>-0.001499</td>\n",
              "      <td>0.004000</td>\n",
              "      <td>0.133333</td>\n",
              "      <td>0.004315</td>\n",
              "      <td>...</td>\n",
              "      <td>0.066667</td>\n",
              "      <td>0.333333</td>\n",
              "      <td>0.000062</td>\n",
              "      <td>0.028035</td>\n",
              "      <td>0.266667</td>\n",
              "      <td>0.021889</td>\n",
              "      <td>0.266667</td>\n",
              "      <td>0.133333</td>\n",
              "      <td>-0.003310</td>\n",
              "      <td>0.001504</td>\n",
              "      <td>0.266667</td>\n",
              "      <td>0.002960</td>\n",
              "      <td>0.000000</td>\n",
              "      <td>0.400000</td>\n",
              "      <td>-0.000069</td>\n",
              "      <td>0.011111</td>\n",
              "      <td>0.066667</td>\n",
              "      <td>0.004688</td>\n",
              "      <td>0.066667</td>\n",
              "      <td>0.533333</td>\n",
              "      <td>0.141174</td>\n",
              "      <td>0.072381</td>\n",
              "      <td>0.137649</td>\n",
              "      <td>0.137333</td>\n",
              "      <td>0.074024</td>\n",
              "      <td>0.139048</td>\n",
              "      <td>0.149893</td>\n",
              "      <td>0.299598</td>\n",
              "      <td>0.070786</td>\n",
              "      <td>0.271178</td>\n",
              "      <td>0.154181</td>\n",
              "      <td>0.144762</td>\n",
              "      <td>0.484144</td>\n",
              "      <td>0.236060</td>\n",
              "      <td>0.074921</td>\n",
              "      <td>0.277778</td>\n",
              "      <td>0.076624</td>\n",
              "      <td>0.202532</td>\n",
              "      <td>0.002960</td>\n",
              "      <td>0.268170</td>\n",
              "    </tr>\n",
              "    <tr>\n",
              "      <th>3</th>\n",
              "      <td>20.0</td>\n",
              "      <td>1998.0</td>\n",
              "      <td>1999.0</td>\n",
              "      <td>0.701689</td>\n",
              "      <td>1.0</td>\n",
              "      <td>0.0</td>\n",
              "      <td>3</td>\n",
              "      <td>0.054997</td>\n",
              "      <td>0.026323</td>\n",
              "      <td>-0.009875</td>\n",
              "      <td>0.676757</td>\n",
              "      <td>0.011434</td>\n",
              "      <td>0.002424</td>\n",
              "      <td>1</td>\n",
              "      <td>0.837833</td>\n",
              "      <td>1.604656</td>\n",
              "      <td>0.003715</td>\n",
              "      <td>1.025961</td>\n",
              "      <td>1.024634</td>\n",
              "      <td>0.948804</td>\n",
              "      <td>0.076906</td>\n",
              "      <td>1.077020</td>\n",
              "      <td>0.985921</td>\n",
              "      <td>0.983057</td>\n",
              "      <td>0.633346</td>\n",
              "      <td>0.633346</td>\n",
              "      <td>0.462705</td>\n",
              "      <td>1.107909</td>\n",
              "      <td>1.107909</td>\n",
              "      <td>1.516495</td>\n",
              "      <td>0.000590</td>\n",
              "      <td>0.006755</td>\n",
              "      <td>0.045455</td>\n",
              "      <td>0.000000</td>\n",
              "      <td>0.136364</td>\n",
              "      <td>0.545455</td>\n",
              "      <td>-0.000112</td>\n",
              "      <td>0.005460</td>\n",
              "      <td>0.090909</td>\n",
              "      <td>0.000000</td>\n",
              "      <td>...</td>\n",
              "      <td>0.090909</td>\n",
              "      <td>0.590909</td>\n",
              "      <td>0.001965</td>\n",
              "      <td>0.034894</td>\n",
              "      <td>0.090909</td>\n",
              "      <td>0.019415</td>\n",
              "      <td>0.136364</td>\n",
              "      <td>0.500000</td>\n",
              "      <td>0.000347</td>\n",
              "      <td>0.003575</td>\n",
              "      <td>0.000000</td>\n",
              "      <td>0.008179</td>\n",
              "      <td>0.045455</td>\n",
              "      <td>0.681818</td>\n",
              "      <td>-0.000126</td>\n",
              "      <td>0.003620</td>\n",
              "      <td>0.090909</td>\n",
              "      <td>0.000000</td>\n",
              "      <td>0.090909</td>\n",
              "      <td>0.545455</td>\n",
              "      <td>0.136364</td>\n",
              "      <td>0.052210</td>\n",
              "      <td>0.045455</td>\n",
              "      <td>0.096370</td>\n",
              "      <td>0.048976</td>\n",
              "      <td>0.140434</td>\n",
              "      <td>0.093257</td>\n",
              "      <td>0.110468</td>\n",
              "      <td>0.045455</td>\n",
              "      <td>0.050488</td>\n",
              "      <td>0.187374</td>\n",
              "      <td>0.063963</td>\n",
              "      <td>0.195518</td>\n",
              "      <td>0.159758</td>\n",
              "      <td>0.101197</td>\n",
              "      <td>0.055574</td>\n",
              "      <td>0.103194</td>\n",
              "      <td>0.144520</td>\n",
              "      <td>0.053633</td>\n",
              "      <td>0.003575</td>\n",
              "    </tr>\n",
              "    <tr>\n",
              "      <th>4</th>\n",
              "      <td>20.0</td>\n",
              "      <td>1999.0</td>\n",
              "      <td>2000.0</td>\n",
              "      <td>0.823023</td>\n",
              "      <td>1.0</td>\n",
              "      <td>0.0</td>\n",
              "      <td>3</td>\n",
              "      <td>-0.024892</td>\n",
              "      <td>-0.024929</td>\n",
              "      <td>0.041267</td>\n",
              "      <td>0.705573</td>\n",
              "      <td>-0.001713</td>\n",
              "      <td>-0.014429</td>\n",
              "      <td>1</td>\n",
              "      <td>1.093648</td>\n",
              "      <td>1.560280</td>\n",
              "      <td>-0.015406</td>\n",
              "      <td>0.942174</td>\n",
              "      <td>0.995699</td>\n",
              "      <td>1.221034</td>\n",
              "      <td>0.068754</td>\n",
              "      <td>0.933610</td>\n",
              "      <td>0.966150</td>\n",
              "      <td>1.000184</td>\n",
              "      <td>0.650432</td>\n",
              "      <td>0.656074</td>\n",
              "      <td>0.701689</td>\n",
              "      <td>1.265350</td>\n",
              "      <td>1.254468</td>\n",
              "      <td>1.172917</td>\n",
              "      <td>-0.000791</td>\n",
              "      <td>0.002083</td>\n",
              "      <td>0.176471</td>\n",
              "      <td>0.000000</td>\n",
              "      <td>0.000000</td>\n",
              "      <td>0.764706</td>\n",
              "      <td>-0.000278</td>\n",
              "      <td>0.003717</td>\n",
              "      <td>0.117647</td>\n",
              "      <td>0.000000</td>\n",
              "      <td>...</td>\n",
              "      <td>0.176471</td>\n",
              "      <td>0.647059</td>\n",
              "      <td>-0.001826</td>\n",
              "      <td>0.011784</td>\n",
              "      <td>0.117647</td>\n",
              "      <td>0.054348</td>\n",
              "      <td>0.058824</td>\n",
              "      <td>0.764706</td>\n",
              "      <td>0.001092</td>\n",
              "      <td>0.007639</td>\n",
              "      <td>0.000000</td>\n",
              "      <td>0.000000</td>\n",
              "      <td>0.176471</td>\n",
              "      <td>0.764706</td>\n",
              "      <td>-0.000721</td>\n",
              "      <td>0.000000</td>\n",
              "      <td>0.176471</td>\n",
              "      <td>0.010870</td>\n",
              "      <td>0.000000</td>\n",
              "      <td>0.764706</td>\n",
              "      <td>0.000000</td>\n",
              "      <td>0.178554</td>\n",
              "      <td>0.058824</td>\n",
              "      <td>0.121364</td>\n",
              "      <td>0.000000</td>\n",
              "      <td>0.176471</td>\n",
              "      <td>0.176471</td>\n",
              "      <td>0.068988</td>\n",
              "      <td>0.176471</td>\n",
              "      <td>0.004167</td>\n",
              "      <td>0.058824</td>\n",
              "      <td>0.184109</td>\n",
              "      <td>0.117647</td>\n",
              "      <td>0.312405</td>\n",
              "      <td>0.176471</td>\n",
              "      <td>0.129003</td>\n",
              "      <td>0.176471</td>\n",
              "      <td>0.253588</td>\n",
              "      <td>0.176471</td>\n",
              "      <td>0.007639</td>\n",
              "    </tr>\n",
              "  </tbody>\n",
              "</table>\n",
              "<p>5 rows × 212 columns</p>\n",
              "</div>"
            ],
            "text/plain": [
              "    cik      y1      y2  ...  Discrep_down  Reward_up  Reward_down\n",
              "0  20.0  1995.0  1996.0  ...      0.248916   0.190476     0.193121\n",
              "1  20.0  1996.0  1997.0  ...      0.070482   0.200000     0.207947\n",
              "2  20.0  1997.0  1998.0  ...      0.202532   0.002960     0.268170\n",
              "3  20.0  1998.0  1999.0  ...      0.144520   0.053633     0.003575\n",
              "4  20.0  1999.0  2000.0  ...      0.253588   0.176471     0.007639\n",
              "\n",
              "[5 rows x 212 columns]"
            ]
          },
          "metadata": {
            "tags": []
          },
          "execution_count": 13
        }
      ]
    },
    {
      "cell_type": "code",
      "metadata": {
        "id": "dFPQxWfzmxA5"
      },
      "source": [
        "df_fl = df[(df.y2 <= 2012) & (df.y2 >= 1995 ) ]"
      ],
      "execution_count": 14,
      "outputs": []
    },
    {
      "cell_type": "code",
      "metadata": {
        "colab": {
          "base_uri": "https://localhost:8080/"
        },
        "id": "cHk9KoNgdKnU",
        "outputId": "b5b68111-eff3-4f8e-dd76-fc949658944d"
      },
      "source": [
        "df_fl.label.value_counts()"
      ],
      "execution_count": 15,
      "outputs": [
        {
          "output_type": "execute_result",
          "data": {
            "text/plain": [
              "0.0    53148\n",
              "1.0      487\n",
              "Name: label, dtype: int64"
            ]
          },
          "metadata": {
            "tags": []
          },
          "execution_count": 15
        }
      ]
    },
    {
      "cell_type": "code",
      "metadata": {
        "colab": {
          "base_uri": "https://localhost:8080/"
        },
        "id": "htklHIW9JDXK",
        "outputId": "95f1d94a-e526-465a-acf9-bf43cbfff6f5"
      },
      "source": [
        "df_fl.shape"
      ],
      "execution_count": 16,
      "outputs": [
        {
          "output_type": "execute_result",
          "data": {
            "text/plain": [
              "(53635, 212)"
            ]
          },
          "metadata": {
            "tags": []
          },
          "execution_count": 16
        }
      ]
    },
    {
      "cell_type": "code",
      "metadata": {
        "id": "czKM_c73sGzE"
      },
      "source": [
        "selected_new = ['WeakModal', 'Litigious', 'StrongModal','Negative', 'Positive', 'Uncertainty', \r\n",
        "        'Compare', 'Achieve', 'Discrep', 'Reward']\r\n",
        "\r\n",
        "v_perf = ['aqi',\r\n",
        " 'asset_turnover',\r\n",
        " 'depi',\r\n",
        " 'gmi',\r\n",
        " #'ig',\r\n",
        " 'opm',\r\n",
        " 'rg',\r\n",
        " 'sg',\r\n",
        " 'sgee',\r\n",
        " 'ch_rec',\r\n",
        " 'ch_inv',\r\n",
        " 'soft_asset',\r\n",
        " 'ch_cs',\r\n",
        " 'ch_roa',\r\n",
        " 'issue']\r\n",
        "\r\n",
        "v_1 = ['s1']\r\n",
        "v_2 = ['pastavg3','cr3']"
      ],
      "execution_count": 17,
      "outputs": []
    },
    {
      "cell_type": "code",
      "metadata": {
        "id": "WqB8Sa2NDeFF"
      },
      "source": [
        "selected_comb = []\r\n",
        "for s in selected_new:\r\n",
        "  selected_comb.append(s+'_up')\r\n",
        "  selected_comb.append(s+'_down')"
      ],
      "execution_count": 18,
      "outputs": []
    },
    {
      "cell_type": "code",
      "metadata": {
        "id": "u09YX6QTsRjF"
      },
      "source": [
        "selected_new_all = []\r\n",
        "temp = []\r\n",
        "for s in selected_new:\r\n",
        "    wrd = s.split('_')[0]\r\n",
        "    if wrd not in temp:\r\n",
        "        #print(s,'\\n',temp)\r\n",
        "        #selected_new_all.append(wrd+'_3_avg')\r\n",
        "        selected_new_all.append(wrd+'_3_p')\r\n",
        "        selected_new_all.append(wrd+'_3_n')\r\n",
        "        #selected_new_all.append(wrd+'_3_u')\r\n",
        "        selected_new_all.append(wrd+'_3_new')\r\n",
        "        selected_new_all.append(wrd+'_3_dis')\r\n",
        "        temp.append(wrd)\r\n",
        "    else: \r\n",
        "        pass"
      ],
      "execution_count": 19,
      "outputs": []
    },
    {
      "cell_type": "code",
      "metadata": {
        "id": "5hLnGyW7J_Yg"
      },
      "source": [
        "# def model_cnn(w, num_wrds, num_depth):\r\n",
        "#   model = None\r\n",
        "#   input_wds = Input(shape=(w, num_wrds, 1),dtype='float32', name='input_words')\r\n",
        "\r\n",
        "#   cov = Conv2D(4, (2,2), activation='relu')(input_wds)\r\n",
        "#   maxpool = MaxPooling2D((1,1))(cov)\r\n",
        "#   #reshp = Reshape((1,64))(maxpool)\r\n",
        "#   #flt = Flatten()(maxpool)\r\n",
        "#   model = Model(inputs=input_wds, outputs= maxpool)\r\n",
        "#   model._name = 'cnn'          \r\n",
        "#   model.summary()\r\n",
        "#   return model\r\n",
        "\r\n"
      ],
      "execution_count": 20,
      "outputs": []
    },
    {
      "cell_type": "code",
      "metadata": {
        "id": "AVlUupiwsRkI"
      },
      "source": [
        "# def model_lstm(n1, n2, n3, w, num_wrds, num_perf, num_depth):\r\n",
        "#     model = None\r\n",
        "    \r\n",
        "#     input_perf = Input(shape=(1,num_perf),dtype='float32', name='input_financial')\r\n",
        "#     input_wds = Input(shape=(w,num_wrds),dtype='float32', name='input_words')\r\n",
        "\r\n",
        "#     cnnmodel = model_cnn(w, num_wrds, num_depth)\r\n",
        "#     cnn_wrds = cnnmodel(input_wds)\r\n",
        "\r\n",
        "#     reshp_perf = Reshape((1,num_perf))(input_perf)\r\n",
        "\r\n",
        "#     concate = Concatenate(axis=-1)([cnn_wrds,input_perf])\r\n",
        "\r\n",
        "#     #nor = BatchNormalization()(concate)\r\n",
        "#     drop1 = Dropout(0.3)(concate)\r\n",
        "#     #nor = BatchNormalization()(drop1)\r\n",
        "#     # LSTM_w_1 = Bidirectional(LSTM(81,recurrent_dropout = 0.2, name = 'layer_lstm_1',\\\r\n",
        "#     #                   return_sequences=True, \\\r\n",
        "#     #                #kernel_regularizer=regularizers.l2(0.01),\\\r\n",
        "#     #                #bias_regularizer=regularizers.l2(0.01),\r\n",
        "#     #               activity_regularizer=regularizers.l2(0.01)))(drop1)\r\n",
        "#     LSTM_w_2 = LSTM(81,recurrent_dropout = 0.2, name = 'layer_lstm_2', \\\r\n",
        "#                 return_sequences=False )(drop1)        \r\n",
        "#     #nor = BatchNormalization()(LSTM_w_2)\r\n",
        "#     dense1 = Dense(81, activation='relu', name='dense1')(LSTM_w_2)\r\n",
        "#     dense2 = Dense(n3, activation='relu', name='dense2')(dense1)\r\n",
        "#     nor = BatchNormalization()(dense2)\r\n",
        "#     drop2 = Dropout(0.3)(nor)\r\n",
        "    \r\n",
        "#     preds = Dense(1, activation='sigmoid', name='output')(drop2)\r\n",
        "#     model = Model(inputs=[input_perf, input_wds], outputs=preds)\r\n",
        "#     model._name = \"lstm\"\r\n",
        "#     model.summary()\r\n",
        "    \r\n",
        "#     return model"
      ],
      "execution_count": 21,
      "outputs": []
    },
    {
      "cell_type": "code",
      "metadata": {
        "id": "YDstFvvF2Jav"
      },
      "source": [
        "def model_cnn_lstm(n1,n2,n3,T, perf, words,channel, filters = 24):\r\n",
        "    model = None\r\n",
        "    \r\n",
        "    input_perf = Input(shape=(T,perf), \\\r\n",
        "                      dtype='float32', name='input_perf')\r\n",
        "    \r\n",
        "    input_words = Input(shape=(T,words,channel), \\\r\n",
        "                      dtype='float32', name='input_words')\r\n",
        "    conv = Conv2D(filters = filters,\\\r\n",
        "                  kernel_size = (1,1),\\\r\n",
        "                  activation = 'relu')(input_words)  # Shape None x T x words x filters\r\n",
        "    print(\"conv shape:\", K.int_shape(conv))\r\n",
        "    \r\n",
        "    pool = MaxPooling2D(pool_size=(1, 10), \\\r\n",
        "                        strides=(1,1))(conv) # None x T x filters\r\n",
        "    print(\"pool_init shape:\", K.int_shape(pool))\r\n",
        "    pool = Reshape((T, 24))(pool)\r\n",
        "    print(\"pool shape:\", K.int_shape(pool))\r\n",
        "    \r\n",
        "    #drop = Dropout(0.3)(input_all)\r\n",
        "    # Now concatenate\r\n",
        "    all_input = Concatenate(axis = -1)([input_perf, pool])\r\n",
        "    nor = BatchNormalization()(all_input)\r\n",
        "    \r\n",
        "    LSTM_w_1 = Bidirectional(LSTM(159,  recurrent_dropout = 0.2,\\\r\n",
        "                    name = 'layer_lstm_1', return_sequences=True,\r\n",
        "                    kernel_regularizer = regularizers.l2(0.01),\r\n",
        "                    activity_regularizer = regularizers.l2(0.01)))(nor)\r\n",
        "    LSTM_w_2 = LSTM(159, recurrent_dropout = 0.2,\r\n",
        "                   name = 'layer_lstm_2', return_sequences=False)(LSTM_w_1)\r\n",
        "\r\n",
        "    dense = Dense(32, activation='relu', name='dense')(LSTM_w_2)\r\n",
        "    nor = BatchNormalization()(dense)\r\n",
        "    drop = Dropout(0.3)(nor)\r\n",
        "    preds = Dense(1, activation='sigmoid', name='output')(drop)\r\n",
        "    model = Model(inputs=[input_perf, input_words], outputs=preds)\r\n",
        "    model._name = \"model_cnnlstm\"\r\n",
        "    model.summary()\r\n",
        "    \r\n",
        "    return model"
      ],
      "execution_count": 91,
      "outputs": []
    },
    {
      "cell_type": "code",
      "metadata": {
        "id": "744Oq8vYvbsF"
      },
      "source": [
        "def performance_measure(pred_yp, y):\r\n",
        "    '''\r\n",
        "    Given lists of predicted y probability and x, y, return a dataframe of AR, AUC, Brier, Decile Table\r\n",
        "    '''\r\n",
        "    \r\n",
        "    tenc_dat = pd.DataFrame({'y_true':y,'probability':pred_yp.flatten()})\r\n",
        "    tenc_dat.sort_values('probability',axis = 0,ascending=False, inplace = True)\r\n",
        "    tenc_dat.index = range(0,len(tenc_dat))\r\n",
        "    y = tenc_dat['y_true']\r\n",
        "    point = float(len(tenc_dat))/10\r\n",
        "    point = int(round(point))\r\n",
        "    tenc = []\r\n",
        "    for i in range(0,10):\r\n",
        "        tenc.append(y[(i*point):((i+1)*point)])\r\n",
        "    tenc[9]=tenc[9].append(y[10*point:])\r\n",
        "    total = sum(y)\r\n",
        "    num_of_bkr = []\r\n",
        "    for j in range(0,10):\r\n",
        "        num_of_bkr.append(sum(tenc[j]))\r\n",
        "    tencile_bkr = np.array(num_of_bkr)\r\n",
        "    rate = tencile_bkr.astype(float)/total\r\n",
        "\r\n",
        "    return rate"
      ],
      "execution_count": 23,
      "outputs": []
    },
    {
      "cell_type": "code",
      "metadata": {
        "id": "D1oy1Jcrvd1Y"
      },
      "source": [
        "class AUCEvaluation(Callback):\r\n",
        "    \"\"\" Show AUC after interval number of epoches \"\"\"\r\n",
        "    def __init__(self, validation_data=(), interval=1):\r\n",
        "        super(Callback, self).__init__()\r\n",
        "        self.interval = interval\r\n",
        "        self.X_val, self.y_val = validation_data\r\n",
        "\r\n",
        "    def on_epoch_end(self, epoch, logs={}):\r\n",
        "        if epoch % self.interval == 0:\r\n",
        "            y_pred = self.model.predict(self.X_val, verbose=0)\r\n",
        "            score = roc_auc_score(self.y_val, y_pred)\r\n",
        "            logs['auc'] = score\r\n",
        "            tencile=performance_measure(y_pred, self.y_val)\r\n",
        "            logs['tencile'] = tencile\r\n",
        "            print(\" epoch:{:d} auc: {:.4f}\".format(epoch, score))\r\n"
      ],
      "execution_count": 24,
      "outputs": []
    },
    {
      "cell_type": "code",
      "metadata": {
        "id": "3gmZEw24vv9R"
      },
      "source": [
        "def fit_model( model,x_train, y_train, x_val, y_val, x_test, y_test, model_name, verbose = 0):\r\n",
        "    \r\n",
        "    history = None\r\n",
        "    result = None\r\n",
        "    \r\n",
        "    model_df = model\r\n",
        "    print('in fit', y_test.shape)\r\n",
        "    #class weight\r\n",
        "    class_weights = class_weight.compute_class_weight('balanced',\r\n",
        "                              np.unique(y_train),\r\n",
        "                              y_train)\r\n",
        "    class_weights = {l:c for l,c in zip(np.unique(y_train), class_weights)}\r\n",
        "    # class weight for val\r\n",
        "    val_class_weights = class_weight.compute_class_weight('balanced',\r\n",
        "                                np.unique(y_test),\r\n",
        "                                y_test)\r\n",
        "    val_class_weights = {l:c for l,c in zip(np.unique(y_test), val_class_weights)}\r\n",
        "    val_sample_weights = []\r\n",
        "    for y in y_test:\r\n",
        "        if y == 1:\r\n",
        "          val_sample_weights.append(val_class_weights[1])\r\n",
        "        else: val_sample_weights.append(val_class_weights[0])\r\n",
        "    val_sample_weights = np.asarray(val_sample_weights)\r\n",
        "    print('in fit val weights', val_sample_weights.shape)\r\n",
        "    \r\n",
        "    auc_eval = AUCEvaluation(validation_data=(x_val, y_val), interval=1)\r\n",
        "    earlyStopping = EarlyStopping(monitor='val_loss',patience = 3, verbose =verbose, mode ='min')\r\n",
        "    checkpoint = ModelCheckpoint(model_name,monitor='val_my_auc',verbose=verbose,save_best_only=True, save_weights_only=True, mode ='max')\r\n",
        "\r\n",
        "    opt = optimizers.RMSprop(lr=0.0005)\r\n",
        "    model_df.compile(optimizer= opt,\r\n",
        "              loss='binary_crossentropy',\r\n",
        "              metrics=['accuracy', metrics.AUC(name='my_auc')])\r\n",
        "\r\n",
        "    history = model_df.fit(x_train,\r\n",
        "                y_train,\r\n",
        "                epochs=12,\r\n",
        "                batch_size=128,\r\n",
        "                verbose =verbose,\r\n",
        "                #callbacks=[auc_eval],\\\r\n",
        "                callbacks=[auc_eval, earlyStopping, checkpoint], #checkpoint\r\n",
        "                class_weight = class_weights, \\\r\n",
        "                validation_data=(x_val, y_val, val_sample_weights)) \r\n",
        "    \r\n",
        "    model_df.load_weights(model_name)\r\n",
        "    y_pred = model_df.predict(x_test)\r\n",
        "    y_pred_1=np.reshape(y_pred, -1)\r\n",
        "    auc_score = roc_auc_score(y_test, y_pred_1)\r\n",
        "    #auc_score = roc_auc_score(y_test, y_pred_1)\r\n",
        "    fpr, tpr, thresholds = roc_curve(y_test, y_pred_1)\r\n",
        "    print(\"AUC: \" ,round(auc_score,4))\r\n",
        "        \r\n",
        "    plt.plot(history.history['loss'])\r\n",
        "    plt.plot(history.history['val_loss'])\r\n",
        "    plt.title('loss')\r\n",
        "    plt.ylabel('loss')\r\n",
        "    plt.xlabel('epoch')\r\n",
        "    plt.legend(['train', 'val'], loc='upper left')\r\n",
        "    plt.show()\r\n",
        "\r\n",
        "        \r\n",
        "    return history, auc_score, fpr, tpr, thresholds, [y_test, y_pred_1]"
      ],
      "execution_count": 39,
      "outputs": []
    },
    {
      "cell_type": "code",
      "metadata": {
        "id": "Bo3ShzQyoSci"
      },
      "source": [
        "def cross_val(data, label, perf_cols, words_cols, name, w, filters = 24):\r\n",
        "    tprs = []\r\n",
        "    auc_list = []\r\n",
        "    mean_fpr = np.linspace(0,1,100)\r\n",
        "    predicted_res =[]\r\n",
        "    \r\n",
        "    kf = StratifiedKFold(n_splits = 3, shuffle = True, random_state = 24)\r\n",
        "    c = 0\r\n",
        "\r\n",
        "    X_perf, X_word, Y = shift_data(df_fl, 2, \\\r\n",
        "                    perf_cols, \\\r\n",
        "                    words_cols, \\\r\n",
        "                    'label')\r\n",
        "    \r\n",
        "    for train_index, test_index in kf.split(range(len(X_perf)),Y):\r\n",
        "        \r\n",
        "        c += 1\r\n",
        "        \r\n",
        "        l1 = X_perf.shape[-1]+ filters + 16\r\n",
        "        \r\n",
        "        model = model_cnn_lstm(l1,l1,32,\\\r\n",
        "                               X_perf.shape[1],\\\r\n",
        "                               X_perf.shape[2],\r\n",
        "                               X_word.shape[2], \\\r\n",
        "                               X_word.shape[3], \\\r\n",
        "                               filters = 24)\r\n",
        "    \r\n",
        "        #model = model_lstm(n1,n2,n,w)\r\n",
        "        train_perf_data = X_perf[train_index]\r\n",
        "        train_word_data = X_word[train_index]\r\n",
        "        train_label = Y[train_index]\r\n",
        "        test_perf_x = X_perf[test_index]\r\n",
        "        test_word_x = X_word[test_index]\r\n",
        "        test_y = Y[test_index] \r\n",
        "        \r\n",
        "        train_data = [train_perf_data, train_word_data]\r\n",
        "        test_x = [test_perf_x, test_word_x]\r\n",
        "\r\n",
        "        mod_res = fit_model(model, train_data, train_label, test_x, test_y, test_x, test_y,\\\r\n",
        "                            name+'_'+str(c)+'_lstm_model')\r\n",
        "        history = mod_res[0]\r\n",
        "        \r\n",
        "        \r\n",
        "        \r\n",
        "        auc_list.append(mod_res[1])\r\n",
        "        tprs.append(np.interp(mean_fpr, mod_res[2], mod_res[3]))\r\n",
        "        temp_pred_res = [mod_res[-1],test_index]\r\n",
        "        print(len(test_index))\r\n",
        "        predicted_res.append(temp_pred_res)\r\n",
        "        \r\n",
        "        \r\n",
        "    mean_tpr = np.mean(tprs, axis=0)\r\n",
        "    print('avg_AUC : ', np.mean(auc_list))\r\n",
        "    print('avg_AUC_2 : ', auc(mean_fpr, mean_tpr))\r\n",
        "    \r\n",
        "    return np.average(auc_list),mean_tpr,predicted_res"
      ],
      "execution_count": 26,
      "outputs": []
    },
    {
      "cell_type": "code",
      "metadata": {
        "id": "yDLCeoltzOn6"
      },
      "source": [
        "def shift_data(data, step, perf_cols, words_cols, label):\r\n",
        "    A = []\r\n",
        "    \r\n",
        "    cols = perf_cols + words_cols\r\n",
        "    A.append(data[cols].values)\r\n",
        "    \r\n",
        "    for t in range(1, step):\r\n",
        "        d = data.groupby(\"cik\")[cols].shift(1)\r\n",
        "        A.append(d.values)\r\n",
        "    A = A[::-1]\r\n",
        "    A = np.concatenate(A, axis = 1)  # flatten shifted columns\r\n",
        "    A = np.concatenate([data[label].values[:,None], A], axis = 1)  # add target\r\n",
        "    np.random.shuffle(A)\r\n",
        "    #print(A[5])\r\n",
        "    print(A.shape)\r\n",
        "    \r\n",
        "    A = A[~np.isnan(A).any(axis=1)]  # drop nan\r\n",
        "    \r\n",
        "    # shuffle data\r\n",
        "    #A = shuffle(shuffle(A, random_state=23), random_state=32)\r\n",
        "    \r\n",
        "    Y = A[:,0]  # get target\r\n",
        "    #A = np.reshape(A[:,1:], (len(A), step, len(cols))) # reshape\r\n",
        "\r\n",
        "    A = np.reshape(A[:,1:], (len(A), step, len(perf_cols) + len(words_cols)))\r\n",
        "    \r\n",
        "    A_perf = A[:, :, 0:len(perf_cols)]\r\n",
        "    # CNN_LSTM must be None x T x words x 4\r\n",
        "    A_words = A[:, :, len(perf_cols):]\r\n",
        "    A_words = np.reshape(A_words, (len(A), step, int(len(words_cols)/4),4))\r\n",
        "    \r\n",
        "    print(A_perf.shape, A_words.shape, Y.sum())\r\n",
        "    return A_perf, A_words, Y\r\n"
      ],
      "execution_count": 38,
      "outputs": []
    },
    {
      "cell_type": "code",
      "metadata": {
        "colab": {
          "base_uri": "https://localhost:8080/",
          "height": 1000
        },
        "id": "xCGS_HCd2CiB",
        "cellView": "code",
        "outputId": "20fad76d-3f7f-4013-9ba0-c777dd0eefb0"
      },
      "source": [
        "#@title Default title text\n",
        "print(\"\\n ======= Select columns for LSTM ALL OBS.=========\")\n",
        "\n",
        "result = []\n",
        "\n",
        "# First choose all varaibles\n",
        "#cols = v_perf + v_1+ v_2 + selected_new_all #must order like this\n",
        "w = 2\n",
        "perf_cols = v_perf + v_1+ v_2\n",
        "words_cols = selected_new_all\n",
        "num_depth = 4\n",
        "label = 'label'\n",
        "h = cross_val( df_fl, 'label', \\\n",
        "          v_perf + v_1,\\\n",
        "          selected_new_all, \\\n",
        "          'cnn_lstm',w, \\\n",
        "          filters = 24)\n",
        "    \n",
        "best_auc = h[0]\n",
        "\n",
        "# Next, remove one from the list each time\n",
        "\n"
      ],
      "execution_count": 92,
      "outputs": [
        {
          "output_type": "stream",
          "text": [
            "\n",
            " ======= Select columns for LSTM ALL OBS.=========\n",
            "(53635, 111)\n",
            "(45945, 2, 15) (45945, 2, 10, 4) 408.0\n",
            "conv shape: (None, 2, 10, 24)\n",
            "pool_init shape: (None, 2, 1, 24)\n",
            "pool shape: (None, 2, 24)\n",
            "Model: \"model_cnnlstm\"\n",
            "__________________________________________________________________________________________________\n",
            "Layer (type)                    Output Shape         Param #     Connected to                     \n",
            "==================================================================================================\n",
            "input_words (InputLayer)        [(None, 2, 10, 4)]   0                                            \n",
            "__________________________________________________________________________________________________\n",
            "conv2d_50 (Conv2D)              (None, 2, 10, 24)    120         input_words[0][0]                \n",
            "__________________________________________________________________________________________________\n",
            "max_pooling2d_50 (MaxPooling2D) (None, 2, 1, 24)     0           conv2d_50[0][0]                  \n",
            "__________________________________________________________________________________________________\n",
            "input_perf (InputLayer)         [(None, 2, 15)]      0                                            \n",
            "__________________________________________________________________________________________________\n",
            "reshape_50 (Reshape)            (None, 2, 24)        0           max_pooling2d_50[0][0]           \n",
            "__________________________________________________________________________________________________\n",
            "concatenate_43 (Concatenate)    (None, 2, 39)        0           input_perf[0][0]                 \n",
            "                                                                 reshape_50[0][0]                 \n",
            "__________________________________________________________________________________________________\n",
            "batch_normalization_85 (BatchNo (None, 2, 39)        156         concatenate_43[0][0]             \n",
            "__________________________________________________________________________________________________\n",
            "bidirectional_32 (Bidirectional (None, 2, 318)       253128      batch_normalization_85[0][0]     \n",
            "__________________________________________________________________________________________________\n",
            "layer_lstm_2 (LSTM)             (None, 159)          304008      bidirectional_32[0][0]           \n",
            "__________________________________________________________________________________________________\n",
            "dense (Dense)                   (None, 32)           5120        layer_lstm_2[0][0]               \n",
            "__________________________________________________________________________________________________\n",
            "batch_normalization_86 (BatchNo (None, 32)           128         dense[0][0]                      \n",
            "__________________________________________________________________________________________________\n",
            "dropout_42 (Dropout)            (None, 32)           0           batch_normalization_86[0][0]     \n",
            "__________________________________________________________________________________________________\n",
            "output (Dense)                  (None, 1)            33          dropout_42[0][0]                 \n",
            "==================================================================================================\n",
            "Total params: 562,693\n",
            "Trainable params: 562,551\n",
            "Non-trainable params: 142\n",
            "__________________________________________________________________________________________________\n",
            "in fit (15315,)\n",
            "in fit val weights (15315,)\n",
            " epoch:0 auc: 0.6127\n",
            " epoch:1 auc: 0.6615\n",
            " epoch:2 auc: 0.6735\n",
            " epoch:3 auc: 0.6537\n",
            " epoch:4 auc: 0.6671\n",
            " epoch:5 auc: 0.6787\n",
            " epoch:6 auc: 0.6762\n",
            " epoch:7 auc: 0.6544\n",
            " epoch:8 auc: 0.6817\n",
            " epoch:9 auc: 0.6659\n",
            " epoch:10 auc: 0.6762\n",
            " epoch:11 auc: 0.6646\n",
            "AUC:  0.6817\n"
          ],
          "name": "stdout"
        },
        {
          "output_type": "display_data",
          "data": {
            "image/png": "[encoded data removed]",
            "text/plain": [
              "<Figure size 432x288 with 1 Axes>"
            ]
          },
          "metadata": {
            "tags": [],
            "needs_background": "light"
          }
        },
        {
          "output_type": "stream",
          "text": [
            "15315\n",
            "conv shape: (None, 2, 10, 24)\n",
            "pool_init shape: (None, 2, 1, 24)\n",
            "pool shape: (None, 2, 24)\n",
            "Model: \"model_cnnlstm\"\n",
            "__________________________________________________________________________________________________\n",
            "Layer (type)                    Output Shape         Param #     Connected to                     \n",
            "==================================================================================================\n",
            "input_words (InputLayer)        [(None, 2, 10, 4)]   0                                            \n",
            "__________________________________________________________________________________________________\n",
            "conv2d_51 (Conv2D)              (None, 2, 10, 24)    120         input_words[0][0]                \n",
            "__________________________________________________________________________________________________\n",
            "max_pooling2d_51 (MaxPooling2D) (None, 2, 1, 24)     0           conv2d_51[0][0]                  \n",
            "__________________________________________________________________________________________________\n",
            "input_perf (InputLayer)         [(None, 2, 15)]      0                                            \n",
            "__________________________________________________________________________________________________\n",
            "reshape_51 (Reshape)            (None, 2, 24)        0           max_pooling2d_51[0][0]           \n",
            "__________________________________________________________________________________________________\n",
            "concatenate_44 (Concatenate)    (None, 2, 39)        0           input_perf[0][0]                 \n",
            "                                                                 reshape_51[0][0]                 \n",
            "__________________________________________________________________________________________________\n",
            "batch_normalization_87 (BatchNo (None, 2, 39)        156         concatenate_44[0][0]             \n",
            "__________________________________________________________________________________________________\n",
            "bidirectional_33 (Bidirectional (None, 2, 318)       253128      batch_normalization_87[0][0]     \n",
            "__________________________________________________________________________________________________\n",
            "layer_lstm_2 (LSTM)             (None, 159)          304008      bidirectional_33[0][0]           \n",
            "__________________________________________________________________________________________________\n",
            "dense (Dense)                   (None, 32)           5120        layer_lstm_2[0][0]               \n",
            "__________________________________________________________________________________________________\n",
            "batch_normalization_88 (BatchNo (None, 32)           128         dense[0][0]                      \n",
            "__________________________________________________________________________________________________\n",
            "dropout_43 (Dropout)            (None, 32)           0           batch_normalization_88[0][0]     \n",
            "__________________________________________________________________________________________________\n",
            "output (Dense)                  (None, 1)            33          dropout_43[0][0]                 \n",
            "==================================================================================================\n",
            "Total params: 562,693\n",
            "Trainable params: 562,551\n",
            "Non-trainable params: 142\n",
            "__________________________________________________________________________________________________\n",
            "in fit (15315,)\n",
            "in fit val weights (15315,)\n",
            " epoch:0 auc: 0.6353\n",
            " epoch:1 auc: 0.7154\n",
            " epoch:2 auc: 0.7443\n",
            " epoch:3 auc: 0.6927\n",
            " epoch:4 auc: 0.6833\n",
            " epoch:5 auc: 0.7177\n",
            " epoch:6 auc: 0.7130\n",
            " epoch:7 auc: 0.7296\n",
            " epoch:8 auc: 0.7240\n",
            " epoch:9 auc: 0.7382\n",
            " epoch:10 auc: 0.7225\n",
            "AUC:  0.7443\n"
          ],
          "name": "stdout"
        },
        {
          "output_type": "display_data",
          "data": {
            "image/png": "[encoded data removed]",
            "text/plain": [
              "<Figure size 432x288 with 1 Axes>"
            ]
          },
          "metadata": {
            "tags": [],
            "needs_background": "light"
          }
        },
        {
          "output_type": "stream",
          "text": [
            "15315\n",
            "conv shape: (None, 2, 10, 24)\n",
            "pool_init shape: (None, 2, 1, 24)\n",
            "pool shape: (None, 2, 24)\n",
            "Model: \"model_cnnlstm\"\n",
            "__________________________________________________________________________________________________\n",
            "Layer (type)                    Output Shape         Param #     Connected to                     \n",
            "==================================================================================================\n",
            "input_words (InputLayer)        [(None, 2, 10, 4)]   0                                            \n",
            "__________________________________________________________________________________________________\n",
            "conv2d_52 (Conv2D)              (None, 2, 10, 24)    120         input_words[0][0]                \n",
            "__________________________________________________________________________________________________\n",
            "max_pooling2d_52 (MaxPooling2D) (None, 2, 1, 24)     0           conv2d_52[0][0]                  \n",
            "__________________________________________________________________________________________________\n",
            "input_perf (InputLayer)         [(None, 2, 15)]      0                                            \n",
            "__________________________________________________________________________________________________\n",
            "reshape_52 (Reshape)            (None, 2, 24)        0           max_pooling2d_52[0][0]           \n",
            "__________________________________________________________________________________________________\n",
            "concatenate_45 (Concatenate)    (None, 2, 39)        0           input_perf[0][0]                 \n",
            "                                                                 reshape_52[0][0]                 \n",
            "__________________________________________________________________________________________________\n",
            "batch_normalization_89 (BatchNo (None, 2, 39)        156         concatenate_45[0][0]             \n",
            "__________________________________________________________________________________________________\n",
            "bidirectional_34 (Bidirectional (None, 2, 318)       253128      batch_normalization_89[0][0]     \n",
            "__________________________________________________________________________________________________\n",
            "layer_lstm_2 (LSTM)             (None, 159)          304008      bidirectional_34[0][0]           \n",
            "__________________________________________________________________________________________________\n",
            "dense (Dense)                   (None, 32)           5120        layer_lstm_2[0][0]               \n",
            "__________________________________________________________________________________________________\n",
            "batch_normalization_90 (BatchNo (None, 32)           128         dense[0][0]                      \n",
            "__________________________________________________________________________________________________\n",
            "dropout_44 (Dropout)            (None, 32)           0           batch_normalization_90[0][0]     \n",
            "__________________________________________________________________________________________________\n",
            "output (Dense)                  (None, 1)            33          dropout_44[0][0]                 \n",
            "==================================================================================================\n",
            "Total params: 562,693\n",
            "Trainable params: 562,551\n",
            "Non-trainable params: 142\n",
            "__________________________________________________________________________________________________\n",
            "in fit (15315,)\n",
            "in fit val weights (15315,)\n",
            " epoch:0 auc: 0.6749\n",
            " epoch:1 auc: 0.7142\n",
            " epoch:2 auc: 0.7292\n",
            " epoch:3 auc: 0.7298\n",
            " epoch:4 auc: 0.7271\n",
            " epoch:5 auc: 0.7194\n",
            " epoch:6 auc: 0.7234\n",
            " epoch:7 auc: 0.6962\n",
            " epoch:8 auc: 0.7068\n",
            " epoch:9 auc: 0.7215\n",
            "AUC:  0.7298\n"
          ],
          "name": "stdout"
        },
        {
          "output_type": "display_data",
          "data": {
            "image/png": "[encoded data removed]",
            "text/plain": [
              "<Figure size 432x288 with 1 Axes>"
            ]
          },
          "metadata": {
            "tags": [],
            "needs_background": "light"
          }
        },
        {
          "output_type": "stream",
          "text": [
            "15315\n",
            "avg_AUC :  0.7186027780899567\n",
            "avg_AUC_2 :  0.7186324024559319\n"
          ],
          "name": "stdout"
        }
      ]
    },
    {
      "cell_type": "code",
      "metadata": {
        "id": "GazZJdEKg20L",
        "colab": {
          "base_uri": "https://localhost:8080/"
        },
        "outputId": "0cec7bcd-7629-4038-9138-fdd41f0de6a3"
      },
      "source": [
        "#best_auc"
      ],
      "execution_count": null,
      "outputs": [
        {
          "output_type": "execute_result",
          "data": {
            "text/plain": [
              "0.752735165519567"
            ]
          },
          "metadata": {
            "tags": []
          },
          "execution_count": 75
        }
      ]
    },
    {
      "cell_type": "code",
      "metadata": {
        "id": "rSUyWOb4BXMq"
      },
      "source": [
        "\r\n",
        "#all_cols = selected_new_all\r\n",
        "\r\n",
        "# selected_cols = selected_new_all + v_1 + v_2\r\n",
        "# random.shuffle(selected_cols)\r\n",
        "\r\n",
        "# for col in selected_cols:\r\n",
        "    \r\n",
        "#     print(\"\\n ===========Test {}============\\n\".format(col))\r\n",
        "    \r\n",
        "#     test_cols = [item for item in selected_cols if item !=col]\r\n",
        "#     #test_cols = v_perf + v_1+ v_2 + [col]\r\n",
        "    \r\n",
        "#     # n1 = 2*len(test_cols)\r\n",
        "#     # n2 = len(test_cols)\r\n",
        "#     label = 'label'\r\n",
        "#     h = cross_val( df_fl, label, test_cols + v_perf, 'lstm_wds', 2)\r\n",
        "\r\n",
        "#     gap = h[0] - best_auc\r\n",
        "#     print('****** gap: {0:.4f}'.format(gap))\r\n",
        "    \r\n",
        "#     result.append([col, h[0], best_auc, gap]) #gap\r\n",
        "    \r\n",
        "#     if h[0]>= best_auc:  # better to drop col\r\n",
        "        \r\n",
        "#         selected_cols = test_cols\r\n",
        "        \r\n",
        "#         best_auc = h[0]\r\n",
        "        \r\n",
        "#         print(\"*** {} removed ***\".format(col))\r\n",
        "    \r\n",
        "#     print(\"current auc: {0:.4f}\\tbest_auc: {1:.4f}\\tcolumn: {2}\".format(h[0], best_auc, col))\r\n",
        "#     print(\"selected columns: \", selected_cols)\r\n",
        "\r\n",
        "\r\n",
        "# pd.DataFrame(result, columns = [\"column\", \"auc\", \"prev_auc\",\"gap\"]).to_csv(\"var_selection_lstm_bi_2.csv\")   "
      ],
      "execution_count": 91,
      "outputs": []
    },
    {
      "cell_type": "code",
      "metadata": {
        "id": "_DSUDXmCJjAM"
      },
      "source": [
        "print(random.shuffle(selected_new_all))"
      ],
      "execution_count": null,
      "outputs": []
    },
    {
      "cell_type": "code",
      "metadata": {
        "id": "3ZtYwaE4J-zF",
        "colab": {
          "base_uri": "https://localhost:8080/"
        },
        "outputId": "72c73139-ac7c-4e72-850f-22424b79fc8d"
      },
      "source": [
        "'Litigious_3_dis' in list(df_fl.columns)"
      ],
      "execution_count": null,
      "outputs": [
        {
          "output_type": "execute_result",
          "data": {
            "text/plain": [
              "True"
            ]
          },
          "metadata": {
            "tags": []
          },
          "execution_count": 42
        }
      ]
    },
    {
      "cell_type": "code",
      "metadata": {
        "id": "Tygu3EpmnZl7"
      },
      "source": [
        ""
      ],
      "execution_count": null,
      "outputs": []
    }
  ]
}