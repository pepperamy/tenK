{
 "cells": [
  {
   "cell_type": "code",
   "execution_count": 1,
   "metadata": {},
   "outputs": [],
   "source": [
    "from nltk.corpus import stopwords\n",
    "from nltk.stem import PorterStemmer\n",
    "from nltk.tokenize import word_tokenize, sent_tokenize"
   ]
  },
  {
   "cell_type": "code",
   "execution_count": 2,
   "metadata": {},
   "outputs": [],
   "source": [
    "import pickle"
   ]
  },
  {
   "cell_type": "code",
   "execution_count": 3,
   "metadata": {},
   "outputs": [],
   "source": [
    "import time\n",
    "import multiprocessing as mp"
   ]
  },
  {
   "cell_type": "code",
   "execution_count": 4,
   "metadata": {},
   "outputs": [],
   "source": [
    "import numpy as np"
   ]
  },
  {
   "cell_type": "code",
   "execution_count": 5,
   "metadata": {},
   "outputs": [],
   "source": [
    "def load_data(data_name):\n",
    "    f = open(data_name,'rb')\n",
    "    data = pickle.load(f)\n",
    "    return data"
   ]
  },
  {
   "cell_type": "code",
   "execution_count": 6,
   "metadata": {},
   "outputs": [],
   "source": [
    "def get_doc(text_para):\n",
    "    text_doc = []\n",
    "    for d in text_para:\n",
    "        text_doc.append(d)\n",
    "    return ' '.join(text_doc)"
   ]
  },
  {
   "cell_type": "code",
   "execution_count": 7,
   "metadata": {},
   "outputs": [],
   "source": [
    "def _create_frequency_table(text_string):\n",
    "\n",
    "    stopWords = set(stopwords.words(\"english\"))\n",
    "    words = word_tokenize(text_string)\n",
    "    ps = PorterStemmer()\n",
    "\n",
    "    freqTable = dict()\n",
    "    for word in words:\n",
    "        word = ps.stem(word)\n",
    "        if word in stopWords:\n",
    "            continue\n",
    "        if word in freqTable:\n",
    "            freqTable[word] += 1\n",
    "        else:\n",
    "            freqTable[word] = 1\n",
    "\n",
    "    return freqTable"
   ]
  },
  {
   "cell_type": "code",
   "execution_count": 8,
   "metadata": {},
   "outputs": [],
   "source": [
    "def _score_sentences(sentences, freqTable):\n",
    "    sentenceValue = dict()\n",
    "\n",
    "    for sentence in sentences:\n",
    "        word_count_in_sentence = (len(word_tokenize(sentence)))\n",
    "        for wordValue in freqTable:\n",
    "            if wordValue in sentence.lower():\n",
    "                if sentence[:10] in sentenceValue:\n",
    "                    sentenceValue[sentence[:10]] += freqTable[wordValue]\n",
    "                else:\n",
    "                    sentenceValue[sentence[:10]] = freqTable[wordValue]\n",
    "\n",
    "        sentenceValue[sentence[:10]] = sentenceValue[sentence[:10]] // word_count_in_sentence\n",
    "\n",
    "    return sentenceValue"
   ]
  },
  {
   "cell_type": "code",
   "execution_count": 9,
   "metadata": {},
   "outputs": [],
   "source": [
    "def _find_average_score(sentenceValue) -> int:\n",
    "    sumValues = 0\n",
    "    for entry in sentenceValue:\n",
    "        sumValues += sentenceValue[entry]\n",
    "\n",
    "    if len(sentenceValue) != 0:\n",
    "        average = int(sumValues / len(sentenceValue))\n",
    "    else: average = 0\n",
    "\n",
    "    return average"
   ]
  },
  {
   "cell_type": "code",
   "execution_count": 10,
   "metadata": {},
   "outputs": [],
   "source": [
    "def _generate_summary(sentences, sentenceValue, threshold):\n",
    "    sentence_count = 0\n",
    "    summary = []\n",
    "\n",
    "    for sentence in sentences:\n",
    "        if sentence[:10] in sentenceValue and sentenceValue[sentence[:10]] > (threshold):\n",
    "            summary.append(sentence) \n",
    "            sentence_count += 1\n",
    "            \n",
    "    if sentence_count == 0:\n",
    "        summary = sentences\n",
    "\n",
    "    return summary"
   ]
  },
  {
   "cell_type": "code",
   "execution_count": 11,
   "metadata": {},
   "outputs": [],
   "source": [
    "# def get_summary_2(item):\n",
    "#     text = item[0]\n",
    "#     doc = get_doc(text)\n",
    "#     frq_tb = _create_frequency_table(doc)\n",
    "#     print(frq_tb)\n",
    "#     value = _score_sentences(text, frq_tb)\n",
    "#     print(value)\n",
    "#     threshold = _find_average_score(value)\n",
    "#     print(threshold)\n",
    "#     smr = _generate_summary(text, value, threshold)\n",
    "#     return (item[0], item[1], item[2], item[3], smr)"
   ]
  },
  {
   "cell_type": "code",
   "execution_count": 12,
   "metadata": {},
   "outputs": [],
   "source": [
    "def get_summary(item1, item2, item3, item4):\n",
    "    text = item1\n",
    "    doc = get_doc(text)\n",
    "    frq_tb = _create_frequency_table(doc)\n",
    "    value = _score_sentences(text, frq_tb)\n",
    "    threshold = _find_average_score(value)\n",
    "    smr = _generate_summary(text, value, threshold)\n",
    "    return (item1, item2, item3, item4, smr)"
   ]
  },
  {
   "cell_type": "code",
   "execution_count": 13,
   "metadata": {},
   "outputs": [],
   "source": [
    "raw_data = load_data('/home/jujun/fraudprediction_10k/data/rm_name/data_20200309_2012_rmname')"
   ]
  },
  {
   "cell_type": "code",
   "execution_count": 14,
   "metadata": {},
   "outputs": [
    {
     "data": {
      "text/plain": [
       "56288"
      ]
     },
     "execution_count": 14,
     "metadata": {},
     "output_type": "execute_result"
    }
   ],
   "source": [
    "len(raw_data)"
   ]
  },
  {
   "cell_type": "code",
   "execution_count": 15,
   "metadata": {},
   "outputs": [
    {
     "name": "stdout",
     "output_type": "stream",
     "text": [
      "send process 1000\n",
      "send process 2000\n",
      "send process 3000\n",
      "send process 4000\n",
      "send process 5000\n",
      "send process 6000\n",
      "send process 7000\n",
      "send process 8000\n",
      "send process 9000\n",
      "send process 10000\n",
      "send process 11000\n",
      "send process 12000\n",
      "send process 13000\n",
      "send process 14000\n",
      "send process 15000\n",
      "send process 16000\n",
      "send process 17000\n",
      "send process 18000\n",
      "send process 19000\n",
      "send process 20000\n",
      "send process 21000\n",
      "send process 22000\n",
      "send process 23000\n",
      "send process 24000\n",
      "send process 25000\n",
      "send process 26000\n",
      "send process 27000\n",
      "send process 28000\n",
      "send process 29000\n",
      "send process 30000\n",
      "send process 31000\n",
      "send process 32000\n",
      "send process 33000\n",
      "send process 34000\n",
      "send process 35000\n",
      "send process 36000\n",
      "send process 37000\n",
      "send process 38000\n",
      "send process 39000\n",
      "send process 40000\n",
      "send process 41000\n",
      "send process 42000\n",
      "send process 43000\n",
      "send process 44000\n",
      "send process 45000\n",
      "send process 46000\n",
      "send process 47000\n",
      "send process 48000\n",
      "send process 49000\n",
      "send process 50000\n",
      "send process 51000\n",
      "send process 52000\n",
      "send process 53000\n",
      "send process 54000\n",
      "send process 55000\n",
      "send process 56000\n",
      "finish process 1000 @ 37.75023412704468\n",
      "finish process 2000 @ 73.7582356929779\n",
      "finish process 3000 @ 109.87862634658813\n",
      "finish process 4000 @ 142.09846210479736\n",
      "finish process 5000 @ 177.03761100769043\n",
      "finish process 6000 @ 213.585223197937\n",
      "finish process 7000 @ 245.98193836212158\n",
      "finish process 8000 @ 278.9183645248413\n",
      "finish process 9000 @ 318.57098150253296\n",
      "finish process 10000 @ 351.3750755786896\n",
      "finish process 11000 @ 384.90115213394165\n",
      "finish process 12000 @ 419.39388394355774\n",
      "finish process 13000 @ 454.15627551078796\n",
      "finish process 14000 @ 488.2228684425354\n",
      "finish process 15000 @ 520.821916103363\n",
      "finish process 16000 @ 558.3048295974731\n",
      "finish process 17000 @ 592.5572102069855\n",
      "finish process 18000 @ 622.3941743373871\n",
      "finish process 22000 @ 765.3123598098755\n",
      "finish process 23000 @ 800.1199855804443\n",
      "finish process 24000 @ 838.9671680927277\n",
      "finish process 25000 @ 870.6679677963257\n",
      "finish process 26000 @ 904.3780031204224\n",
      "finish process 27000 @ 941.3982815742493\n",
      "finish process 28000 @ 972.9881777763367\n",
      "finish process 29000 @ 1008.6162145137787\n",
      "finish process 30000 @ 1042.6006207466125\n",
      "finish process 31000 @ 1073.6635234355927\n",
      "finish process 32000 @ 1108.9322288036346\n",
      "finish process 33000 @ 1145.585219860077\n",
      "finish process 34000 @ 1181.4595351219177\n",
      "finish process 35000 @ 1216.8995888233185\n",
      "finish process 36000 @ 1251.9418869018555\n",
      "finish process 37000 @ 1286.7730419635773\n",
      "finish process 38000 @ 1321.2706215381622\n",
      "finish process 39000 @ 1360.6990311145782\n",
      "finish process 40000 @ 1392.6400725841522\n",
      "finish process 41000 @ 1426.1097960472107\n",
      "finish process 42000 @ 1460.0390694141388\n",
      "finish process 43000 @ 1491.9504067897797\n",
      "finish process 44000 @ 1529.1310756206512\n",
      "finish process 45000 @ 1563.9518084526062\n",
      "finish process 46000 @ 1594.9594571590424\n",
      "finish process 47000 @ 1631.0982792377472\n",
      "finish process 48000 @ 1663.9390864372253\n",
      "finish process 49000 @ 1700.4303603172302\n",
      "finish process 50000 @ 1730.1093847751617\n",
      "finish process 51000 @ 1765.6079285144806\n",
      "finish process 52000 @ 1810.1545822620392\n",
      "finish process 53000 @ 1839.6562974452972\n",
      "finish process 54000 @ 1876.9815831184387\n",
      "finish process 55000 @ 1910.82803273201\n",
      "finish process 56000 @ 1950.6388142108917\n"
     ]
    }
   ],
   "source": [
    "threads = 0\n",
    "finishes = 0\n",
    "pool=mp.Pool(processes=15)\n",
    "results = []\n",
    "text_smr = []\n",
    "start= time.time()\n",
    "n = len(raw_data)\n",
    "\n",
    "for i in np.arange(n):\n",
    "#     print('c', len(itm))\n",
    "#     print(itm)\n",
    "    threads += 1\n",
    "    if threads%1000 == 0:\n",
    "        print(\"send process {}\".format(threads))\n",
    "      \n",
    "    results.append(pool.apply_async(get_summary, args = (raw_data[i])))\n",
    "\n",
    "for rs in results:\n",
    "    finishes+=1\n",
    "    if finishes%1000 == 0:\n",
    "        print(\"finish process {} @ {}\".format(finishes, time.time()-start))\n",
    "    text_smr.append(rs.get())   "
   ]
  },
  {
   "cell_type": "code",
   "execution_count": 16,
   "metadata": {},
   "outputs": [
    {
     "data": {
      "text/plain": [
       "(['  derivative financial instruments.we do not hold or issue derivative financial instruments for trading purposes.we have used derivative financial instruments to manage our exposure to fluctuations in interest rates.neither the aggregate value of these derivative financial instruments nor the market risk posed by them has been material to our business.at december dd , dd , we were not using any derivative financial instruments .',\n",
       "  'interest rate exposure.based on our overall interest rate exposure during the year ended december31 , dd and assuming similar interest rate volatility in the future , a near - term ( dd ) change in interest rates would not materially affect our consolidated financial position , results of operation or cash dd of december dd , dd , we had no amounts outstanding under our credit facility and therefore no interest rate exposure .',\n",
       "  \"foreign exchange exposure.our revenue , expense and capital purchasing activities are primarily transacted in u.s . dollars.we have dd foreign operation that exposes us to translation risk when the local currency financial statements are translated to u.s . dollars.since changes in translation risk are reported as adjustments to stockholders ' equity , a dd % change in the foreign exchange rate would not have a material effect on our financial position , results of operation or cash flows.for the year ended december dd , dd , a dd % change in the foreign exchange rate would increase or decrease our consolidated net income by less than $ dd dd .\"],\n",
       " 0,\n",
       " 933405,\n",
       " 'edgar/data/933405/0000933405-08-000006.txt',\n",
       " ['  derivative financial instruments.we do not hold or issue derivative financial instruments for trading purposes.we have used derivative financial instruments to manage our exposure to fluctuations in interest rates.neither the aggregate value of these derivative financial instruments nor the market risk posed by them has been material to our business.at december dd , dd , we were not using any derivative financial instruments .',\n",
       "  'interest rate exposure.based on our overall interest rate exposure during the year ended december31 , dd and assuming similar interest rate volatility in the future , a near - term ( dd ) change in interest rates would not materially affect our consolidated financial position , results of operation or cash dd of december dd , dd , we had no amounts outstanding under our credit facility and therefore no interest rate exposure .',\n",
       "  \"foreign exchange exposure.our revenue , expense and capital purchasing activities are primarily transacted in u.s . dollars.we have dd foreign operation that exposes us to translation risk when the local currency financial statements are translated to u.s . dollars.since changes in translation risk are reported as adjustments to stockholders ' equity , a dd % change in the foreign exchange rate would not have a material effect on our financial position , results of operation or cash flows.for the year ended december dd , dd , a dd % change in the foreign exchange rate would increase or decrease our consolidated net income by less than $ dd dd .\"])"
      ]
     },
     "execution_count": 16,
     "metadata": {},
     "output_type": "execute_result"
    }
   ],
   "source": [
    "text_smr[200]"
   ]
  },
  {
   "cell_type": "code",
   "execution_count": 17,
   "metadata": {},
   "outputs": [],
   "source": [
    "with open('data_20200309_2012_rmname_smr', 'wb') as fp:\n",
    "     pickle.dump(text_smr, fp)\n",
    "fp.close()"
   ]
  },
  {
   "cell_type": "code",
   "execution_count": 49,
   "metadata": {},
   "outputs": [],
   "source": [
    "temp_smr = []\n",
    "for i in text_smr:\n",
    "    temp_smr.append(i[4])"
   ]
  },
  {
   "cell_type": "code",
   "execution_count": 50,
   "metadata": {},
   "outputs": [
    {
     "data": {
      "text/plain": [
       "56288"
      ]
     },
     "execution_count": 50,
     "metadata": {},
     "output_type": "execute_result"
    }
   ],
   "source": [
    "len(temp_smr)"
   ]
  },
  {
   "cell_type": "code",
   "execution_count": 52,
   "metadata": {},
   "outputs": [],
   "source": [
    "with open('data_20200309_2012_rmname_smr_temp', 'wb') as fp:\n",
    "     pickle.dump(temp_smr, fp)\n",
    "fp.close()"
   ]
  },
  {
   "cell_type": "code",
   "execution_count": null,
   "metadata": {},
   "outputs": [],
   "source": []
  },
  {
   "cell_type": "code",
   "execution_count": 53,
   "metadata": {},
   "outputs": [],
   "source": [
    "labels_smr = []\n",
    "for i in text_smr:\n",
    "    labels_smr.append(i[1])"
   ]
  },
  {
   "cell_type": "code",
   "execution_count": 55,
   "metadata": {},
   "outputs": [
    {
     "data": {
      "text/plain": [
       "0"
      ]
     },
     "execution_count": 55,
     "metadata": {},
     "output_type": "execute_result"
    }
   ],
   "source": [
    "labels_smr[0]"
   ]
  },
  {
   "cell_type": "code",
   "execution_count": 56,
   "metadata": {},
   "outputs": [],
   "source": [
    "with open('data_20200309_2012_rmname_smr_labels', 'wb') as fp:\n",
    "     pickle.dump(labels_smr, fp)\n",
    "fp.close()"
   ]
  },
  {
   "cell_type": "code",
   "execution_count": null,
   "metadata": {},
   "outputs": [],
   "source": []
  },
  {
   "cell_type": "code",
   "execution_count": 18,
   "metadata": {},
   "outputs": [],
   "source": [
    "import re"
   ]
  },
  {
   "cell_type": "code",
   "execution_count": 27,
   "metadata": {},
   "outputs": [],
   "source": [
    "text_smr_test = text_smr[199:202]"
   ]
  },
  {
   "cell_type": "code",
   "execution_count": 38,
   "metadata": {},
   "outputs": [],
   "source": [
    "num_word_para = []\n",
    "num_para = []\n",
    "for t in text_smr:\n",
    "    #print(len(t))\n",
    "    smr = t[4]\n",
    "    #print(len(smr))\n",
    "    num_para.append(len(smr))\n",
    "    #print(num_para)\n",
    "    for s in smr:\n",
    "        num_word_para.append(len(re.findall(\"[a-zA-Z_]+\", s)))"
   ]
  },
  {
   "cell_type": "code",
   "execution_count": 39,
   "metadata": {},
   "outputs": [
    {
     "data": {
      "text/plain": [
       "56288"
      ]
     },
     "execution_count": 39,
     "metadata": {},
     "output_type": "execute_result"
    }
   ],
   "source": [
    "len(num_para)"
   ]
  },
  {
   "cell_type": "code",
   "execution_count": 40,
   "metadata": {},
   "outputs": [],
   "source": [
    "import matplotlib.pyplot as plt"
   ]
  },
  {
   "cell_type": "code",
   "execution_count": 48,
   "metadata": {},
   "outputs": [
    {
     "data": {
      "image/png": "[encoded data removed]",
      "text/plain": [
       "<Figure size 432x288 with 2 Axes>"
      ]
     },
     "metadata": {
      "needs_background": "light"
     },
     "output_type": "display_data"
    }
   ],
   "source": [
    "plot_data = np.clip(num_word_para,0,200)\n",
    "\n",
    "fig, ax1 = plt.subplots()\n",
    "ax1.hist(plot_data)\n",
    "\n",
    "ax2 = ax1.twinx()\n",
    "values, base = np.histogram(plot_data, bins=40)\n",
    "cumulative = np.cumsum(values)/len(plot_data)\n",
    "plt.plot(base[:-1], cumulative, c='blue')\n",
    "plt.title('num_para_item7(0-400)')\n",
    "plt.show()"
   ]
  },
  {
   "cell_type": "code",
   "execution_count": 47,
   "metadata": {},
   "outputs": [
    {
     "data": {
      "image/png": "[encoded data removed]",
      "text/plain": [
       "<Figure size 432x288 with 2 Axes>"
      ]
     },
     "metadata": {
      "needs_background": "light"
     },
     "output_type": "display_data"
    }
   ],
   "source": [
    "plot_data = np.clip(num_para,0,200)\n",
    "\n",
    "fig, ax1 = plt.subplots()\n",
    "ax1.hist(plot_data)\n",
    "\n",
    "ax2 = ax1.twinx()\n",
    "values, base = np.histogram(plot_data, bins=40)\n",
    "cumulative = np.cumsum(values)/len(plot_data)\n",
    "plt.plot(base[:-1], cumulative, c='blue')\n",
    "plt.title('num_para_item7(0-400)')\n",
    "plt.show()"
   ]
  },
  {
   "cell_type": "code",
   "execution_count": null,
   "metadata": {},
   "outputs": [],
   "source": []
  },
  {
   "cell_type": "code",
   "execution_count": null,
   "metadata": {},
   "outputs": [],
   "source": []
  }
 ],
 "metadata": {
  "kernelspec": {
   "display_name": "Python 3",
   "language": "python",
   "name": "python3"
  },
  "language_info": {
   "codemirror_mode": {
    "name": "ipython",
    "version": 3
   },
   "file_extension": ".py",
   "mimetype": "text/x-python",
   "name": "python",
   "nbconvert_exporter": "python",
   "pygments_lexer": "ipython3",
   "version": "3.5.2"
  }
 },
 "nbformat": 4,
 "nbformat_minor": 2
}
