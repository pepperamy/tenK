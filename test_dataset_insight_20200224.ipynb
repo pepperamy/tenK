{
 "cells": [
  {
   "cell_type": "code",
   "execution_count": 1,
   "metadata": {},
   "outputs": [],
   "source": [
    "import pandas as pd\n",
    "import numpy as np"
   ]
  },
  {
   "cell_type": "code",
   "execution_count": 2,
   "metadata": {},
   "outputs": [],
   "source": [
    "import pickle"
   ]
  },
  {
   "cell_type": "code",
   "execution_count": 3,
   "metadata": {},
   "outputs": [],
   "source": [
    "def load_data(data_name):\n",
    "    f = open(data_name,'rb')\n",
    "    data = pickle.load(f)\n",
    "    return data"
   ]
  },
  {
   "cell_type": "code",
   "execution_count": 4,
   "metadata": {},
   "outputs": [],
   "source": [
    "test_indecis = load_data('/home/jujun/fraudprediction_10k/data/indices_test_20200214')"
   ]
  },
  {
   "cell_type": "code",
   "execution_count": 5,
   "metadata": {},
   "outputs": [
    {
     "name": "stdout",
     "output_type": "stream",
     "text": [
      "11258\n"
     ]
    }
   ],
   "source": [
    "test_labels = load_data('/home/jujun/fraudprediction_10k/data/' + 'y_test_20200214')\n",
    "print(len(test_labels))"
   ]
  },
  {
   "cell_type": "code",
   "execution_count": 6,
   "metadata": {},
   "outputs": [],
   "source": [
    "df = pd.read_csv('/home/jujun/fraudprediction_10k/df_10k_20200202.csv')"
   ]
  },
  {
   "cell_type": "code",
   "execution_count": 7,
   "metadata": {},
   "outputs": [
    {
     "data": {
      "text/html": [
       "<div>\n",
       "<style scoped>\n",
       "    .dataframe tbody tr th:only-of-type {\n",
       "        vertical-align: middle;\n",
       "    }\n",
       "\n",
       "    .dataframe tbody tr th {\n",
       "        vertical-align: top;\n",
       "    }\n",
       "\n",
       "    .dataframe thead th {\n",
       "        text-align: right;\n",
       "    }\n",
       "</style>\n",
       "<table border=\"1\" class=\"dataframe\">\n",
       "  <thead>\n",
       "    <tr style=\"text-align: right;\">\n",
       "      <th></th>\n",
       "      <th>Unnamed: 0</th>\n",
       "      <th>Unnamed: 0.1</th>\n",
       "      <th>file</th>\n",
       "      <th>CIK</th>\n",
       "      <th>type</th>\n",
       "      <th>yeara</th>\n",
       "      <th>fraud_match</th>\n",
       "      <th>SIC_fl_rp</th>\n",
       "      <th>save_path_7</th>\n",
       "      <th>num_para</th>\n",
       "      <th>...</th>\n",
       "      <th>ib</th>\n",
       "      <th>ivao</th>\n",
       "      <th>dlc</th>\n",
       "      <th>sstk</th>\n",
       "      <th>dltis</th>\n",
       "      <th>pstk</th>\n",
       "      <th>lt</th>\n",
       "      <th>ivst</th>\n",
       "      <th>cogs</th>\n",
       "      <th>dp</th>\n",
       "    </tr>\n",
       "  </thead>\n",
       "  <tbody>\n",
       "    <tr>\n",
       "      <th>0</th>\n",
       "      <td>3</td>\n",
       "      <td>3</td>\n",
       "      <td>edgar/data/798757/0001035704-99-000038.txt</td>\n",
       "      <td>798757</td>\n",
       "      <td>10-k</td>\n",
       "      <td>1998</td>\n",
       "      <td>0</td>\n",
       "      <td>7372.0</td>\n",
       "      <td>/research/jujun/saveitem_1128/item7/798757-000...</td>\n",
       "      <td>70</td>\n",
       "      <td>...</td>\n",
       "      <td>74.468</td>\n",
       "      <td>322.527</td>\n",
       "      <td>0.0</td>\n",
       "      <td>47.824</td>\n",
       "      <td>0.0</td>\n",
       "      <td>0.000</td>\n",
       "      <td>366.477</td>\n",
       "      <td>28.667</td>\n",
       "      <td>400.552</td>\n",
       "      <td>22.701</td>\n",
       "    </tr>\n",
       "    <tr>\n",
       "      <th>1</th>\n",
       "      <td>4</td>\n",
       "      <td>4</td>\n",
       "      <td>edgar/data/798757/0000950134-00-000532.txt</td>\n",
       "      <td>798757</td>\n",
       "      <td>10-k</td>\n",
       "      <td>1999</td>\n",
       "      <td>0</td>\n",
       "      <td>7372.0</td>\n",
       "      <td>/research/jujun/saveitem_1128/item7/798757-000...</td>\n",
       "      <td>100</td>\n",
       "      <td>...</td>\n",
       "      <td>-39.224</td>\n",
       "      <td>246.564</td>\n",
       "      <td>0.0</td>\n",
       "      <td>31.568</td>\n",
       "      <td>0.0</td>\n",
       "      <td>0.000</td>\n",
       "      <td>347.808</td>\n",
       "      <td>62.546</td>\n",
       "      <td>453.871</td>\n",
       "      <td>25.421</td>\n",
       "    </tr>\n",
       "    <tr>\n",
       "      <th>2</th>\n",
       "      <td>5</td>\n",
       "      <td>5</td>\n",
       "      <td>edgar/data/798757/0000950109-02-006127.txt</td>\n",
       "      <td>798757</td>\n",
       "      <td>10-k</td>\n",
       "      <td>2002</td>\n",
       "      <td>0</td>\n",
       "      <td>7372.0</td>\n",
       "      <td>/research/jujun/saveitem_1128/item7/798757-000...</td>\n",
       "      <td>124</td>\n",
       "      <td>...</td>\n",
       "      <td>46.193</td>\n",
       "      <td>17.203</td>\n",
       "      <td>0.0</td>\n",
       "      <td>16.705</td>\n",
       "      <td>0.0</td>\n",
       "      <td>0.000</td>\n",
       "      <td>367.768</td>\n",
       "      <td>0.301</td>\n",
       "      <td>350.605</td>\n",
       "      <td>31.264</td>\n",
       "    </tr>\n",
       "    <tr>\n",
       "      <th>3</th>\n",
       "      <td>6</td>\n",
       "      <td>6</td>\n",
       "      <td>edgar/data/798757/0001035704-01-000019.txt</td>\n",
       "      <td>798757</td>\n",
       "      <td>10-k</td>\n",
       "      <td>2000</td>\n",
       "      <td>0</td>\n",
       "      <td>7372.0</td>\n",
       "      <td>/research/jujun/saveitem_1128/item7/798757-000...</td>\n",
       "      <td>108</td>\n",
       "      <td>...</td>\n",
       "      <td>-15.422</td>\n",
       "      <td>107.458</td>\n",
       "      <td>0.0</td>\n",
       "      <td>41.829</td>\n",
       "      <td>0.0</td>\n",
       "      <td>89.113</td>\n",
       "      <td>390.930</td>\n",
       "      <td>49.434</td>\n",
       "      <td>441.998</td>\n",
       "      <td>31.039</td>\n",
       "    </tr>\n",
       "    <tr>\n",
       "      <th>4</th>\n",
       "      <td>7</td>\n",
       "      <td>7</td>\n",
       "      <td>edgar/data/798757/0001035704-02-000070.txt</td>\n",
       "      <td>798757</td>\n",
       "      <td>10-k</td>\n",
       "      <td>2001</td>\n",
       "      <td>0</td>\n",
       "      <td>7372.0</td>\n",
       "      <td>/research/jujun/saveitem_1128/item7/798757-000...</td>\n",
       "      <td>110</td>\n",
       "      <td>...</td>\n",
       "      <td>-179.753</td>\n",
       "      <td>0.702</td>\n",
       "      <td>0.0</td>\n",
       "      <td>25.962</td>\n",
       "      <td>0.0</td>\n",
       "      <td>0.000</td>\n",
       "      <td>362.073</td>\n",
       "      <td>1.515</td>\n",
       "      <td>412.687</td>\n",
       "      <td>31.910</td>\n",
       "    </tr>\n",
       "  </tbody>\n",
       "</table>\n",
       "<p>5 rows × 37 columns</p>\n",
       "</div>"
      ],
      "text/plain": [
       "   Unnamed: 0  Unnamed: 0.1                                        file  \\\n",
       "0           3             3  edgar/data/798757/0001035704-99-000038.txt   \n",
       "1           4             4  edgar/data/798757/0000950134-00-000532.txt   \n",
       "2           5             5  edgar/data/798757/0000950109-02-006127.txt   \n",
       "3           6             6  edgar/data/798757/0001035704-01-000019.txt   \n",
       "4           7             7  edgar/data/798757/0001035704-02-000070.txt   \n",
       "\n",
       "      CIK  type  yeara  fraud_match  SIC_fl_rp  \\\n",
       "0  798757  10-k   1998            0     7372.0   \n",
       "1  798757  10-k   1999            0     7372.0   \n",
       "2  798757  10-k   2002            0     7372.0   \n",
       "3  798757  10-k   2000            0     7372.0   \n",
       "4  798757  10-k   2001            0     7372.0   \n",
       "\n",
       "                                         save_path_7  num_para   ...    \\\n",
       "0  /research/jujun/saveitem_1128/item7/798757-000...        70   ...     \n",
       "1  /research/jujun/saveitem_1128/item7/798757-000...       100   ...     \n",
       "2  /research/jujun/saveitem_1128/item7/798757-000...       124   ...     \n",
       "3  /research/jujun/saveitem_1128/item7/798757-000...       108   ...     \n",
       "4  /research/jujun/saveitem_1128/item7/798757-000...       110   ...     \n",
       "\n",
       "        ib     ivao  dlc    sstk  dltis    pstk       lt    ivst     cogs  \\\n",
       "0   74.468  322.527  0.0  47.824    0.0   0.000  366.477  28.667  400.552   \n",
       "1  -39.224  246.564  0.0  31.568    0.0   0.000  347.808  62.546  453.871   \n",
       "2   46.193   17.203  0.0  16.705    0.0   0.000  367.768   0.301  350.605   \n",
       "3  -15.422  107.458  0.0  41.829    0.0  89.113  390.930  49.434  441.998   \n",
       "4 -179.753    0.702  0.0  25.962    0.0   0.000  362.073   1.515  412.687   \n",
       "\n",
       "       dp  \n",
       "0  22.701  \n",
       "1  25.421  \n",
       "2  31.264  \n",
       "3  31.039  \n",
       "4  31.910  \n",
       "\n",
       "[5 rows x 37 columns]"
      ]
     },
     "execution_count": 7,
     "metadata": {},
     "output_type": "execute_result"
    }
   ],
   "source": [
    "df.head()"
   ]
  },
  {
   "cell_type": "code",
   "execution_count": 8,
   "metadata": {},
   "outputs": [],
   "source": [
    "df_test = df.iloc[test_indecis,:]"
   ]
  },
  {
   "cell_type": "code",
   "execution_count": 9,
   "metadata": {},
   "outputs": [
    {
     "data": {
      "text/plain": [
       "(11258, 37)"
      ]
     },
     "execution_count": 9,
     "metadata": {},
     "output_type": "execute_result"
    }
   ],
   "source": [
    "df_test.shape"
   ]
  },
  {
   "cell_type": "markdown",
   "metadata": {},
   "source": [
    "check consistency"
   ]
  },
  {
   "cell_type": "code",
   "execution_count": 10,
   "metadata": {},
   "outputs": [
    {
     "data": {
      "text/plain": [
       "45033"
      ]
     },
     "execution_count": 10,
     "metadata": {},
     "output_type": "execute_result"
    }
   ],
   "source": [
    "test_indecis[100]"
   ]
  },
  {
   "cell_type": "code",
   "execution_count": 11,
   "metadata": {},
   "outputs": [
    {
     "data": {
      "text/plain": [
       "'edgar/data/855433/0000895759-98-000024.txt'"
      ]
     },
     "execution_count": 11,
     "metadata": {},
     "output_type": "execute_result"
    }
   ],
   "source": [
    "df_test.file[45033]"
   ]
  },
  {
   "cell_type": "code",
   "execution_count": 12,
   "metadata": {},
   "outputs": [],
   "source": [
    "data = load_data('/home/jujun/fraudprediction_10k/data/data_20200212_2012')"
   ]
  },
  {
   "cell_type": "code",
   "execution_count": 13,
   "metadata": {},
   "outputs": [],
   "source": [
    "cik_list = []\n",
    "for d in data:\n",
    "    cik_list.append(d[-2])"
   ]
  },
  {
   "cell_type": "code",
   "execution_count": 14,
   "metadata": {},
   "outputs": [],
   "source": [
    "file_list = []\n",
    "for d in data:\n",
    "    file_list.append(d[-1])"
   ]
  },
  {
   "cell_type": "code",
   "execution_count": 15,
   "metadata": {},
   "outputs": [],
   "source": [
    "label_list = []\n",
    "for d in data:\n",
    "    label_list.append(d[-3])"
   ]
  },
  {
   "cell_type": "code",
   "execution_count": 16,
   "metadata": {},
   "outputs": [],
   "source": [
    "text_para = []\n",
    "for d in data:\n",
    "    text_para.append(d[0])"
   ]
  },
  {
   "cell_type": "code",
   "execution_count": 17,
   "metadata": {},
   "outputs": [],
   "source": [
    "def generate_doc(x):\n",
    "    return ' '.join(x)"
   ]
  },
  {
   "cell_type": "code",
   "execution_count": 18,
   "metadata": {},
   "outputs": [],
   "source": [
    "text_doc = []\n",
    "for d in text_para:\n",
    "    text_doc.append(generate_doc(d))"
   ]
  },
  {
   "cell_type": "code",
   "execution_count": 19,
   "metadata": {},
   "outputs": [],
   "source": [
    "test_cik_list = [cik_list[idx] for idx in test_indecis]"
   ]
  },
  {
   "cell_type": "code",
   "execution_count": 20,
   "metadata": {},
   "outputs": [],
   "source": [
    "test_file_list = [file_list[idx] for idx in test_indecis]"
   ]
  },
  {
   "cell_type": "code",
   "execution_count": 22,
   "metadata": {},
   "outputs": [],
   "source": [
    "test_text_doc = [text_doc[idx] for idx in test_indecis]"
   ]
  },
  {
   "cell_type": "code",
   "execution_count": 26,
   "metadata": {},
   "outputs": [],
   "source": [
    "test_label_list = [label_list[idx] for idx in test_indecis]"
   ]
  },
  {
   "cell_type": "code",
   "execution_count": 30,
   "metadata": {},
   "outputs": [
    {
     "data": {
      "text/plain": [
       "True"
      ]
     },
     "execution_count": 30,
     "metadata": {},
     "output_type": "execute_result"
    }
   ],
   "source": [
    "np.all(test_label_list == test_labels)"
   ]
  },
  {
   "cell_type": "code",
   "execution_count": 23,
   "metadata": {},
   "outputs": [
    {
     "data": {
      "text/plain": [
       "843494"
      ]
     },
     "execution_count": 23,
     "metadata": {},
     "output_type": "execute_result"
    }
   ],
   "source": [
    "test_cik_list[100]"
   ]
  },
  {
   "cell_type": "code",
   "execution_count": 24,
   "metadata": {},
   "outputs": [
    {
     "data": {
      "text/plain": [
       "'edgar/data/843494/0001206774-07-001763.txt'"
      ]
     },
     "execution_count": 24,
     "metadata": {},
     "output_type": "execute_result"
    }
   ],
   "source": [
    "test_file_list[100]"
   ]
  },
  {
   "cell_type": "code",
   "execution_count": 25,
   "metadata": {},
   "outputs": [
    {
     "data": {
      "text/plain": [
       "'  * * the following discussion and analysis should be read in conjunction with the consolidated financial statements and notes thereto appearing elsewhere in this annual report on form dd . management s discussion and analysis contains forward - looking statements within the meaning of the private securities litigation reform act of dd and section 21e of the securities exchange act of dd that involve risks and uncertainties , including but not limited to : quarterly fluctuations in results ; customer demand for the companys products ; the development of new technology ; domestic and international economic conditions ; the achievement of lower costs and expenses ; the continued availability of financing in the amounts and on the terms required to support the companys future business ; credit concerns in the health and beauty care product industry ; * * * * and other risks detailed from time to time in the company s other securities and exchange commission filings . actual results may differ materially from managements expectations . the risks included here are not exhaustive . other sections of this annual report on form dd may include additional factors that could adversely affect the companys business and financial performance . moreover , the company operates in a very competitive and rapidly changing environment . new risk factors emerge from time to time and it is not possible for management to predict all such risk factors , nor can it assess the impact of all such risk factors on the companys business or the extent to which any factor , or combination of factors , may cause actual results to differ materially from those contained in any forward - looking statements . given these risks and uncertainties , investors should not place undue reliance on forward - looking statements as a prediction of actual results . * * * * investors should also be aware that while the company does communicate with securities analysts from time to time , it is against our policy to disclose to them any material non - public information or other confidential information . accordingly , investors should not assume that the company agrees with any statement or report issued by any analyst irrespective of the content of the statement or report . furthermore , the company has a policy against confirming financial forecast or projections issued by others . therefore , to the extent that reports issued by securities analysts contain any projections , forecasts or opinions , such reports are not the responsibility of the company . * * on may dd , dd , cenuco , inc . changed it name to ascendia brands , inc . on may dd , dd , hermes holding company , inc . , a newly formed wholly owned subsidiary of cenuco , inc . , merged with hermes acquisition co i llc . as a consequence of the merger , hermes acquisition co i llc , together with its wholly owned subsidiaries , lander co. inc . , ascendia real estate llc ( then known as hermes real estate i llc ) and ascendia brands ( canada ) ltd ( then known as lander co. canada ltd ) became wholly owned subsidiaries of cenuco , inc . for accounting purposes , hermes acquisition co i llc was considered the acquirer in a reverse acquisition transaction and consequently the merger was treated as a recapitalization of hermes acquisition co i llc followed by the reverse acquisition of cenuco , inc . by hermes acquisition co. i llc . thus , hermes acquisition co i llcs financial statements are the historical financial statements of the post - merger entity and the results of operations of cenuco , inc . have been included commencing on the date of the merger . from the date of the merger to february dd , the company has been organized around dd operating divisions , namely health and beauty care , conducted through hermes acquisition co i and its subsidiaries , and wireless applications development , conducted through cenuco , inc . , a florida corporation and a wholly owned subsidiary of the delaware public company . in february dd , we committed to a plan to sell the wireless applications development division and as a result this operation has been presented as a discontinued operation in the accompanying financial statements . subsequent to fiscal year - end we determined that a sale was no longer likely and decided to discontinue and liquidate the wireless applications development division . on november dd , dd , we acquired certain brands and brand - related assets from playtex . the brands included _ baby magic , binaca , mr . bubble , ogilvie , tek , _ dentax , _ dorothy gray , better off _ and _ tussy . _ on february dd , dd , we acquired certain brands from coty , inc . the brands include _ calgon _ and _ the healing garden_. * * health and beauty care business * * our health and beauty care group is headquartered in hamilton , new jersey , and operates dd facilities that contain both manufacturing and distribution centers . these facilities are located in binghamton , new york ( owned ) and toronto , ontario , canada ( leased ) . through our subsidiary ascendia brands co. , inc . , we market , distribute and sell : ( i ) bath products under the _ calgon _ , _ the healing garden , lander , lander essentials _ , and _ mr . bubble _ brand names , ( ii ) baby toiletries under the _ baby magic _ and _ lander _ brand names , ( iii ) deodorant and antiperspirant products under the _ tussy _ and _ lander _ brand names , ( iv ) home permanent treatments under the _ ogilvie _ brand name , ( v ) mouthwash products under the _ lander _ brand name , ( vi ) portable breath sprays and drops under the _ binaca _ brand name and ( vii ) manual toothbrushes under the _ tek _ brand name , as well as other health and beauty care products within the personal care category in the united states . in addition , we export approximately $ dd dd of products annually to consumers in dd other countries throughout the world . through our ascendia brands ( canada ) ltd subsidiary , we produce private label brands for a limited number of large canadian retail chains . prior to the acquisition of the former coty brands on february dd , dd , we distributed more than dd dd units of health and beauty products annually ( primarily liquid fill bath care , baby care , and skin care products ) in north america , and another dd dd internationally . we estimate that , subsequent to the acquisition , we will distribute an additional dd dd units annually . this would increase our total annual global unit sales to an estimated dd dd . * * wireless applications development business * * as noted above our wireless applications development division , based in boca raton , florida , is being reported as a discontinued operation . loss from discontinued operations contains the revenue and expense for the wireless application development division activity from the date of the merger ( may dd , dd ) to february dd , dd . the wireless application development divisions financial and other pertinent information is disclosed in cenuco , inc.s public filings . historical financial information for the discontinued operation is summarized as follows :   loss from operations , before impairment since the operations of cenuco , inc . are not included in the financial statements for the period prior to the may dd , dd merger , there are no amounts presented for the discontinued operation in dd . net assets related to discontinued operations of $ dd dd are reported on the accompanying february dd , dd balance sheet and consist of the following : subsequent to year - end , we determined that a sale was no longer likely and decided to liquidate the wireless applications development division before july dd , dd . since the carrying value of the net assets of the wireless operation were written off at february dd , dd , the future impact of discontinued operations will be limited to the operating loss for the period march dd to july dd , dd . * * year ended february dd , dd compared to the year ended february dd , dd * * our health and beauty care brand portfolio grew through acquisitions from playtex and coty of certain nationally and internationally recognized brands . after acquiring a brand , we seek to increase its sales , market share and distribution in both existing and new channels . we anticipate that this growth will be driven by new marketing and sales strategies , improved packaging and formulations , innovative new products and line extensions consistent with managements strategic plan . the wireless applications development division results are reported in discontinued operations and thus this comparative discussion only includes the health & beauty care division results . consolidated net sales for the year ended february dd , dd increased by $ dd dd ( dd percent ) compared to the prior year . net sales were favorably impacted by the companys acquisition of the former playtex brands in november dd , which contributed $ dd dd to current year net sales compared to $ dd dd in the prior year . in addition , the february dd acquisition of the former coty brands contributed $ dd dd to current year net sales . overall u.s sales for _ lander _ brand products decreased during the year by $ dd dd ( dd % ) . lander premium value sales increased by $ dd dd ( dd % ) . this increase was offset by an $ dd dd ( dd % ) decrease in extreme value product sales , reflecting our strategic shift to higher margin premium products and away from lower margin products . net sales for _ lander _ brand products in canada decreased by $ dd dd ( dd percent ) this year versus the same period last year . there was a positive impact from exchange rate gains of $ dd dd , offset by a decrease in extreme value products of $ dd dd , consistent with the trends previously discussed in the u.s . market . consolidated gross profit increased to $ dd dd for the year ended february dd , dd compared to $ dd dd for the year ended february dd , dd . as a percentage of net sales , the gross profit margin was dd percent in the current year compared to dd percent in the prior year . the acquired playtex brands contributed $ dd dd to current year gross profit compared to $ dd dd in the prior year . the acquired coty brands contributed $ dd dd to current year gross profit . the current year gross profit includes $ dd dd expense for the step - up in the value of the acquired coty inventory as part of the purchase price allocation in accordance with sfas dd . excluding this step - up , the coty brands contributed $ dd dd to current year gross profit . the current year was also negatively impacted by $ dd dd in additional inventory reserves established against the acquired playtex inventory . prior year gross profit was negatively impacted by $ dd dd from the step - up in the value of the acquired playtex inventory . * * _ selling , general and administrative expenses _ * * selling , general and administrative expenses increased by $ dd dd , from $ dd dd for the year ended february dd , dd to $ dd dd for the year ended february dd , dd . the major factors contributing to the increase in sg&a compared to the prior year were incremental costs associated with the playtex asset acquisition including increased intangible amortization of $ dd dd and increased sales and marketing expenses of $ dd dd , stock compensation costs of $ dd dd , executive bonuses of $ dd dd , higher legal , audit and transaction related costs of $ dd dd , coty transition services costs of $ dd dd and a $ dd dd asset impairment charge on the acquired playtex assets . the playtex asset impairment charge resulted from the carrying value of the brands ( intangible assets ) purchased exceeding the fair value by $ dd dd at february dd , dd as reflected in the impairment test in accordance with sfas no . dd . the fair value was calculated by computing the present value of the cash flow of net royalties saved for each brand . the reason for the impairment related to a decline in projected net sales when compared to projected net sales at time of acquisition . other/ interest expense increased by $ dd dd from $ dd dd for the year ended february dd , dd to $ dd dd for the current year , due primarily to the impact of derivative accounting in dd . the components of derivative accounting included a loss on extinguishment of debt of $ dd dd and a gain on revaluation of compound derivative of $ dd dd . amortization of debt discount and finance fees increased by $ dd dd from $ dd dd to $ dd dd . higher interest expense increased by $ dd dd from $ dd dd to $ dd dd and was attributable to increased borrowings throughout dd . in addition , other expense increased by $ dd dd from income of $ dd dd to expense of $ dd dd , primarily due to the prior year $ dd dd gain resulting from the forgiveness of a portion of the debt related to the dd acquisition of the lander business . * * _ loss from discontinued operations _ * * as a result of the companys decision to divest our wireless applications development division , we have presented the results of that division as discontinued operations in dd and dd . for the year ended february dd , dd the loss from discontinued operations of $ dd dd includes the write - off of the remaining goodwill of $ dd dd , the write - off of the carrying value on remaining net assets of $ dd dd ( primarily acquired core software technology ) and the net loss from operations of $ dd dd for the year ended february dd , dd the loss from discontinued operations includes a goodwill impairment charge of $ dd dd and the net loss from operations of $ dd dd . * * year ended february dd , dd compared to the year ended february dd , dd * * the companys health and beauty care brand portfolio grew through acquisition from playtex of certain nationally and internationally recognized brands . after acquiring a brand , we seek to increase its sales , market share and distribution in both existing and new channels . we anticipate that this growth will be driven by new marketing and sales strategies , improved packaging and formulations , innovative new products and line extensions consistent with managements strategic plan . consolidated net sales for the year ended february dd , dd increased by $ dd dd ( dd percent ) compared to net sales for the year ended february dd , dd . sales results were favorably impacted by the acquisition of the former playtex brands , which resulted in additional net sales of $ dd dd in fiscal dd . u.s . net sales from the _ lander _ brand products increased during the year by $ dd dd . included in this increase are sales of _ lander _ higher margin premium value products , which increased net sales by $ dd dd ( dd percent ) , with key elements in this growth being the addition of _ lander essentials _ 3in1 and foam bath products , yielding additional net sales of $ dd dd , and an additional $ dd dd ( dd percent ) increase in adult dd oz . bubble bath net sales . this increase was offset by a $ dd dd decrease in extreme value products sales , as described in the following paragraph . we distribute our products principally through traditional mass , drug , food and dollar store retail venues . we will continue to seek increased access to retail distribution that can provide enhanced profit margins for ascendia while also providing value for consumers . consistent with our strategic focus on higher margin , premium products , we will over the longer term de - emphasize sales of lower profit margin products . consistent with this strategy , net sales of extreme value products ( _ i.e. _ , those retailing for $ dd or less ) decreased by $ dd dd ( dd percent ) this year versus the prior year . this decrease can be attributed primarily to pricing actions following the raw material increases in petroleum - based products and higher transportation costs related to fuel surcharges . offsetting the above noted u.s . sales growth from the newly acquired products and _ lander _ branded products is a reduction of $ dd dd , attributable to the termination of a prior year marketing and administrative services agreement for the sale of licensed products . this licensing agreement and corresponding net sales terminated with the licensor s bankruptcy filing and the rejection of the marketing and administrative services agreement by the bankruptcy trustee . further contributing to the above noted consolidated sales increase , net sales of ascendia brands ( canada ) ltd ( formerly lander co. canada ltd ) increased by $ dd dd ( dd percent ) this year versus the same period last year . there was a positive impact from exchange rate gains of $ dd dd , partially offset by a decrease in extreme value products of $ dd dd , consistent with the trends previously discussed for the u.s . market . consolidated gross profit decreased by $ dd dd for the year ended february dd , dd , from $ dd dd for the year ended february dd , dd . the acquisition of the former playtex brands resulted in an increase in gross profit by $ dd dd for the year . however , in accordance with sfas no . dd , the company recorded the inventory acquired at its fair market value , which negatively impacted gross profit of the brands for the year by $ dd dd , thus reducing gross profit on the former playtex brands to $ dd dd . the company has implemented cost reduction programs and continues to streamline its manufacturing process ; however , inflationary increases resulting from rising oil prices resulting in higher raw material prices for surfactants , mineral oil and components negatively impacted the year by $ dd dd . * * _ selling , general and administrative expenses _ * * selling , general and administrative expenses amounted to $ dd dd for the year ended february dd , dd compared to $ dd dd for the year ended february dd , dd . this increase of $ dd dd was attributable to several factors associated with the product acquisition from playtex . $ dd dd is related to the expansion of the marketing department to capitalize on the acquired products . in addition the company incurred $ dd dd of incremental selling and administrative expenses related to the transition services agreement with playtex for the period november dd , dd to february dd , dd . amortization expense for the intangible assets acquired in the playtex acquisition amounted to $ dd dd . an additional $ dd dd of the increase pertains to indirect costs for outside legal , consulting , and accounting fees , strategic reviews of the business units and bank fees associated with potential capital sources which did not materialize . on a consolidated basis the company incurred $ dd dd related to incremental salary , benefits and outside consulting fees in connection with becoming a publicly traded company . other income , net of $ dd dd for the year ended february dd , dd represents an increase of $ dd dd over the year ended february dd , dd . the primary reason for the increase is a dd - time gain of $ dd dd due to the forgiveness of a portion of the debt related to the dd acquisition of the lander business . interest expense , net of $ dd dd for the year ended february dd , dd , represents an increase of $ dd dd over the year ended february dd , dd . the primary reason for the increase is the interest expense associated with the $ dd dd bridge loan ( see discussion below under liquidity and capital resources   bridge loan ) . * * _ loss from discontinued operations _ * * as a result of our decision to divest our wireless applications development division , we presented the results of cenuco , inc . as discontinued operations in dd . since the operations of cenuco , inc . are not included in the accompanying financial statements for the period prior to the may dd , dd merger , there are no amounts presented for the discontinued operation in dd . for the year ended february dd , dd the loss from discontinued operations of $ dd dd includes a goodwill impairment charge of $ dd dd and a net loss from operations of $ dd dd . * * _ liquidity and capital resources _ * * long - term debt consists of the following : convertible secured notes ( includes accretion of redemption premium ) compound derivative liability first and second lien term loans subordinated debt ( includes capitalized interest of $ dd ) _ first lien and second lien term loans _ in connection with the financing of the coty transaction , we entered into the following financing arrangements : ( 1 ) first lien facility : on february dd , dd , we entered into a credit agreement with certain lenders and wells fargo foothill , inc . , as arranger and administrative agent , ( the first lien credit agreement ) providing a $ dd dd credit facility , comprised of a term loan a-1 of $ dd dd ( the term loan a-1 ) , a term loan a-2 of $ dd dd ( the term loan a-2 ) and a revolving line of credit of up to $ dd dd ( the revolver ) , each for a term of dd years ( the term loan a-1 , the term loan a-2 and the revolver , collectively , the first lien facility ) . at our option , borrowings under the first lien facility are based on either libor or prime rate . initially , the revolver interest rate is dd basis points above libor for libor borrowings and dd basis points above the prime rate for base rate borrowings , the term loan a-1 interest rate is dd basis points above libor for libor borrowings and dd basis points above the prime rate for base rate borrowings and the term loan a-2 interest rate is dd basis points above libor for libor borrowings and dd basis points above the prime rate for base rate borrowings . the interest rates under the first lien facility may be reduced based on our senior secured indebtedness ratio . interest on the principal amount of loans outstanding under the first lien facility is payable monthly , in arrears . our borrowings under the revolver are limited to dd % of our eligible receivables and the lower of $ dd dd and dd % of eligible inventory . during the term of the first lien facility , we will pay the revolver lenders a fee equal to the product of dd % per annum and the unused portion of the revolver . the first lien facility requires that we make annual payments in the amount of dd % ( or dd % if certain conditions are met ) of our excess cash flow , if any , commencing after the delivery of our financial statements for our fiscal year ended february dd , dd and prepayments corresponding to the net proceeds of certain asset sales and insurance not reinvested in the business , certain debt and equity issuances and , in the event the amount outstanding under the first lien credit facility exceeds dd times trailing dd month pro forma earnings before interest , taxes , depreciation , and amortization ( ebitda ) , the amount of such excess . certain of these prepayments may result in a permanent reduction of the revolver commitment . our and our domestic subsidiaries obligations under the first lien facility are guaranteed by our canadian subsidiary and secured by a lien on substantially all of our and our subsidiaries assets , including a mortgage on the binghamton facility owned by ascendia real estate , and pledges of all of the shares of capital stock or other equity interests of our subsidiaries . the first lien facility contains financial covenants requiring us to meet minimum ebitda requirements , debt coverage tests , minimum leverage and liquidity tests and restrictions on capital expenditures , the incurrence of additional debt , the creation of liens , payment of dividends , acquisitions , asset sales and other affirmative and negative covenants customarily contained in debt agreements of this type . the first lien facility contains customary events of default . we used and will use proceeds of the first lien facility to finance the coty transaction , refinance portions of our existing indebtedness , finance working capital , capital expenditures and general corporate purposes and pay transaction fees , costs and expenses . as of february dd , dd , we had borrowed the full amount of the term loan a-1 and the term loan a-2 and had not borrowed any money under the revolver . ( 2 ) second lien facility : on february dd , dd we entered into a credit agreement with certain lenders , wells fargo foothill , inc . , as collateral agent , and watershed administrative , llc , as administrative agent , ( the second lien credit agreement ) providing a $ dd dd credit facility comprised of a term loan ( the term loan b or the second lien facility ) . the maturity date of the second lien facility is march dd , dd . at our option , borrowings under the second lien facility are based on either libor or prime rate . the term loan b interest rate is dd basis points above libor for libor borrowings and dd basis points above the prime rate for base rate borrowings . interest on the term loan b is payable quarterly , in arrears . the second lien credit agreement requires that , to the extent such payments have been waived under the first lien facility or funds are available therefore after payment is made under the first lien facility , we make mandatory prepayments corresponding to dd % ( or dd % if certain conditions are met ) of our excess cash flow , if any , and the net proceeds of certain asset sales and insurance not reinvested in our business , certain debt and equity issuances and , in the event the amount outstanding under the first lien credit facility exceeds dd times trailing dd month pro forma ebitda , the amount of such excess . our and our domestic subsidiaries obligations under the second lien credit agreement are guaranteed by our canadian subsidiary and secured by a second priority lien on substantially all of our and our subsidiaries assets , including a subordinated mortgage on the binghamton facility owned by ascendia real estate llc and pledges of all of the shares of capital stock or other equity interests of its subsidiaries . the second lien credit agreement contains financial covenants requiring that we meet minimum ebitda requirements , debt coverage tests and minimum leverage and liquidity tests . it also contains restrictions on capital expenditures , the incurrence of additional debt , the creation of liens , our payment of dividends , acquisitions , asset sales and other affirmative and negative covenants customarily contained in debt agreements of this type . the second lien credit agreement also contains customary default provisions . we used the proceeds of the second lien credit agreement to finance a portion of the coty transaction . as of february dd , dd , the full amount of the second lien facility was outstanding . in november dd , dd we entered into an $ dd dd bridge term loan agreement ( the bridge loan ) with prencen lending llc ( as agent and lender , prencen ) and highgate house funds , ltd . , ( highgate ) . we used the proceeds of the bridge loan to finance the acquisition of brands from playtex ( $ dd dd ) , fund financing fees ( $ dd dd ) , repay certain existing indebtedness ( approximately $ dd dd in total ) and provide working capital to lander ( approximately $ dd dd ) . for the first dd days following closing , the bridge loan bore interest at an annual rate of dd percent above the dd - month libor ( set dd days in advance on november dd , dd at dd percent ) . the interest rate margin over libor increased by dd percent per annum at the end of that dd period , to dd percent . also at the end of the dd period , the dd - month libor was reset on february dd , dd for the next dd days ( february dd , dd to may dd , dd ) . the reset dd - month libor rate of dd percent plus the increased interest rate margin of dd percent generated an interest rate on the bridge loan of dd percent for the period february dd , dd to may dd , dd . the bridge loan was originally due and payable on may dd , dd . the bridge loan term was extended to coincide with the closing of the second amended and restated securities purchase agreement described below , with interest accrued and paid at closing . the bridge loan principal was refinanced with the long - term financing below and , accordingly , was classified as long - term as of february dd , dd . the borrowings under the bridge loan were secured by a first priority lien against all assets of the borrowers and ascendia real estate , and by a pledge of the shares in ascendia owned by dd shareholders . _ convertible secured notes   background _ on october dd , dd , we entered into a commitment with the lenders under the bridge loan for the provision of long - term debt and equity financing ( the debt / equity financing ) to repay the bridge loan . the terms of this commitment were amended on november dd , dd , concurrently with the closing of the bridge loan . prior to its maturity , the parties agreed to an extension of the bridge loan pending the completion of discussions on further modifications to the debt / equity financing . the parties also agreed to defer the payment of certain interest under the bridge loan pending its maturity . on june dd , dd , we ( i ) agreed with prencen and highgate to amend the debt / equity financing commitment and ( ii ) in connection with such amendment , entered into a second amended and restated securities purchase agreement ( the securities purchase agreement ) with prencen and prencen lending , llc ( prencen lending ) . prior to the closing , which occurred on august dd , dd , prencen lending acquired the interests of highgate under the bridge loan . under the securities purchase agreement , we sold prencen lending convertible secured notes ( the notes ) in the principal amount of $ dd dd and issued to prencen lending the series a and series b warrants described below . we applied the proceeds of the sale of the notes to retire the bridge loan ( $ dd dd ) and to pay accrued interest on the bridge loan ( $ dd dd ) , cash fees associated with the refinancing to an affiliate of prencen lending ( $ dd dd ) and third party cash fees associated with the refinancing ( $ dd dd ) , producing net cash proceeds to the company of approximately $ dd dd . in addition , we paid related fees and expenses of approximately $ dd dd to stanford group company ( stanford ) and issued to stanford and certain of its employees warrants to purchase dd shares of our common stock at an exercise price of $ dd per share , and warrants to purchase dd shares of our common stock at an exercise price of $ dd per share . the estimated fair value of theses warrants ( $ dd dd ) was recorded as an increase to additional paid - in capital and deferred financing costs . the notes had a term of dd years ( subject to the put and call rights described below ) and bore interest at the rate of dd % per annum . during the first dd months of the term , we had the option to defer payment of interest . as a result , we elected to defer $ dd dd of interest as of november dd , dd on the notes . in connection with the amendment and restatement of the debt / equity financing agreements and the sale of the notes , we also issued to prencen lending , on august dd , a warrant , designated as series a warrant , entitling the lender to purchase dd shares of our common stock at an exercise price of $ dd per share . on the same date , we issued to prencen lending an additional warrant , designated as series b warrant , entitling the holder to purchase up to dd dd shares of our common stock . the number of shares issuable upon exercise of the series b warrant , and the applicable exercise price , depended upon the outstanding principal balance of the notes outstanding to prencen lending as of the earlier of ( a ) the completion of certain approved acquisitions in the securities purchase agreement ; or ( b ) a future date certain . this determination date was subsequently deferred , by agreement of the parties , to the earlier of an approved acquisition or february dd , dd . in connection with the coty asset acquisition on february dd , dd ( which constituted an approved acquisition ) , the number of shares issuable upon exercise of the series b warrant was fixed at dd dd , and the applicable exercise price at $ dd per share . any portion of the balance due under the notes was convertible at any time , at the option of the holders(s ) , into shares of our common stock ( conversion shares ) at a price of $ dd per share ( subject to certain ant - dilution adjustments for the subsequent issuance of common stock or securities convertible or exchangeable into common stock at a price less than the conversion price then in effect ) , provided that the holders were prohibited from converting any amounts due under the notes if and to the extent that , following such a conversion , the holder and any affiliate would collectively own more than dd % of the aggregate number of shares of our common stock outstanding following such conversion ( the conversion option ) . the above described conversion option and specifically noted events of default ( the default derivatives ) , along with a change in control put included in the notes ( collectively the compound derivative ) have been bifurcated as derivatives required to be accounted for separately under fasb statement no . dd _ accounting for derivative financial instruments and hedging activities , and eitf dd - dd accounting for derivative financial instruments indexed to , and potentially settled in a company s own stock _ , and are considered in the determination of the estimated fair market value of the compound derivative liability noted below . on december dd , dd we entered into an agreement ( the note amendment agreement ) with prencen lending and prencen , amending certain terms and conditions of the notes described above . as amended , the notes ( the amended notes ) had a term of dd years from the date of the note amendment agreement ( subject to certain put and call rights described below ) and bore interest at the rate of dd percent per annum , subject to increase to up to dd % upon the nonoccurrence of certain specified events , provided that , as a consequence of the acquisition of the coty brands , we had the option to accrue and capitalize interest until the amended notes mature . the interest rate on the amended notes would increase to dd % upon and during the continuance of an event of default . any portion of the balance due under the amended notes was convertible at any time , at the option of the holders(s ) , into shares of our common stock at a price of $ dd per share ( subject to certain anti - dilution adjustments , the conversion shares ) , provided that the holders could not convert any amounts due under the amended notes if and to the extent that , following such a conversion , the holder and any affiliate would collectively beneficially own more than dd percent of the aggregate number of shares of our common stock outstanding following such conversion . we were entitled to require the exchange of up to $ dd dd in principal amount of the amended notes for shares of a newly created series of preferred stock on terms acceptable to us and prencen lending , at a premium of dd percent , if necessary to maintain our stockholders equity at the level required pursuant to the continued listing standards of the american stock exchange , on which our common stock is listed . at any time after the eighth anniversary of the note amendment agreement , we or any holder were entitled to redeem all or any portion of the balance outstanding under the amended notes at a premium of dd percent . the amended notes were redeemable by the holder(s ) at any time upon the occurrence of an event of default or a change in control of the company ( as defined in the amended notes ) , at premiums of dd and dd percent , respectively . in addition , upon the consummation of an approved acquisition ( as defined ) , the company was entitled to redeem up to $ dd dd in principal amount of the amended notes at a premium of dd percent , and $ dd dd in principal amount of the amended notes at a premium to be mutually agreed between the parties ( see note redemption and re - issuance below ) . the amended notes ranked junior to the permitted senior indebtedness ( as defined in the amended notes ) and were secured by a perfected security interest in all of the assets of the company and the stock and assets of each of our subsidiaries , pursuant to the terms of a security agreement , the guarantees of certain domestic subsidiaries of the company and the guarantee of a certain foreign subsidiary of the company . in connection with the amended note , prencen lending agreed to waive certain defaults arising under the notes relating to the payment of accrued interest due december dd , dd , waive compliance with certain financial covenants through the end of our fiscal year ended february dd , dd , and to defer until june dd , dd the requirement to file a registration statement with respect to shares of our common stock issuable upon conversion of the amended note . in addition , on december dd , dd , we entered into a second amended and restated registration rights agreement also bettinger shares in favor of prencen and prencen lending to provide registration rights with respect to the conversion shares , the preferred stock issued to prencen and the common stock into which the preferred stock may be converted . under the registration rights agreement , we were required to file a registration statement with respect to the registrable securities by june dd , dd and to use our best efforts to have such registration statement declared effective not later than dd days thereafter ( or dd days after the filing deadline if the registration statement is subject to a full review by the securities and exchange commission ) . _ convertible secured notes   current _ on february dd , dd , in connection with the acquisition of _ calgon _ and _ the healing garden _ brands from coty and the related senior financing facility we redeemed and permanently retired $ dd dd in principal amount of the amended notes held by prencen lending at a premium of $ dd dd . in addition , we paid $ dd dd in accrued interest on the amended notes . we redeemed the remaining $ dd dd of the amended notes and in exchange issued new notes ( the new notes ) in an equivalent principal amount with equivalent terms . we issued $ dd dd in aggregate principal amount of new notes to prencen lending , and $ dd dd in aggregate principal amount of the new notes to watershed capital partners , l.p . and watershed institutional partners , l.p . ( together , watershed ) . the terms of this transaction were determined through negotiations between prencen lending and watershed . the new notes are secured by a third lien on substantially all of our and our domestic subsidiaries assets and guaranteed by all of our subsidiaries . the new notes mature on december dd , dd ( subject to certain put and call rights described below ) and bear interest at the rate of dd % per annum ( subject to increase to up to dd % upon the occurrence or non - occurrence of certain events ) , payable monthly , in arrears . the interest payable on the new notes will be capitalized . any portion of the balance due under the new notes will be convertible at any time , at the option of the holders(s ) , into shares of our common stock ( at a price of $ dd per share ( subject to certain anti - dilution adjustments ) , provided that a holder may not , except in accordance with the terms of the new notes , convert any amounts due under the new notes if and to the extent that , following such a conversion , such holder and its affiliates would collectively beneficially own more than dd % of the aggregate number of shares of our common stock outstanding following such conversion . in addition , we may require the exchange of up to $ dd dd in principal amount of the new notes for shares of a newly created series of convertible preferred stock , on terms acceptable to us and the holders of a majority in principal amount of the new notes , for a dd % exchange fee , payable in cash , if necessary to maintain our stockholder equity at the level required pursuant to the continued listing requirements of the american stock exchange . at any time after the eighth anniversary of the issuance of the new notes , we or any holder may redeem all or any portion of the balance outstanding under the new notes at a premium of dd % . the new notes are redeemable by the holder(s ) of at least a majority in principal amount of the notes at any time upon the occurrence of an event of default or by any holder upon a change in control of ascendia ( as defined in the new notes ) , at a premium of dd % and dd % , respectively . the new notes rank _ pari passu _ with each other and junior to the first lien facility and the second lien facility . the full principal amount of the new notes is not convertible into conversion shares until dd days after an information statement on schedule 14c has been mailed to our stockholders describing , among other things , an action by consent that was taken by certain of our stockholders approving the conversion of the new notes as required by the rules of the american stock exchange and approving an amendment to our certificate of incorporation to increase the number of authorized shares to such amount as is necessary to enable the conversion of the new notes into and the exercise of the series a warrants and series b warrants for shares of our common stock . at the closing of this transaction , we entered into a registration rights agreement ( the registration rights agreement ) in favor of watershed , prencen and prencen lending with respect to the conversion shares , warrant shares ( as defined in the registration rights agreement ) , the preferred conversion shares ( as defined in the registration rights agreement ) and any shares of our common stock currently held or subsequently acquired by watershed , prencen or prencen lending ( the registrable securities ) . under the registration rights agreement , we are required to file a registration statement with respect to the registrable securities by june dd , dd and to use our best efforts to have such registration statement declared effective not later than dd days thereafter ( or dd days after the filing deadline if the registration statement is subjected to a full review by the securities and exchange commission ) . the registration rights agreement contains penalties for the failure to comply with such deadlines or to maintain the effectiveness of the registration statement . in addition , prencen , prencen lending and watershed were granted demand and piggyback registration rights on terms set forth in the registration rights agreement . _ accounting for issuance of convertible secured notes _ consideration received from the issuance of the notes ( $ dd dd , net of a $ dd dd origination fee paid to prentice capital management , lp , an affiliate of prencen lending ) , was allocated to the series a and series b warrants and the amended notes based on the relative fair value of each . the resulting $ dd dd value attributed to the series a and series b warrants has been reflected as a credit to paid - in capital with an offsetting debt issuance discount recorded on the amended notes . the resulting allocation to the notes ( $ dd dd ) was then further offset , as an additional debt issuance discount , by the estimated fair value of the liability for the compound derivative discussed above ( amounting to $ dd dd as of august dd , dd ) . the debt issuance discount ( totaling $ dd dd ) and the cash and other deferred finance costs associated with the issuance of the new notes ( totaling $ dd dd ) , are being amortized to interest expense under the interest method over the dd year period to the date that the dd year put option becomes exercisable ( august dd , dd ) . the dd % premium associated with the dd year put option ( $ dd dd ) is being accreted over the same dd year period , also under the interest method , as an increase to interest expense and the recorded value of the notes . such amortization and accretion amounted to $ dd dd in the current period and $ dd dd since inception . given the significant initial issuance discount recorded on the new notes this treatment will result in substantially lower amortization and accretion being charged to interest expense in the earlier of the dd years than the latter . the liability recorded for the compound derivative is adjusted to fair market value at each future reporting date with the difference in the fair value of such liability between such reporting dates being recorded as an increase or decrease in interest and other expense for that period . as noted above under convertible secured notes current , the notes were amended on december dd , dd and terminated and reissued on february dd , dd in connection with the closing of the financing of the coty acquisition ( see note dd ) . the amendment of the notes on december dd , dd is being accounted for as an extinguishment of debt in accordance with eitf dd - dd . this results in a net loss on debt extinguishment of $ dd dd . for the period august dd , dd to february dd , dd , the gain on revaluation of the compound derivative is $ dd dd , and the related amortization of debt discount and accretion of redemption premium is $ dd . amortization of finance fees was $ dd dd . the value of the compound derivative at february dd , dd is $ dd dd . as partial consideration for the purchase of the _ calgon _ and _ the healing garden _ brands form coty we issued to coty at the closing of the acquisition a $ dd dd subordinated note . this note is subordinated to senior indebtedness , matures on september dd , dd and bears interest at the rate of dd % per annum , provided that from and during the continuance of certain defaults under our senior indebtedness , the interest rate will increase to dd % per annum . unless each of our senior lenders agrees otherwise , interest on the note is required to be capitalized . on august dd , dd , we entered into a dd - year $ dd dd revolving credit facility with cit group / commercial services , inc . ( cit ) we used this facility to fund approximately $ dd dd of the cash costs associated with the convertible * * * * secured notes described above and approximately $ dd dd in expenses associated with this facility . in addition , another $ dd dd was drawn from the facility , which along with the $ dd dd in net proceeds from the issuance of the notes was used to redeem certain shares of the companys series a junior participating preferred stock from marnan , llc and dana holdings , llc . the remainder of availability under the facility was used for working capital and general corporate purposes . the facility was secured by our united states accounts receivable and inventory . on february dd , dd , we terminated this facility and paid cit a prepayment premium of $ dd . on the same date , we entered into a new $ dd dd revolving credit facility with wff , which is part of the first lien facility described above . at february dd , dd , there was no amount outstanding under this revolver . at february dd , dd ascendia had cash and cash equivalents of $ dd dd . management believes this and other financing sources , including the $ dd dd committed revolving credit facility , provide us with sufficient operating liquidity for at least the next dd months . * * cash flow   year ended february dd , dd and february dd , dd * * net cash used in operating activities was ( $ dd ) dd and ( $ dd ) dd , respectively for the year ended february dd , dd and february dd , dd . for the year ended february dd , dd , a primary factor contributing to negative operating cash flow was the increase in inventory of $ dd dd primarily due to the acquisition of inventory in the asset acquisition from coty . the other primary contributor consisted of the net loss from continuing operations of ( $ dd ) dd , adjusted for the net effect of non - cash charges or gains reflected in the statement of operations of $ dd dd , resulting in a net amount of ( $ dd ) dd . additional changes in operating assets and liabilities provided a negative contribution of $ dd dd . cash used in discontinued operations was ( $ dd ) dd . for the year ended february dd , dd , a primary factor contributing to negative operating cash flow was the acquisition of inventory of ( $ dd ) dd in the asset acquisition from playtex . the other primary contributor consisted of the net loss of ( $ dd ) dd , less the net effect of non - cash charges reflected in the statement of operations of $ dd dd . additional changes in operating assets and liabilities provided a negative contribution of ( $ dd ) dd . cash used in discontinued operations was ( $ dd ) dd for the year ended february dd , dd . net cash used in investing activities was ( $ dd ) dd for the year ended february dd , dd compared to ( $ dd ) dd for the year ended february dd , dd . for the year ended february dd , dd , the activities consisted of ( $ dd ) dd for capital equipment purchases and ( $ dd ) dd , primarily for the purchase of intangible assets from coty . for the year ended february dd , dd , the major activities consisted of cash received of $ dd dd from the reverse acquisition of cenuco , inc . ( $ dd ) dd for capital equipment purchases and ( $ dd ) dd , primarily for the purchase of intangible assets from playtex . net cash provided by financing activities for the year ended february dd , dd was $ dd dd compared to $ dd dd for the year ended february dd , dd . the majority of the activity for the year ended february dd , dd related to net proceeds of $ dd dd received from the $ dd dd convertible secured notes after repayment of the $ dd dd bridge loan principal plus accrued interest and the proceeds from the first and second lien loan facilities of $ dd dd ( see liquidity and capital resources discussion above ) , less associated financing fees of $ dd dd , redemption of $ dd dd principal of convertible secured notes and the partial redemption of preferred shares of $ dd dd . for the year ended february dd , dd , the majority of the activity related to the bridge loan proceeds , net of associated financing fees of $ dd dd and repayments under the companys line of credit and other long - term debt $ dd dd . _ off - balance sheet arrangements _ the company has no off - balance sheet financing arrangements as that term is used in item dd ) of regulation s - k . _ contractual obligations as of february dd , dd _ compound derivative liability interest expense has not been included on funded debt at february dd , dd of $ dd dd ( see note dd to the consolidated financial statements ) with an expected annual interest charge estimated to be $ dd dd , assuming a weighted average interest rate of dd % . * * critical accounting policies * * we prepare our consolidated financial statements in accordance with accounting principles generally accepted in the united states of america . the preparation of these financial statements requires us to make estimates and judgments that affect the reported amounts of assets , liabilities , revenues and expenses . we base our estimates on historical experience and on various other assumptions that we believe to be reasonable under the circumstances , the results of which form the basis for making judgments about the carrying values of assets and liabilities that are not readily apparent from other sources . actual results may differ from these estimates under different assumptions or conditions . our critical accounting policies include : * accounting for inventory and of costs of goods sold ;   * accounting for goodwill and intangible assets ;   * accounting for plant , property and equipment ; and   * accounting for derivative instruments revenue from product sales is recognized when the related goods are shipped , all significant obligations of the company have been satisfied , persuasive evidence of an arrangement exists , the price to the buyer is fixed or determinable and collection is reasonably assured or probable . amounts billed to customers related to shipping and handling are included in net sales . the cost of shipping products to the customer is recognized at the time the products are shipped and included in cost of sales . * * cooperative advertising accruals * * cooperative advertising programs and other volume - based incentives are accounted for on an accrual basis as a reduction in net revenue according to the requirements of emerging task force dd - dd , _ accounting for consideration given by a vendor to a customer or a reseller of the vendor s products _ , in the period in which the related sales are recognized . if additional cooperative advertising programs , promotions and other volume - based incentives are required to promote the companys products , then additional reserves may be required . conversely reserves are decreased to reflect the lesser need for cooperative advertising programs . we extend credit based upon evaluations of a customers financial condition and provides for any anticipated credit losses in our financial statements based upon managements estimates and ongoing reviews of recording allowances . if the financial conditions of our customers were to deteriorate , resulting in an impairment of their ability to make payments , additional reserves may be required . conversely , reserves are reduced to reflect credit and collection improvements . our management must make estimates of potential future product returns related to current period product revenue . management analyzes historical returns , current economic trends and changes in customer demand for our products when evaluating the adequacy of the reserve for sales returns . management judgments and estimates must be made and used in connection with establishing the sales returns reserves in any accounting period . if actual sales returns increase above the historical return rate , then additional reserves may be required . conversely , the sales return reserve could be decreased if the actual return rates are less than the historical return rates , which were used to establish such sales returns reserve . inventories are stated at the lower of cost or market , with cost determined using the first - in , first - out ( fifo ) method . inventories consist of raw materials used to manufacture the companys health , beauty and oral care products , as well as finished goods that consist of the companys product lines sold to its customers . the company writes down inventory for estimated excess and discontinued products equal to the difference between cost and estimated market value based upon assumptions about future demand and market conditions . excess and discontinued product inventory could arise due to numerous factors , including but not limited to , the competitive nature of the market and product demand by consumers . if market conditions are less favorable than those anticipated by management , additional write - downs may be required , including provisions to reduce inventory to net realizable value . * * goodwill and indefinite lived intangibles * * as a result of the purchase of assets from playtex on november dd , dd , we allocated the purchase price to the estimated fair value of the assets acquired , which resulted in $ dd dd being allocated to intangible assets ( brand names and product formulae ) , initially estimated to have indefinite lives . as a result of the purchase of assets from coty on february dd , dd ( _ see _ note dd ) , we allocated the purchase price to the estimated fair value of the assets acquired , which resulted in $ dd dd being allocated to intangible assets ( product formulae ) , initially estimated to have indefinite lives . sfas no . dd , _ goodwill and other intangible assets _ , requires goodwill and other intangibles that have indefinite lives to not be amortized but to be reviewed annually for impairment or more frequently if impairment indicators arise . the company is evaluating the possibility of assigning a finite life to playtex and coty assets . there is no goodwill associated with the playtex and coty asset acquisitions . _ wireless applications development division   discontinued operations _ all of the goodwill recorded as a result of the merger was assigned to the wad division reporting unit . we determined the carrying value of the wad division on the basis of specifically identifiable assets and liabilities . given the stand - alone nature of the division , we determined that it was not appropriate to allocate any corporate assets or liabilities from the health and beauty care division to the wad division . to determine fair value of the wad division at february dd , dd , we utilized the income approach and market approach valuation models . the income approach used the discounted cash flow method applied to the divisions forecasted cash flow . a dd % discount rate was determined to be appropriate to reflect the level of risk associated with a reporting unit in the early stage of development and the level of uncertainty with achieving the forecasted sales and cash flows . this produced an indication of value of $ dd dd . the market approach produced an indication of value of $ dd dd . based on these approaches , we established $ dd dd as the fair value of the reporting unit at february dd , dd . we used this fair value in arriving at an estimated fair value of goodwill of $ dd dd . we compared this to the existing recorded value of goodwill of $ dd dd and recorded the difference of $ dd dd as an impairment charge in the fourth quarter of fiscal dd . the cash flows and the indication of fair value with respect to the market approach were based upon forecasted sales of $ dd dd , $ dd dd and $ dd dd , respectively for the fiscal years dd through dd . the sales forecast was based primarily on the anticipated development of enhanced software technology and the wad divisions ability to further develop key partnerships and customer relationships to expand the distribution of its wireless technology software . as noted above , during the quarter ended february dd , dd , in accordance with sfas no . dd , we tested the carrying value of goodwill for impairment . this led to a goodwill impairment of $ dd dd being recorded in the statement of operations . during the year ended february dd , dd , the wad division generated sales of less than $ dd dd . as a result , we discontinued this operation and wrote - off the remaining goodwill of $ dd dd . during the quarter ended february dd , dd , we tested the carrying value of the $ dd dd of intangible assets related to the playtex acquisition . this led to an impairment of $ dd dd being recorded in the statement of operations . the playtex asset impairment charge resulted from the carrying value of the brands ( intangible assets ) purchased exceeding fair value by $ dd dd at february dd , dd . the fair value was calculated by computing the present value of the cash flow of net royalties saved for each brand . the reason for the impairment related to a decline in projected net sales when compared to projected net sales at time of acquisition . * * amortizable intangible assets * * sfas no . dd also requires that intangible assets with finite useful lives be amortized over their respective estimated useful lives and reviewed for impairment . as a result of the merger on may dd , dd , and as revised in the quarter ended february dd , dd , we recorded intangible assets of $ dd dd related to acquired core software technology , with an estimated useful life of dd years . amortization expense for the acquired software technology was $ dd dd and $ dd dd respectively , for the years ended february dd , dd and dd and is included as a component of discontinued operations . there was no amortization expense on these intangible assets in dd as the operations of cenuco , inc . are not included for the period prior to may dd , dd merger . as of february dd , dd , the core software technology was deemed to have no future economic life therefore the carrying value of $ dd dd was written - off and recorded as a component of discontinued operations . for the playtex asset acquisition on november dd , dd , an allocation of the purchase price resulted in $ dd dd being allocated to customer relationships . the estimated useful lives are dd years , to be amortized on a straight - line basis . the amortization expense recorded for the years ended february dd , dd and dd was $ dd dd and $ dd dd , respectively . for the coty asset acquisition on february dd , dd , an allocation of the purchase price resulted in $ dd dd being allocated to customer relationships and $ dd being allocated to brand names and backlog . the estimated useful lives are dd years for customer relationships , and dd and dd years for the brand names , to be amortized on a straight - line basis . the amortization expense recorded for the year ended february dd , dd was $ dd dd . property , plant and equipment are stated at cost less accumulated depreciation and amortization . the costs of major additions and improvements are capitalized and maintenance and repairs that do not improve or extend the life of the respective assets are charged to operations as incurred . depreciation is calculated using the straight - line method over the estimated useful lives of the assets ranging from dd to dd years . leasehold improvements are amortized over the shorter of the term of the lease or their estimated useful lives . if we determine that a change is required in the useful life of an asset , future depreciation / amortization is adjusted accordingly . we record a valuation allowance to reduce the amount of our deferred tax assets to the amount that management estimates is more likely than not to be realized . while we have considered future taxable income and ongoing tax planning strategies in assessing the need for the valuation allowance , in the event we determine that we would be able to realize our deferred tax assets in the future in excess of the net recorded amount , an adjustment to the deferred tax asset would increase income in the period such determination was made . likewise , if we determine that we would not be able to realize all or part of the net deferred tax asset in the future , an adjustment to the deferred tax asset would be charged to income in the period such determination was made . we determine the fair value of derivatives in accordance with sfas no . dd , _ accounting for derivative instruments and hedging activities _ and eitf dd - dd , _ accounting for derivative financial instruments indexed to , and potentially settled in a company s own stock _ at each reporting date and record the change in fair value in the consolidated statement of operations as a component of other income ( expense ) section . the primary derivative that we have to adjust to fair value at each reporting date is the compound derivative liability which includes the beneficial conversion feature associated with the issuance and modification of the convertible secured notes the proceeds of which we used to fund acquisitions , pay related costs and for general corporate purposes . we have adopted a lattice model to value the beneficial conversion feature combined with the other bifurcated derivatives associated with penalties for an event of default or change in control . the model also contains a simulation that determines the probability of the note holders electing to convert or not convert their debt into common stock . * * recent accounting pronouncements * * in february dd , the financial accounting standards board ( fasb ) issued sfas no . dd , _ the fair value option for financial assets and financial liabilities_. this statement gives entities the option to carry most financial assets and liabilities at fair value , with changes in fair value recorded in earnings . this statement , which will be effective in the first quarter of fiscal dd , is not expected to have a material impact on our consolidated financial position or results of operations . in september dd , fasb issued staff position aug air-1 , _ accounting for planned major maintenance activities ( air-1 ) . air-1 amends apb opinion no . dd , interim financial reporting _ ( apb dd ) , and prohibits the accrue - in - advance method of accounting for planned major maintenance activities in annual and interim financial reporting periods . we do have planned major maintenance activities associated with our annual or semi - annual plant shutdowns . we adopted the provisions of air-1 beginning march dd , dd . the guidance in the air-1 was applied retrospectively for all financial statements presented , unless it is impracticable to do so . the impact was not material to our historical annual financial results or financial position from the adoption of air-1 . in september dd , the securities and exchange commission issued staff accounting bulletin no . dd , _ considering the effects of prior year misstatements when qualifying misstatements in current year financial statements _ ( sab dd ) , which provides interpretive guidance on the consideration of the effects of prior year misstatements in quantifying current year misstatements for the purpose of a materiality assessment . the provisions of sab dd are effective for the company after november dd , dd . the company followed the guidance of sab dd starting in the fourth quarter of the current year and noted there was no impact on the current or prior consolidated financial statements . . in september dd , fasb issued sfas no . dd , _ fair value measurements _ ( sfas no . dd ) , which defines fair value , establishes a framework for measuring fair value in generally accepted accounting principles , and expands disclosure about fair value measurements . sfas no . dd applies under a number of other accounting pronouncements that require or permit fair value measurements . the provisions of sfas no . dd are effective for the company beginning january dd , dd . we are currently evaluating the impact of adopting sfas no . dd on our financial position and results of operations , but it is not expected to have a significant effect . in july dd , fasb issued fasb interpretation no . dd , _ accounting for uncertainty in income taxes - an interpretation of fasb statement no . dd _ ( fin dd ) , which clarifies the accounting for uncertainty in tax positions . this guidance seeks to reduce the diversity in practice associated with certain aspects of the recognition and measurement related to accounting for income taxes . the provisions of fin dd are effective for fiscal years beginning after december dd , dd , with the cumulative effect of the change in accounting principal , if any , recorded as an adjustment to opening retained earnings . we adopted fin dd on march dd , dd ; we do not expect this will have a material impact on our consolidated results of operations and financial condition .   we market our products throughout the united states and internationally . as a result , factors as rising commodity costs and weak global economic conditions could adversely affect our results of operations . forecasted material purchases ( including freight ) during the next year are approximately $ dd dd . an average dd % price increase related to oil and related raw materials could cost us approximately $ dd dd . we have also evaluated our exposure to fluctuations in interest rates . a principal balance of $ dd dd of variable - rate debt is the total amount of funds that are able to be drawn under the first lien facility and second lien facility , with a maturity date of february dd , dd . an increase of dd percent in the interest rates would increase interest expense by approximately $ dd dd per year . rates under our fixed - rate debt of $ dd dd may increase upon the occurrence of an event of default . an increase of dd and dd - half percent on $ dd dd and an increase of dd percent on $ dd dd in the interest rates would increase interest expense by approximately $ dd dd per year . we have not historically used , and are not currently using , derivative instruments to manage the above risks .'"
      ]
     },
     "execution_count": 25,
     "metadata": {},
     "output_type": "execute_result"
    }
   ],
   "source": [
    "test_text_doc[100]"
   ]
  },
  {
   "cell_type": "markdown",
   "metadata": {},
   "source": [
    "prepare tabel"
   ]
  },
  {
   "cell_type": "code",
   "execution_count": 37,
   "metadata": {},
   "outputs": [],
   "source": [
    "inform = list(zip(test_file_list,test_cik_list,test_labels))\n",
    "inform_1 = pd.DataFrame(inform, index = np.arange(len(test_labels)), columns = [ 'file','cik','label'])"
   ]
  },
  {
   "cell_type": "code",
   "execution_count": 39,
   "metadata": {},
   "outputs": [
    {
     "data": {
      "text/html": [
       "<div>\n",
       "<style scoped>\n",
       "    .dataframe tbody tr th:only-of-type {\n",
       "        vertical-align: middle;\n",
       "    }\n",
       "\n",
       "    .dataframe tbody tr th {\n",
       "        vertical-align: top;\n",
       "    }\n",
       "\n",
       "    .dataframe thead th {\n",
       "        text-align: right;\n",
       "    }\n",
       "</style>\n",
       "<table border=\"1\" class=\"dataframe\">\n",
       "  <thead>\n",
       "    <tr style=\"text-align: right;\">\n",
       "      <th></th>\n",
       "      <th>file</th>\n",
       "      <th>cik</th>\n",
       "      <th>label</th>\n",
       "    </tr>\n",
       "  </thead>\n",
       "  <tbody>\n",
       "    <tr>\n",
       "      <th>0</th>\n",
       "      <td>edgar/data/815910/0000815910-04-000041.txt</td>\n",
       "      <td>815910</td>\n",
       "      <td>0</td>\n",
       "    </tr>\n",
       "    <tr>\n",
       "      <th>1</th>\n",
       "      <td>edgar/data/1294538/0000950124-05-001833.txt</td>\n",
       "      <td>1294538</td>\n",
       "      <td>0</td>\n",
       "    </tr>\n",
       "    <tr>\n",
       "      <th>2</th>\n",
       "      <td>edgar/data/49401/0000049401-05-000016.txt</td>\n",
       "      <td>49401</td>\n",
       "      <td>0</td>\n",
       "    </tr>\n",
       "    <tr>\n",
       "      <th>3</th>\n",
       "      <td>edgar/data/1326973/0000950134-07-023627.txt</td>\n",
       "      <td>1326973</td>\n",
       "      <td>0</td>\n",
       "    </tr>\n",
       "    <tr>\n",
       "      <th>4</th>\n",
       "      <td>edgar/data/1043000/0000950134-06-006443.txt</td>\n",
       "      <td>1043000</td>\n",
       "      <td>0</td>\n",
       "    </tr>\n",
       "  </tbody>\n",
       "</table>\n",
       "</div>"
      ],
      "text/plain": [
       "                                          file      cik  label\n",
       "0   edgar/data/815910/0000815910-04-000041.txt   815910      0\n",
       "1  edgar/data/1294538/0000950124-05-001833.txt  1294538      0\n",
       "2    edgar/data/49401/0000049401-05-000016.txt    49401      0\n",
       "3  edgar/data/1326973/0000950134-07-023627.txt  1326973      0\n",
       "4  edgar/data/1043000/0000950134-06-006443.txt  1043000      0"
      ]
     },
     "execution_count": 39,
     "metadata": {},
     "output_type": "execute_result"
    }
   ],
   "source": [
    "inform_1.head()"
   ]
  },
  {
   "cell_type": "code",
   "execution_count": 40,
   "metadata": {},
   "outputs": [
    {
     "data": {
      "text/plain": [
       "101"
      ]
     },
     "execution_count": 40,
     "metadata": {},
     "output_type": "execute_result"
    }
   ],
   "source": [
    "inform_1.label.sum()"
   ]
  },
  {
   "cell_type": "code",
   "execution_count": 41,
   "metadata": {},
   "outputs": [],
   "source": [
    "inform_1.to_csv('test_insight_20200214.csv',index=False)"
   ]
  },
  {
   "cell_type": "code",
   "execution_count": null,
   "metadata": {},
   "outputs": [],
   "source": []
  }
 ],
 "metadata": {
  "kernelspec": {
   "display_name": "Python 3",
   "language": "python",
   "name": "python3"
  },
  "language_info": {
   "codemirror_mode": {
    "name": "ipython",
    "version": 3
   },
   "file_extension": ".py",
   "mimetype": "text/x-python",
   "name": "python",
   "nbconvert_exporter": "python",
   "pygments_lexer": "ipython3",
   "version": "3.5.2"
  }
 },
 "nbformat": 4,
 "nbformat_minor": 2
}
