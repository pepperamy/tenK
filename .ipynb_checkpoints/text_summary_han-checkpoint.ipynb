{
 "cells": [
  {
   "cell_type": "code",
   "execution_count": 1,
   "metadata": {},
   "outputs": [
    {
     "name": "stderr",
     "output_type": "stream",
     "text": [
      "Using TensorFlow backend.\n"
     ]
    }
   ],
   "source": [
    "import numpy as np\n",
    "import pandas as pd\n",
    "import _pickle as pickle\n",
    "from collections import defaultdict\n",
    "import re\n",
    "import ast\n",
    "\n",
    "from bs4 import BeautifulSoup\n",
    "\n",
    "import sys\n",
    "import os\n",
    "import json\n",
    "import operator\n",
    "\n",
    "from keras.preprocessing.text import Tokenizer, text_to_word_sequence\n",
    "from keras.preprocessing.sequence import pad_sequences\n",
    "from keras.utils.np_utils import to_categorical\n",
    "\n",
    "from keras import backend as K\n",
    "from keras.engine.topology import Layer, InputSpec\n",
    "from keras import initializers\n",
    "\n",
    "from keras.optimizers import SGD\n",
    "\n",
    "from keras.layers import Embedding, Dense, Conv1D, MaxPooling1D, Dropout, Activation, Input, Flatten, Concatenate, GlobalAveragePooling1D, LSTM, GRU, Bidirectional, dot, multiply, Lambda, TimeDistributed, Masking\n",
    "\n",
    "from keras.models import Model, Sequential\n",
    "from keras.regularizers import l2,l1,l1_l2\n",
    "from keras.callbacks import Callback,EarlyStopping, ModelCheckpoint\n",
    "from sklearn.utils import class_weight\n",
    "\n",
    "from keras.callbacks import Callback\n",
    "\n",
    "from keras.layers.normalization import BatchNormalization\n",
    "from sklearn.model_selection import KFold, train_test_split, StratifiedKFold\n",
    "from sklearn.metrics import precision_recall_fscore_support, precision_recall_curve, classification_report,accuracy_score, auc, roc_curve, roc_auc_score, average_precision_score\n"
   ]
  },
  {
   "cell_type": "code",
   "execution_count": 2,
   "metadata": {},
   "outputs": [],
   "source": [
    "from gensim.models import Word2Vec"
   ]
  },
  {
   "cell_type": "code",
   "execution_count": 3,
   "metadata": {},
   "outputs": [],
   "source": [
    "from keras.initializers import Constant"
   ]
  },
  {
   "cell_type": "code",
   "execution_count": 4,
   "metadata": {},
   "outputs": [],
   "source": [
    "from keras import optimizers"
   ]
  },
  {
   "cell_type": "code",
   "execution_count": 5,
   "metadata": {},
   "outputs": [],
   "source": [
    "import matplotlib.pyplot as plt"
   ]
  },
  {
   "cell_type": "code",
   "execution_count": 6,
   "metadata": {},
   "outputs": [],
   "source": [
    "MAX_PARA_LENGTH = 70\n",
    "MAX_PARAS = 70\n",
    "MAX_NB_WORDS = 50000\n",
    "EMBEDDING_DIM = 100\n",
    "#VALIDATION_SPLIT = 0.2\n",
    "#lr = 0.0005\n",
    "opt = optimizers.Adam(lr= 0.0005)\n",
    "#l1_reg = l1(1e-5)\n",
    "l12_reg = l1_l2(l1 = 1e-6,l2 = 1e-6)\n",
    "BATCH_SIZE = 24\n",
    "#metrics_auc = {}\n",
    "metrics_prcs = {}\n",
    "epochs_num = 200\n",
    "#num_folder = 5\n",
    "path = '/home/jujun/fraudprediction_10k/data/'\n",
    "hanpath = '/home/jujun/fraudprediction_10k/HAN/'\n",
    "date = '20200419'"
   ]
  },
  {
   "cell_type": "code",
   "execution_count": 7,
   "metadata": {},
   "outputs": [],
   "source": [
    "def load_data(data_name):\n",
    "    f = open(data_name,'rb')\n",
    "    data = pickle.load(f)\n",
    "    return data"
   ]
  },
  {
   "cell_type": "code",
   "execution_count": 8,
   "metadata": {},
   "outputs": [],
   "source": [
    "raw_data = load_data('/home/jujun/fraudprediction_10k/data/rm_name/data_20200309_2012_rmname_smr')"
   ]
  },
  {
   "cell_type": "code",
   "execution_count": 9,
   "metadata": {},
   "outputs": [],
   "source": [
    "with open('/home/jujun/fraudprediction_10k/data/word_index_50000_20200228','rb') as fp:\n",
    "    word_index_5000 = pickle.load(fp)"
   ]
  },
  {
   "cell_type": "code",
   "execution_count": 29,
   "metadata": {},
   "outputs": [
    {
     "data": {
      "text/plain": [
       "50000"
      ]
     },
     "execution_count": 29,
     "metadata": {},
     "output_type": "execute_result"
    }
   ],
   "source": [
    "len(word_index_5000)"
   ]
  },
  {
   "cell_type": "code",
   "execution_count": 11,
   "metadata": {},
   "outputs": [],
   "source": [
    "data = np.zeros((len(raw_data), MAX_PARAS, MAX_PARA_LENGTH), dtype='int32') "
   ]
  },
  {
   "cell_type": "code",
   "execution_count": 12,
   "metadata": {},
   "outputs": [
    {
     "data": {
      "text/plain": [
       "(56288, 70, 70)"
      ]
     },
     "execution_count": 12,
     "metadata": {},
     "output_type": "execute_result"
    }
   ],
   "source": [
    "data.shape"
   ]
  },
  {
   "cell_type": "code",
   "execution_count": 15,
   "metadata": {},
   "outputs": [],
   "source": [
    "# labels = []\n",
    "# for r in raw_data:\n",
    "#     labels.append(r[1])\n",
    "\n",
    "text_para = []\n",
    "for d in raw_data:\n",
    "    text_para.append(d[-1])\n",
    "\n",
    "# def generate_doc(x):\n",
    "#     return ' '.join(x)\n",
    "\n",
    "# text_doc = []\n",
    "# for d in text_para:\n",
    "#     text_doc.append(generate_doc(d))\n",
    "\n",
    "# tokenizer = Tokenizer(num_words=MAX_NB_WORDS)\n",
    "# tokenizer.fit_on_texts(text_doc)\n",
    "# word_index = tokenizer.word_index\n",
    "# print('Total %s unique tokens.' % len(word_index))"
   ]
  },
  {
   "cell_type": "code",
   "execution_count": 21,
   "metadata": {},
   "outputs": [],
   "source": [
    "for i, doc in enumerate(text_para):\n",
    "    #structure of a doc: [p1,p2,p3,p4]\n",
    "    for j, para in enumerate(doc):\n",
    "        \n",
    "        if j < MAX_PARAS:\n",
    "            wordTokens = text_to_word_sequence(para)\n",
    "            \n",
    "            k = 0\n",
    "            for _, word in enumerate(wordTokens):\n",
    "                try:\n",
    "                    if k < MAX_PARA_LENGTH and word_index_5000[word] < MAX_NB_WORDS:\n",
    "                        data[i, j, k] = word_index_5000[word]\n",
    "                        k = k + 1\n",
    "                except:\n",
    "                    pass"
   ]
  },
  {
   "cell_type": "code",
   "execution_count": 22,
   "metadata": {},
   "outputs": [
    {
     "data": {
      "text/plain": [
       "array([[ 586,    4, 3563, ...,    0,    0,    0],\n",
       "       [ 109,   47,   13, ...,  572,  347,  345],\n",
       "       [   2,  170,  363, ...,    0,    0,    0],\n",
       "       ...,\n",
       "       [   0,    0,    0, ...,    0,    0,    0],\n",
       "       [   0,    0,    0, ...,    0,    0,    0],\n",
       "       [   0,    0,    0, ...,    0,    0,    0]], dtype=int32)"
      ]
     },
     "execution_count": 22,
     "metadata": {},
     "output_type": "execute_result"
    }
   ],
   "source": [
    "data[0]"
   ]
  },
  {
   "cell_type": "code",
   "execution_count": 24,
   "metadata": {},
   "outputs": [
    {
     "data": {
      "text/plain": [
       "586"
      ]
     },
     "execution_count": 24,
     "metadata": {},
     "output_type": "execute_result"
    }
   ],
   "source": [
    "word_index_5000['guidance']"
   ]
  },
  {
   "cell_type": "code",
   "execution_count": 25,
   "metadata": {},
   "outputs": [
    {
     "data": {
      "text/plain": [
       "\" guidance and commonly accepted business practices pertaining to the new standards will not result in unexpected modifications to the company 's current revenue recognition practices which could materially adversely impact the company 's license fee revenue , results of operations and net income .\""
      ]
     },
     "execution_count": 25,
     "metadata": {},
     "output_type": "execute_result"
    }
   ],
   "source": [
    "text_para[0][0]"
   ]
  },
  {
   "cell_type": "code",
   "execution_count": 26,
   "metadata": {},
   "outputs": [],
   "source": [
    "np.save('/home/jujun/fraudprediction_10k/data/rm_name/handata_20200417_smr', data)"
   ]
  },
  {
   "cell_type": "code",
   "execution_count": 27,
   "metadata": {},
   "outputs": [],
   "source": [
    "w2v_model = Word2Vec.load(\"/home/jujun/fraudprediction_10k/data/w2v_model_202002028.model\")"
   ]
  },
  {
   "cell_type": "code",
   "execution_count": 30,
   "metadata": {},
   "outputs": [
    {
     "name": "stderr",
     "output_type": "stream",
     "text": [
      "/usr/local/lib/python3.5/dist-packages/ipykernel_launcher.py:6: DeprecationWarning: Call to deprecated `__getitem__` (Method will be removed in 4.0.0, use self.wv.__getitem__() instead).\n",
      "  \n"
     ]
    }
   ],
   "source": [
    "embedding_matrix = np.zeros(((MAX_NB_WORDS+ 1) , EMBEDDING_DIM))\n",
    "ignored=[]\n",
    "cnt=0\n",
    "for word, i in word_index_5000.items():\n",
    "    if word in w2v_model.wv.vocab:\n",
    "        embedding_vector = w2v_model[word]\n",
    "        cnt+=1\n",
    "        if embedding_vector is not None:\n",
    "        # words not found in embedding index will be all-zeros.\n",
    "            embedding_matrix[i] = embedding_vector\n",
    "    else: ignored.append(word)"
   ]
  },
  {
   "cell_type": "code",
   "execution_count": 36,
   "metadata": {},
   "outputs": [
    {
     "name": "stdout",
     "output_type": "stream",
     "text": [
      "['dd']\n"
     ]
    }
   ],
   "source": [
    "print([k for k,v in word_index_5000.items() if v == 1])"
   ]
  },
  {
   "cell_type": "code",
   "execution_count": 38,
   "metadata": {},
   "outputs": [
    {
     "data": {
      "text/plain": [
       "array([-1.3283623 ,  1.41827   , -0.65882695, -1.6147015 ,  2.468268  ,\n",
       "       -0.42368728, -4.4156685 , -1.3322588 ,  3.7734382 ,  0.7318338 ,\n",
       "        4.3100348 , -1.4612162 ,  6.325748  ,  2.366124  , -6.921417  ,\n",
       "       -1.182699  ,  1.480579  ,  2.2892702 , -2.5732665 , -0.69038177,\n",
       "        4.0245414 , -0.5315669 , -1.1980819 ,  1.4395552 , -2.6943657 ,\n",
       "        0.7361027 ,  4.8261    , -0.01021513,  0.21439712,  3.478016  ,\n",
       "       -2.1577919 ,  2.8423629 , -4.420455  , -2.8044963 ,  6.279768  ,\n",
       "       -2.4343824 , -4.0343623 , -0.8162619 , -0.6136432 ,  2.1052966 ,\n",
       "        2.4300811 , -0.10685003,  2.3682425 , -1.4224614 ,  2.6889145 ,\n",
       "        2.7072098 , -2.030083  ,  0.47402325, -3.7594397 ,  1.5625619 ,\n",
       "        1.0157455 , -1.2497745 ,  1.099688  ,  0.5369321 ,  2.0262012 ,\n",
       "       -0.3783232 ,  2.061828  , -1.6854526 , -0.02000618,  5.442802  ,\n",
       "        3.142451  ,  2.1300676 ,  1.6364223 , -0.45857748,  0.8741788 ,\n",
       "        2.7430117 ,  0.8213309 , -7.328257  ,  1.6280165 , -2.301948  ,\n",
       "       -2.8093867 ,  0.9915886 , -2.502393  , -0.3469862 ,  4.0209975 ,\n",
       "        2.176048  ,  3.8659449 ,  0.4942119 ,  6.693884  ,  0.02775526,\n",
       "        0.5058205 ,  2.0581453 ,  3.454947  , -5.6256003 ,  0.819015  ,\n",
       "       -3.368384  ,  0.08088198,  0.9633979 , -1.2124407 ,  2.0377007 ,\n",
       "        2.3274467 ,  2.9461353 , -0.80723536, -3.3778522 , -1.6691208 ,\n",
       "        3.2232544 ,  4.96369   , -1.3255333 , -0.7868724 ,  0.424954  ],\n",
       "      dtype=float32)"
      ]
     },
     "execution_count": 38,
     "metadata": {},
     "output_type": "execute_result"
    }
   ],
   "source": [
    "w2v_model.wv['dd']"
   ]
  },
  {
   "cell_type": "code",
   "execution_count": 37,
   "metadata": {},
   "outputs": [
    {
     "data": {
      "text/plain": [
       "array([-1.32836235,  1.41826999, -0.65882695, -1.61470151,  2.46826792,\n",
       "       -0.42368728, -4.41566849, -1.33225882,  3.77343822,  0.73183382,\n",
       "        4.31003475, -1.46121621,  6.32574797,  2.36612391, -6.92141724,\n",
       "       -1.18269897,  1.48057902,  2.28927016, -2.57326651, -0.69038177,\n",
       "        4.02454138, -0.53156692, -1.19808185,  1.43955517, -2.69436574,\n",
       "        0.7361027 ,  4.82609987, -0.01021513,  0.21439712,  3.4780159 ,\n",
       "       -2.15779185,  2.84236288, -4.42045498, -2.80449629,  6.27976799,\n",
       "       -2.43438244, -4.03436232, -0.81626189, -0.61364323,  2.10529661,\n",
       "        2.43008113, -0.10685003,  2.3682425 , -1.42246139,  2.68891454,\n",
       "        2.70720983, -2.03008294,  0.47402325, -3.75943971,  1.56256187,\n",
       "        1.01574552, -1.24977446,  1.09968805,  0.53693211,  2.02620125,\n",
       "       -0.3783232 ,  2.0618279 , -1.68545258, -0.02000618,  5.44280195,\n",
       "        3.14245105,  2.13006759,  1.63642228, -0.45857748,  0.87417883,\n",
       "        2.74301171,  0.8213309 , -7.32825708,  1.62801647, -2.30194807,\n",
       "       -2.80938673,  0.99158859, -2.50239301, -0.3469862 ,  4.02099752,\n",
       "        2.17604804,  3.86594486,  0.49421191,  6.6938839 ,  0.02775526,\n",
       "        0.50582051,  2.05814528,  3.45494699, -5.62560034,  0.81901503,\n",
       "       -3.36838388,  0.08088198,  0.96339792, -1.21244073,  2.03770065,\n",
       "        2.3274467 ,  2.94613528, -0.80723536, -3.3778522 , -1.66912079,\n",
       "        3.22325444,  4.9636898 , -1.32553327, -0.78687239,  0.424954  ])"
      ]
     },
     "execution_count": 37,
     "metadata": {},
     "output_type": "execute_result"
    }
   ],
   "source": [
    "embedding_matrix[1]"
   ]
  },
  {
   "cell_type": "code",
   "execution_count": 39,
   "metadata": {},
   "outputs": [],
   "source": [
    "np.save('/home/jujun/fraudprediction_10k/data/rm_name/embedding_matrix_20200419', embedding_matrix)"
   ]
  },
  {
   "cell_type": "code",
   "execution_count": 47,
   "metadata": {},
   "outputs": [
    {
     "name": "stdout",
     "output_type": "stream",
     "text": [
      "45030\n",
      "11258\n",
      "y train: 0    35710\n",
      "1      314\n",
      "dtype: int64\n",
      "y val: 0    8915\n",
      "1      91\n",
      "dtype: int64\n",
      "y test: 0    11157\n",
      "1      101\n",
      "dtype: int64\n"
     ]
    }
   ],
   "source": [
    "train_indecis = load_data(path + 'indices_train_20200214')\n",
    "#train_indecis = train_indecis[0:3000]\n",
    "print(len(train_indecis))\n",
    "\n",
    "test_indecis = load_data(path + 'indices_test_20200214')\n",
    "#test_indecis = test_indecis[0:800]\n",
    "print(len(test_indecis))\n",
    "\n",
    "train_indecis_x, train_indecis_val = train_test_split(train_indecis, test_size=0.2, random_state=66)\n",
    "\n",
    "X_train = data[train_indecis_x]\n",
    "X_val = data[train_indecis_val]\n",
    "X_test = data[test_indecis]\n",
    "\n",
    "Y_train = pd.Series(labels)[train_indecis_x]\n",
    "Y_val = pd.Series(labels)[train_indecis_val]\n",
    "Y_test = pd.Series(labels)[test_indecis]\n",
    "\n",
    "print(\"y train:\", Y_train.value_counts())\n",
    "print(\"y val:\", Y_val.value_counts())\n",
    "# y_test= pd.Series(test_labels)\n",
    "print(\"y test:\", Y_test.value_counts())"
   ]
  },
  {
   "cell_type": "code",
   "execution_count": 74,
   "metadata": {},
   "outputs": [],
   "source": [
    "class_weights = {0: 1, 1:20.0}\n",
    "\n",
    "val_sample_weights = []\n",
    "for y in Y_val:\n",
    "    if y == 1:\n",
    "        val_sample_weights.append(class_weights[1])\n",
    "    else: val_sample_weights.append(class_weights[0])\n",
    "val_sample_weights = np.asarray(val_sample_weights)"
   ]
  },
  {
   "cell_type": "code",
   "execution_count": 49,
   "metadata": {},
   "outputs": [],
   "source": [
    "def performance_measure(pred_yp, y):\n",
    "    '''\n",
    "    Given lists of predicted y probability and x, y, return a dataframe of AR, AUC, Brier, Decile Table\n",
    "    '''\n",
    "    \n",
    "    tenc_dat = pd.DataFrame({'y_true':y,'probability':pred_yp.flatten()})\n",
    "    tenc_dat.sort_values('probability',axis = 0,ascending=False, inplace = True)\n",
    "    tenc_dat.index = range(0,len(tenc_dat))\n",
    "    y = tenc_dat['y_true']\n",
    "    point = float(len(tenc_dat))/10\n",
    "    point = int(round(point))\n",
    "    tenc = []\n",
    "    for i in range(0,10):\n",
    "        tenc.append(y[(i*point):((i+1)*point)])\n",
    "    tenc[9]=tenc[9].append(y[10*point:])\n",
    "    total = sum(y)\n",
    "    num_of_bkr = []\n",
    "    for j in range(0,10):\n",
    "        num_of_bkr.append(sum(tenc[j]))\n",
    "    tencile_bkr = np.array(num_of_bkr)\n",
    "    rate = tencile_bkr.astype(float)/total\n",
    "\n",
    "    return rate\n",
    "\n",
    "\n",
    "class Evaluation(Callback):\n",
    "    \"\"\" Show AUC after interval number of epoches \"\"\"\n",
    "    def __init__(self, validation_data=(), interval=1):\n",
    "        super(Callback, self).__init__()\n",
    "        self.interval = interval\n",
    "        self.X_val, self.y_val = validation_data\n",
    "\n",
    "    def on_epoch_end(self, epoch, logs={}):\n",
    "        if epoch % self.interval == 0:\n",
    "            y_pred = self.model.predict(self.X_val, verbose=0)\n",
    "            score = roc_auc_score(self.y_val, y_pred)\n",
    "            logs['auc'] = score\n",
    "            score_ap = average_precision_score(self.y_val, y_pred)\n",
    "            logs['Avg_Prec'] = score_ap\n",
    "            #tencile=performance_measure(y_pred, self.y_val)\n",
    "            #logs['tencile'] = tencile\n",
    "            print(\" epoch:{:d} AUC: {:.4f}\".format(epoch, score))\n",
    "            print(\" epoch:{:d} Avg_Prec: {:.4f}\".format(epoch, score_ap))\n",
    "\n",
    "\n",
    "# class PrecisionEvaluation(Callback):\n",
    "#     \"\"\" Show average Precision after interval number of epoches \"\"\"\n",
    "#     def __init__(self, validation_data=(), interval=1):\n",
    "#         super(Callback, self).__init__()\n",
    "#         self.interval = interval\n",
    "#         self.X_val, self.y_val = validation_data\n",
    "\n",
    "#     def on_epoch_end(self, epoch, logs={}):\n",
    "#         if epoch % self.interval == 0:\n",
    "#             y_pred = self.model.predict(self.X_val, verbose=0)\n",
    "#             score = average_precision_score(self.y_val, y_pred)\n",
    "#             logs['Avg_Prec'] = score\n",
    "#             #tencile=performance_measure(y_pred, self.y_val)\n",
    "#             #logs['tencile'] = tencile\n",
    "#             #print('prec_socre',score)\n",
    "#             print(\" epoch:{:d} Avg_Prec: {:.4f}\".format(epoch, score))\n",
    "\n",
    "\n",
    "\n",
    "class AttLayer(Layer):\n",
    "    \n",
    "    def __init__(self, regularizer=None,context_dim=100, name=\"attention\",**kwargs):\n",
    "        self.regularizer = regularizer\n",
    "        self.context_dim=context_dim\n",
    "        self.supports_masking = True\n",
    "        self.name=name\n",
    "        super(AttLayer, self).__init__(**kwargs)\n",
    "\n",
    "    def build(self, input_shape):\n",
    "        assert len(input_shape) == 3        \n",
    "        self.W = self.add_weight(name='W', shape=(input_shape[-1], self.context_dim), initializer='normal', trainable=True, \n",
    "                                 regularizer=self.regularizer)\n",
    "        self.b = self.add_weight(name='b', shape=(self.context_dim,), initializer='normal', trainable=True, \n",
    "                                 regularizer=self.regularizer)\n",
    "        self.u = self.add_weight(name='u', shape=(self.context_dim,), initializer='normal', trainable=True, \n",
    "                                 regularizer=self.regularizer)        \n",
    "        super(AttLayer, self).build(input_shape)  # be sure you call this somewhere!\n",
    "\n",
    "    def call(self, x, mask=None):\n",
    "        eij = K.tanh(K.dot(x, self.W) + self.b)\n",
    "        eij = K.squeeze(K.dot(eij, K.expand_dims(self.u, axis=1)), axis=-1)\n",
    "        ai = K.exp(eij)\n",
    "\n",
    "        \n",
    "        if mask is not None:\n",
    "            ai*=K.cast(mask, K.floatx())\n",
    "            \n",
    "        ai /=K.cast(K.sum(ai, axis=1, keepdims=True)+K.epsilon(), K.floatx())\n",
    "\n",
    "        return ai\n",
    "        \n",
    "\n",
    "    def compute_output_shape(self, input_shape):\n",
    "        return (input_shape[0], input_shape[1])\n",
    "    \n",
    "    def get_config(self):\n",
    "        config = {}\n",
    "        base_config = super(AttLayer, self).get_config()\n",
    "        return dict(list(base_config.items()) + list(config.items()))\n",
    "\n",
    "    def compute_mask(self, inputs, mask):\n",
    "        return None    \n",
    "\n",
    "\n",
    "\n",
    "\n",
    "\n",
    "class WeightedSum(Layer):\n",
    "    def __init__(self, name=\"weighted_sum\",  **kwargs):\n",
    "        self.supports_masking = True\n",
    "        self.name=name\n",
    "        super(WeightedSum, self).__init__(**kwargs)\n",
    "        \n",
    "    def build(self, input_shape):\n",
    "        super(WeightedSum, self).build(input_shape)  # Be sure to call this at the end\n",
    "\n",
    "\n",
    "    def call(self, input_tensor, mask=None):\n",
    "        \n",
    "        x = input_tensor[0]\n",
    "        #print(\"input\",K.int_shape(x))\n",
    "        a = input_tensor[1]\n",
    "        print(\"weights\", K.int_shape(a))\n",
    "\n",
    "        a = K.expand_dims(a)\n",
    "        weighted_input = K.sum(x * a, axis=1)\n",
    "        #print(\"weighted sum\",K.int_shape(weighted_input))\n",
    "        \n",
    "        return weighted_input\n",
    "\n",
    "    def compute_output_shape(self, input_shape):\n",
    "        \n",
    "        a, b = input_shape\n",
    "        \n",
    "        return (a[0], a[-1])\n",
    "\n",
    "    def compute_mask(self, x, mask=None):\n",
    "        return None"
   ]
  },
  {
   "cell_type": "code",
   "execution_count": 78,
   "metadata": {},
   "outputs": [],
   "source": [
    "def basicModel(embedding_matrix,MAX_NB_WORDS,MAX_PARA_LENGTH,MAX_PARAS):\n",
    "    embedding_layer = Embedding( MAX_NB_WORDS+ 1,\n",
    "                        EMBEDDING_DIM,\n",
    "                        #weights = [embedding_matrix],\n",
    "                        embeddings_initializer = Constant(embedding_matrix),\n",
    "                        mask_zero=True,\n",
    "                        input_length=MAX_PARA_LENGTH,\n",
    "                        trainable=False)    \n",
    "    \n",
    "    \n",
    "    para_input = Input(shape=(MAX_PARA_LENGTH, ), dtype='int32')\n",
    "    embedded_sequences = embedding_layer(para_input)\n",
    "    #norm_sequence = BatchNormalization()(embedded_sequences)\n",
    "    l_lstm_sen = Bidirectional(GRU(100, return_sequences=True,\\\n",
    "                  implementation=2, \\\n",
    "                  recurrent_dropout = 0.2,\n",
    "                  dropout=0.2))(embedded_sequences)\n",
    "    drop_out = Dropout(0.2)(l_lstm_sen)\n",
    "    l_att = AttLayer(regularizer = l12_reg)(l_lstm_sen)\n",
    "    weighted_sum = WeightedSum()([drop_out,l_att])\n",
    "    paraEncoder =Model(para_input,weighted_sum)\n",
    "    paraEncoder.summary()\n",
    "    \n",
    "    doc_input = Input(shape=(MAX_PARAS, MAX_PARA_LENGTH), dtype='int32')\n",
    "    doc_encoder = TimeDistributed(paraEncoder)(doc_input)\n",
    "    mask_doc = Masking(mask_value=0.0)(doc_encoder)\n",
    "    #norm_doc = BatchNormalization()(mask_doc)\n",
    "    l_lstm_para = Bidirectional(GRU(100, return_sequences=True,\\\n",
    "                      implementation=2, \\\n",
    "                      recurrent_dropout = 0.2,\n",
    "                      dropout=0.2))(mask_doc)\n",
    "    #norm_doc_1 = BatchNormalization()(l_lstm_para)\n",
    "    drop_out = Dropout(0.2)(l_lstm_para) \n",
    "    l_att_para = AttLayer(regularizer = l12_reg)(l_lstm_para)\n",
    "    weighted_sum_doc = WeightedSum()([drop_out, l_att_para])\n",
    "    batch_norm = BatchNormalization()(weighted_sum_doc)\n",
    "    drop_out = Dropout(0.2)(batch_norm)\n",
    "\n",
    "    preds = Dense(1, activation='sigmoid',kernel_regularizer=l12_reg)(drop_out) \n",
    "\n",
    "    model = Model(doc_input, preds)\n",
    "    model.summary()\n",
    "    \n",
    "    return model\n",
    "\n"
   ]
  },
  {
   "cell_type": "code",
   "execution_count": 81,
   "metadata": {},
   "outputs": [],
   "source": [
    "def trainModel(x_train, y_train, Model_Filepath, model,epochs_num, x_val, y_val, val_sample_weights, class_weights):\n",
    "    \n",
    "    \n",
    "    model.compile(loss='binary_crossentropy',\n",
    "              optimizer= opt,\n",
    "              metrics=['acc'])\n",
    "\n",
    "    \n",
    "    auc_ap_eval = Evaluation(validation_data=(x_val, y_val), interval=1)\n",
    "    #precision_eval = PrecisionEvaluation(validation_data=(x_train, y_train), interval=1)\n",
    "    \n",
    "    earlyStopping = EarlyStopping(monitor='auc',patience = 5, verbose =2, mode ='max')\n",
    "    #checkpoint = ModelCheckpoint(Model_Filepath,save_weights_only=True, period=5)\n",
    "    checkpoint = ModelCheckpoint(Model_Filepath,save_weights_only=True, monitor='auc', verbose=2, save_best_only=True, mode ='max')\n",
    "                                 \n",
    "    print(\"training start...\")\n",
    "    training=model.fit(x_train,y_train,\n",
    "                    epochs=epochs_num,batch_size=BATCH_SIZE,callbacks=[auc_ap_eval, earlyStopping, checkpoint],\n",
    "                    class_weight = class_weights,verbose=2,validation_data=[x_val,y_val,val_sample_weights])\n",
    "\n",
    "    \n",
    "    print('training end...')\n",
    "    \n",
    "    return training"
   ]
  },
  {
   "cell_type": "code",
   "execution_count": 82,
   "metadata": {},
   "outputs": [
    {
     "name": "stdout",
     "output_type": "stream",
     "text": [
      "weights (None, 70)\n",
      "__________________________________________________________________________________________________\n",
      "Layer (type)                    Output Shape         Param #     Connected to                     \n",
      "==================================================================================================\n",
      "input_15 (InputLayer)           (None, 70)           0                                            \n",
      "__________________________________________________________________________________________________\n",
      "embedding_8 (Embedding)         (None, 70, 100)      5000100     input_15[0][0]                   \n",
      "__________________________________________________________________________________________________\n",
      "bidirectional_15 (Bidirectional (None, 70, 200)      120600      embedding_8[0][0]                \n",
      "__________________________________________________________________________________________________\n",
      "dropout_22 (Dropout)            (None, 70, 200)      0           bidirectional_15[0][0]           \n",
      "__________________________________________________________________________________________________\n",
      "att_layer_15 (AttLayer)         (None, 70)           20200       bidirectional_15[0][0]           \n",
      "__________________________________________________________________________________________________\n",
      "weighted_sum_15 (WeightedSum)   (None, 200)          0           dropout_22[0][0]                 \n",
      "                                                                 att_layer_15[0][0]               \n",
      "==================================================================================================\n",
      "Total params: 5,140,900\n",
      "Trainable params: 140,800\n",
      "Non-trainable params: 5,000,100\n",
      "__________________________________________________________________________________________________\n",
      "weights (None, 70)\n",
      "weights (None, 70)\n",
      "__________________________________________________________________________________________________\n",
      "Layer (type)                    Output Shape         Param #     Connected to                     \n",
      "==================================================================================================\n",
      "input_16 (InputLayer)           (None, 70, 70)       0                                            \n",
      "__________________________________________________________________________________________________\n",
      "time_distributed_8 (TimeDistrib (None, 70, 200)      5140900     input_16[0][0]                   \n",
      "__________________________________________________________________________________________________\n",
      "masking_8 (Masking)             (None, 70, 200)      0           time_distributed_8[0][0]         \n",
      "__________________________________________________________________________________________________\n",
      "bidirectional_16 (Bidirectional (None, 70, 200)      180600      masking_8[0][0]                  \n",
      "__________________________________________________________________________________________________\n",
      "dropout_23 (Dropout)            (None, 70, 200)      0           bidirectional_16[0][0]           \n",
      "__________________________________________________________________________________________________\n",
      "att_layer_16 (AttLayer)         (None, 70)           20200       bidirectional_16[0][0]           \n",
      "__________________________________________________________________________________________________\n",
      "weighted_sum_16 (WeightedSum)   (None, 200)          0           dropout_23[0][0]                 \n",
      "                                                                 att_layer_16[0][0]               \n",
      "__________________________________________________________________________________________________\n",
      "batch_normalization_8 (BatchNor (None, 200)          800         weighted_sum_16[0][0]            \n",
      "__________________________________________________________________________________________________\n",
      "dropout_24 (Dropout)            (None, 200)          0           batch_normalization_8[0][0]      \n",
      "__________________________________________________________________________________________________\n",
      "dense_8 (Dense)                 (None, 1)            201         dropout_24[0][0]                 \n",
      "==================================================================================================\n",
      "Total params: 5,342,701\n",
      "Trainable params: 342,201\n",
      "Non-trainable params: 5,000,500\n",
      "__________________________________________________________________________________________________\n",
      "training start...\n",
      "Train on 36024 samples, validate on 9006 samples\n",
      "Epoch 1/200\n",
      " - 799s - loss: 0.5964 - acc: 0.9495 - val_loss: 0.5574 - val_acc: 0.9899\n",
      " epoch:0 AUC: 0.5389\n",
      " epoch:0 Avg_Prec: 0.0125\n",
      "\n",
      "Epoch 00001: auc improved from -inf to 0.53894, saving model to han_smr2\n",
      "Epoch 2/200\n",
      " - 953s - loss: 0.5653 - acc: 0.9765 - val_loss: 0.5471 - val_acc: 0.9899\n",
      " epoch:1 AUC: 0.5328\n",
      " epoch:1 Avg_Prec: 0.0132\n",
      "\n",
      "Epoch 00002: auc did not improve from 0.53894\n",
      "Epoch 3/200\n",
      " - 987s - loss: 0.5257 - acc: 0.9808 - val_loss: 0.5473 - val_acc: 0.9899\n",
      " epoch:2 AUC: 0.4781\n",
      " epoch:2 Avg_Prec: 0.0105\n",
      "\n",
      "Epoch 00003: auc did not improve from 0.53894\n",
      "Epoch 4/200\n",
      " - 870s - loss: 0.5256 - acc: 0.9816 - val_loss: 0.5513 - val_acc: 0.9899\n",
      " epoch:3 AUC: 0.5170\n",
      " epoch:3 Avg_Prec: 0.0116\n",
      "\n",
      "Epoch 00004: auc did not improve from 0.53894\n",
      "Epoch 5/200\n",
      " - 913s - loss: 0.5319 - acc: 0.9843 - val_loss: 0.5461 - val_acc: 0.9899\n",
      " epoch:4 AUC: 0.4687\n",
      " epoch:4 Avg_Prec: 0.0093\n",
      "\n",
      "Epoch 00005: auc did not improve from 0.53894\n",
      "Epoch 6/200\n",
      " - 802s - loss: 0.5132 - acc: 0.9865 - val_loss: 0.5490 - val_acc: 0.9899\n",
      " epoch:5 AUC: 0.4701\n",
      " epoch:5 Avg_Prec: 0.0101\n",
      "\n",
      "Epoch 00006: auc did not improve from 0.53894\n",
      "Epoch 00006: early stopping\n",
      "training end...\n"
     ]
    }
   ],
   "source": [
    "basicmodel = basicModel(embedding_matrix,MAX_NB_WORDS,MAX_PARA_LENGTH,MAX_PARAS)\n",
    "training = trainModel(X_train, Y_train, 'han_smr2', basicmodel,epochs_num, X_val, Y_val, val_sample_weights, class_weights)"
   ]
  },
  {
   "cell_type": "code",
   "execution_count": null,
   "metadata": {},
   "outputs": [],
   "source": []
  },
  {
   "cell_type": "code",
   "execution_count": null,
   "metadata": {},
   "outputs": [],
   "source": []
  },
  {
   "cell_type": "code",
   "execution_count": null,
   "metadata": {},
   "outputs": [],
   "source": []
  },
  {
   "cell_type": "code",
   "execution_count": null,
   "metadata": {},
   "outputs": [],
   "source": []
  },
  {
   "cell_type": "code",
   "execution_count": null,
   "metadata": {},
   "outputs": [],
   "source": []
  },
  {
   "cell_type": "code",
   "execution_count": null,
   "metadata": {},
   "outputs": [],
   "source": []
  },
  {
   "cell_type": "code",
   "execution_count": null,
   "metadata": {},
   "outputs": [],
   "source": []
  },
  {
   "cell_type": "markdown",
   "metadata": {},
   "source": [
    "### first version"
   ]
  },
  {
   "cell_type": "code",
   "execution_count": 63,
   "metadata": {
    "scrolled": false
   },
   "outputs": [
    {
     "name": "stdout",
     "output_type": "stream",
     "text": [
      "weights (None, 70)\n",
      "__________________________________________________________________________________________________\n",
      "Layer (type)                    Output Shape         Param #     Connected to                     \n",
      "==================================================================================================\n",
      "input_9 (InputLayer)            (None, 70)           0                                            \n",
      "__________________________________________________________________________________________________\n",
      "embedding_5 (Embedding)         (None, 70, 100)      5000100     input_9[0][0]                    \n",
      "__________________________________________________________________________________________________\n",
      "bidirectional_9 (Bidirectional) (None, 70, 200)      160800      embedding_5[0][0]                \n",
      "__________________________________________________________________________________________________\n",
      "dropout_13 (Dropout)            (None, 70, 200)      0           bidirectional_9[0][0]            \n",
      "__________________________________________________________________________________________________\n",
      "att_layer_9 (AttLayer)          (None, 70)           20200       bidirectional_9[0][0]            \n",
      "__________________________________________________________________________________________________\n",
      "weighted_sum_9 (WeightedSum)    (None, 200)          0           dropout_13[0][0]                 \n",
      "                                                                 att_layer_9[0][0]                \n",
      "==================================================================================================\n",
      "Total params: 5,181,100\n",
      "Trainable params: 181,000\n",
      "Non-trainable params: 5,000,100\n",
      "__________________________________________________________________________________________________\n",
      "weights (None, 70)\n",
      "weights (None, 70)\n",
      "__________________________________________________________________________________________________\n",
      "Layer (type)                    Output Shape         Param #     Connected to                     \n",
      "==================================================================================================\n",
      "input_10 (InputLayer)           (None, 70, 70)       0                                            \n",
      "__________________________________________________________________________________________________\n",
      "time_distributed_5 (TimeDistrib (None, 70, 200)      5181100     input_10[0][0]                   \n",
      "__________________________________________________________________________________________________\n",
      "masking_5 (Masking)             (None, 70, 200)      0           time_distributed_5[0][0]         \n",
      "__________________________________________________________________________________________________\n",
      "bidirectional_10 (Bidirectional (None, 70, 200)      240800      masking_5[0][0]                  \n",
      "__________________________________________________________________________________________________\n",
      "dropout_14 (Dropout)            (None, 70, 200)      0           bidirectional_10[0][0]           \n",
      "__________________________________________________________________________________________________\n",
      "att_layer_10 (AttLayer)         (None, 70)           20200       bidirectional_10[0][0]           \n",
      "__________________________________________________________________________________________________\n",
      "weighted_sum_10 (WeightedSum)   (None, 200)          0           dropout_14[0][0]                 \n",
      "                                                                 att_layer_10[0][0]               \n",
      "__________________________________________________________________________________________________\n",
      "batch_normalization_5 (BatchNor (None, 200)          800         weighted_sum_10[0][0]            \n",
      "__________________________________________________________________________________________________\n",
      "dropout_15 (Dropout)            (None, 200)          0           batch_normalization_5[0][0]      \n",
      "__________________________________________________________________________________________________\n",
      "dense_5 (Dense)                 (None, 1)            201         dropout_15[0][0]                 \n",
      "==================================================================================================\n",
      "Total params: 5,443,101\n",
      "Trainable params: 442,601\n",
      "Non-trainable params: 5,000,500\n",
      "__________________________________________________________________________________________________\n",
      "training start...\n",
      "Train on 36024 samples, validate on 9006 samples\n",
      "Epoch 1/200\n",
      " - 811s - loss: 0.6881 - acc: 0.8838 - val_loss: 0.6086 - val_acc: 0.9721\n",
      " epoch:0 AUC: 0.6544\n",
      " epoch:0 Avg_Prec: 0.0189\n",
      "\n",
      "Epoch 00001: Avg_Prec improved from -inf to 0.01889, saving model to han_smr\n",
      "Epoch 2/200\n",
      " - 813s - loss: 0.5834 - acc: 0.9437 - val_loss: 0.6489 - val_acc: 0.9791\n",
      " epoch:1 AUC: 0.6809\n",
      " epoch:1 Avg_Prec: 0.0237\n",
      "\n",
      "Epoch 00002: Avg_Prec improved from 0.01889 to 0.02368, saving model to han_smr\n",
      "Epoch 3/200\n",
      " - 947s - loss: 0.5287 - acc: 0.9450 - val_loss: 0.6227 - val_acc: 0.8769\n",
      " epoch:2 AUC: 0.7118\n",
      " epoch:2 Avg_Prec: 0.0258\n",
      "\n",
      "Epoch 00003: Avg_Prec improved from 0.02368 to 0.02585, saving model to han_smr\n",
      "Epoch 4/200\n",
      " - 807s - loss: 0.4673 - acc: 0.9424 - val_loss: 0.6888 - val_acc: 0.9833\n",
      " epoch:3 AUC: 0.7479\n",
      " epoch:3 Avg_Prec: 0.0364\n",
      "\n",
      "Epoch 00004: Avg_Prec improved from 0.02585 to 0.03635, saving model to han_smr\n",
      "Epoch 5/200\n",
      " - 799s - loss: 0.4120 - acc: 0.9503 - val_loss: 0.8519 - val_acc: 0.9881\n",
      " epoch:4 AUC: 0.7316\n",
      " epoch:4 Avg_Prec: 0.0531\n",
      "\n",
      "Epoch 00005: Avg_Prec improved from 0.03635 to 0.05309, saving model to han_smr\n",
      "Epoch 6/200\n",
      " - 810s - loss: 0.3666 - acc: 0.9512 - val_loss: 0.6023 - val_acc: 0.8565\n",
      " epoch:5 AUC: 0.7730\n",
      " epoch:5 Avg_Prec: 0.0761\n",
      "\n",
      "Epoch 00006: Avg_Prec improved from 0.05309 to 0.07609, saving model to han_smr\n",
      "Epoch 7/200\n",
      " - 804s - loss: 0.3156 - acc: 0.9544 - val_loss: 0.5699 - val_acc: 0.9226\n",
      " epoch:6 AUC: 0.8068\n",
      " epoch:6 Avg_Prec: 0.0973\n",
      "\n",
      "Epoch 00007: Avg_Prec improved from 0.07609 to 0.09725, saving model to han_smr\n",
      "Epoch 8/200\n",
      " - 816s - loss: 0.2720 - acc: 0.9550 - val_loss: 0.7478 - val_acc: 0.9730\n",
      " epoch:7 AUC: 0.8110\n",
      " epoch:7 Avg_Prec: 0.1132\n",
      "\n",
      "Epoch 00008: Avg_Prec improved from 0.09725 to 0.11318, saving model to han_smr\n",
      "Epoch 9/200\n",
      " - 806s - loss: 0.2304 - acc: 0.9617 - val_loss: 0.7068 - val_acc: 0.9738\n",
      " epoch:8 AUC: 0.8200\n",
      " epoch:8 Avg_Prec: 0.1259\n",
      "\n",
      "Epoch 00009: Avg_Prec improved from 0.11318 to 0.12590, saving model to han_smr\n",
      "Epoch 10/200\n",
      " - 812s - loss: 0.2145 - acc: 0.9634 - val_loss: 1.0163 - val_acc: 0.9780\n",
      " epoch:9 AUC: 0.7830\n",
      " epoch:9 Avg_Prec: 0.0840\n",
      "\n",
      "Epoch 00010: Avg_Prec did not improve from 0.12590\n",
      "Epoch 11/200\n",
      " - 813s - loss: 0.1936 - acc: 0.9668 - val_loss: 0.6326 - val_acc: 0.9645\n",
      " epoch:10 AUC: 0.8345\n",
      " epoch:10 Avg_Prec: 0.1775\n",
      "\n",
      "Epoch 00011: Avg_Prec improved from 0.12590 to 0.17753, saving model to han_smr\n",
      "Epoch 12/200\n",
      " - 799s - loss: 0.1778 - acc: 0.9704 - val_loss: 0.6465 - val_acc: 0.9172\n",
      " epoch:11 AUC: 0.8238\n",
      " epoch:11 Avg_Prec: 0.1180\n",
      "\n",
      "Epoch 00012: Avg_Prec did not improve from 0.17753\n",
      "Epoch 13/200\n",
      " - 818s - loss: 0.1759 - acc: 0.9692 - val_loss: 0.6979 - val_acc: 0.9058\n",
      " epoch:12 AUC: 0.8082\n",
      " epoch:12 Avg_Prec: 0.1545\n",
      "\n",
      "Epoch 00013: Avg_Prec did not improve from 0.17753\n",
      "Epoch 14/200\n",
      " - 814s - loss: 0.1546 - acc: 0.9723 - val_loss: 1.0648 - val_acc: 0.9745\n",
      " epoch:13 AUC: 0.7965\n",
      " epoch:13 Avg_Prec: 0.1008\n",
      "\n",
      "Epoch 00014: Avg_Prec did not improve from 0.17753\n",
      "Epoch 15/200\n",
      " - 817s - loss: 0.1329 - acc: 0.9761 - val_loss: 0.8676 - val_acc: 0.9757\n",
      " epoch:14 AUC: 0.8124\n",
      " epoch:14 Avg_Prec: 0.1480\n",
      "\n",
      "Epoch 00015: Avg_Prec did not improve from 0.17753\n",
      "Epoch 16/200\n",
      " - 811s - loss: 0.1415 - acc: 0.9743 - val_loss: 1.0830 - val_acc: 0.9809\n",
      " epoch:15 AUC: 0.8175\n",
      " epoch:15 Avg_Prec: 0.1211\n",
      "\n",
      "Epoch 00016: Avg_Prec did not improve from 0.17753\n",
      "Epoch 00016: early stopping\n",
      "training end...\n"
     ]
    }
   ],
   "source": [
    "basicmodel = basicModel(embedding_matrix,MAX_NB_WORDS,MAX_PARA_LENGTH,MAX_PARAS)\n",
    "training = trainModel(X_train, Y_train, 'han_smr', basicmodel,epochs_num, X_val, Y_val, val_sample_weights, class_weights)"
   ]
  },
  {
   "cell_type": "code",
   "execution_count": 69,
   "metadata": {},
   "outputs": [
    {
     "name": "stdout",
     "output_type": "stream",
     "text": [
      "       Avg_Prec       acc       auc      loss   val_acc  val_loss\n",
      "epoch                                                            \n",
      "0      0.018889  0.883772  0.654353  0.688063  0.972130  0.608556\n",
      "1      0.023676  0.943732  0.680946  0.583439  0.979125  0.648886\n",
      "2      0.025845  0.944953  0.711775  0.528693  0.876860  0.622705\n",
      "3      0.036350  0.942372  0.747910  0.467276  0.983344  0.688750\n",
      "4      0.053090  0.950255  0.731620  0.412035  0.988119  0.851887\n",
      "5      0.076092  0.951171  0.772997  0.366596  0.856540  0.602344\n",
      "6      0.097253  0.954447  0.806762  0.315643  0.922607  0.569901\n",
      "7      0.113175  0.955002  0.810951  0.272018  0.973018  0.747773\n",
      "8      0.125904  0.961720  0.820030  0.230394  0.973795  0.706806\n",
      "9      0.083967  0.963386  0.782972  0.214497  0.978015  1.016259\n",
      "10     0.177534  0.966772  0.834534  0.193575  0.964468  0.632583\n",
      "11     0.118037  0.970409  0.823817  0.177816  0.917166  0.646509\n",
      "12     0.154459  0.969159  0.808169  0.175904  0.905841  0.697861\n",
      "13     0.100826  0.972268  0.796476  0.154608  0.974461  1.064797\n",
      "14     0.147983  0.976127  0.812360  0.132948  0.975683  0.867563\n",
      "15     0.121103  0.974295  0.817455  0.141477  0.980902  1.083013\n"
     ]
    },
    {
     "data": {
      "image/png": "[encoded data removed]",
      "text/plain": [
       "<Figure size 576x216 with 2 Axes>"
      ]
     },
     "metadata": {
      "needs_background": "light"
     },
     "output_type": "display_data"
    }
   ],
   "source": [
    "df=pd.DataFrame.from_dict(training.history)\n",
    "df.columns=[ \"Avg_Prec\",\"acc\",\"auc\",\"loss\", \"val_acc\", \"val_loss\"]\n",
    "df.index.name='epoch'\n",
    "print(df)\n",
    "\n",
    "fig, axes = plt.subplots(nrows=1, ncols=2, figsize=(8,3));\n",
    "\n",
    "df[[\"acc\", \"val_acc\"]].plot(ax=axes[0]);\n",
    "df[[\"loss\", \"val_loss\"]].plot(ax=axes[1]);\n",
    "plt.show()"
   ]
  },
  {
   "cell_type": "code",
   "execution_count": 72,
   "metadata": {},
   "outputs": [
    {
     "name": "stdout",
     "output_type": "stream",
     "text": [
      "AP:  0.18007272269233926\n",
      "AUC:  0.8103841037505203\n"
     ]
    }
   ],
   "source": [
    "basicmodel.load_weights('han_smr')\n",
    "pred = basicmodel.predict(X_test)\n",
    "ap_test = average_precision_score(Y_test, pred)\n",
    "print(\"AP: \", ap_test)\n",
    "auc_test = roc_auc_score(Y_test, pred)\n",
    "print(\"AUC: \", auc_test)"
   ]
  },
  {
   "cell_type": "code",
   "execution_count": null,
   "metadata": {},
   "outputs": [],
   "source": []
  }
 ],
 "metadata": {
  "kernelspec": {
   "display_name": "Python 3",
   "language": "python",
   "name": "python3"
  },
  "language_info": {
   "codemirror_mode": {
    "name": "ipython",
    "version": 3
   },
   "file_extension": ".py",
   "mimetype": "text/x-python",
   "name": "python",
   "nbconvert_exporter": "python",
   "pygments_lexer": "ipython3",
   "version": "3.5.2"
  }
 },
 "nbformat": 4,
 "nbformat_minor": 2
}
