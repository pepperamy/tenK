{
 "cells": [
  {
   "cell_type": "code",
   "execution_count": 98,
   "metadata": {},
   "outputs": [],
   "source": [
    "\n",
    "import numpy as np\n",
    "import pandas as pd\n",
    "import _pickle as pickle\n",
    "#from collections import defaultdict\n",
    "#import re\n",
    "#import ast\n",
    "\n",
    "# from bs4 import BeautifulSoup\n",
    "\n",
    "import sys\n",
    "import os\n",
    "import json\n",
    "import operator\n",
    "\n",
    "#from keras.preprocessing.text import Tokenizer, text_to_word_sequence\n",
    "#from keras.preprocessing.sequence import pad_sequences\n",
    "#from keras.utils.np_utils import to_categorical\n",
    "\n",
    "#from keras import backend as K\n",
    "#from keras.engine.topology import Layer, InputSpec\n",
    "#from keras import initializers\n",
    "\n",
    "#from keras.optimizers import SGD\n",
    "\n",
    "#from keras.layers import Embedding, Dense, Conv1D, MaxPooling1D, Dropout, Activation, Input, Flatten, Concatenate, GlobalAveragePooling1D, LSTM, GRU, Bidirectional, dot, multiply, Lambda, TimeDistributed, Masking\n",
    "\n",
    "#from keras.models import Model, Sequential\n",
    "#from keras.regularizers import l2,l1,l1_l2\n",
    "#from keras.callbacks import Callback,EarlyStopping, ModelCheckpoint\n",
    "from sklearn.utils import class_weight\n",
    "\n",
    "#from keras.callbacks import Callback\n",
    "\n",
    "\n",
    "#from keras.layers.normalization import BatchNormalization\n",
    "from sklearn.svm import SVC, LinearSVC\n",
    "from sklearn.calibration import CalibratedClassifierCV\n",
    "from sklearn.model_selection import KFold, train_test_split, StratifiedKFold\n",
    "from sklearn.metrics import precision_recall_fscore_support, precision_recall_curve, classification_report,accuracy_score, auc, roc_curve, roc_auc_score\n",
    "\n",
    "import matplotlib.pyplot as plt\n",
    "\n",
    "from sklearn.feature_extraction.text import TfidfVectorizer"
   ]
  },
  {
   "cell_type": "code",
   "execution_count": 2,
   "metadata": {},
   "outputs": [],
   "source": [
    "from collections import OrderedDict\n",
    "from lime.lime_text import LimeTextExplainer \n",
    "from sklearn.pipeline import make_pipeline\n",
    "from sklearn.feature_extraction import text"
   ]
  },
  {
   "cell_type": "code",
   "execution_count": 3,
   "metadata": {},
   "outputs": [],
   "source": [
    "from sklearn.metrics import average_precision_score"
   ]
  },
  {
   "cell_type": "code",
   "execution_count": 4,
   "metadata": {},
   "outputs": [],
   "source": [
    "import pickle"
   ]
  },
  {
   "cell_type": "code",
   "execution_count": 5,
   "metadata": {},
   "outputs": [],
   "source": [
    "import optunity.metrics"
   ]
  },
  {
   "cell_type": "code",
   "execution_count": 6,
   "metadata": {},
   "outputs": [],
   "source": [
    "from scipy import sparse"
   ]
  },
  {
   "cell_type": "code",
   "execution_count": 55,
   "metadata": {},
   "outputs": [],
   "source": [
    "from sklearn.calibration import calibration_curve"
   ]
  },
  {
   "cell_type": "code",
   "execution_count": 7,
   "metadata": {},
   "outputs": [],
   "source": [
    "def load_data(data_name):\n",
    "    f = open(data_name,'rb')\n",
    "    data = pickle.load(f)\n",
    "    return data"
   ]
  },
  {
   "cell_type": "code",
   "execution_count": 8,
   "metadata": {},
   "outputs": [],
   "source": [
    "train_labels = load_data('/home/jujun/fraudprediction_10k/data/y_train_20200214')"
   ]
  },
  {
   "cell_type": "code",
   "execution_count": 9,
   "metadata": {},
   "outputs": [
    {
     "data": {
      "text/plain": [
       "45030"
      ]
     },
     "execution_count": 9,
     "metadata": {},
     "output_type": "execute_result"
    }
   ],
   "source": [
    "len(train_labels)"
   ]
  },
  {
   "cell_type": "code",
   "execution_count": 10,
   "metadata": {},
   "outputs": [],
   "source": [
    "test_labels = load_data('/home/jujun/fraudprediction_10k/data/y_test_20200214')"
   ]
  },
  {
   "cell_type": "code",
   "execution_count": 11,
   "metadata": {},
   "outputs": [
    {
     "data": {
      "text/plain": [
       "11258"
      ]
     },
     "execution_count": 11,
     "metadata": {},
     "output_type": "execute_result"
    }
   ],
   "source": [
    "len(test_labels)"
   ]
  },
  {
   "cell_type": "code",
   "execution_count": 12,
   "metadata": {},
   "outputs": [],
   "source": [
    "train_indecis = load_data('/home/jujun/fraudprediction_10k/data/indices_train_20200214')"
   ]
  },
  {
   "cell_type": "code",
   "execution_count": 13,
   "metadata": {},
   "outputs": [],
   "source": [
    "test_indecis = load_data('/home/jujun/fraudprediction_10k/data/indices_test_20200214')"
   ]
  },
  {
   "cell_type": "code",
   "execution_count": 14,
   "metadata": {},
   "outputs": [],
   "source": [
    "data = load_data('/home/jujun/fraudprediction_10k/data/data_20200212_2012')"
   ]
  },
  {
   "cell_type": "code",
   "execution_count": 15,
   "metadata": {},
   "outputs": [],
   "source": [
    "text_para = []\n",
    "for d in data:\n",
    "    text_para.append(d[0])"
   ]
  },
  {
   "cell_type": "code",
   "execution_count": 16,
   "metadata": {},
   "outputs": [],
   "source": [
    "def generate_doc(x):\n",
    "    return ' '.join(x)"
   ]
  },
  {
   "cell_type": "code",
   "execution_count": 17,
   "metadata": {},
   "outputs": [],
   "source": [
    "text_doc = []\n",
    "for d in text_para:\n",
    "    text_doc.append(generate_doc(d))"
   ]
  },
  {
   "cell_type": "code",
   "execution_count": 31,
   "metadata": {},
   "outputs": [],
   "source": [
    "my_stop_words = text.ENGLISH_STOP_WORDS.union([\"dd\"])"
   ]
  },
  {
   "cell_type": "code",
   "execution_count": 32,
   "metadata": {},
   "outputs": [],
   "source": [
    "tfidf_vect = TfidfVectorizer(stop_words = my_stop_words, min_df=5)\n",
    "tm= tfidf_vect.fit_transform(text_doc)"
   ]
  },
  {
   "cell_type": "code",
   "execution_count": 19,
   "metadata": {},
   "outputs": [
    {
     "data": {
      "text/plain": [
       "scipy.sparse.csr.csr_matrix"
      ]
     },
     "execution_count": 19,
     "metadata": {},
     "output_type": "execute_result"
    }
   ],
   "source": [
    "#type(tm)"
   ]
  },
  {
   "cell_type": "code",
   "execution_count": 20,
   "metadata": {},
   "outputs": [
    {
     "data": {
      "text/plain": [
       "<56288x69185 sparse matrix of type '<class 'numpy.float64'>'\n",
       "\twith 48325957 stored elements in Compressed Sparse Row format>"
      ]
     },
     "execution_count": 20,
     "metadata": {},
     "output_type": "execute_result"
    }
   ],
   "source": [
    "#tm"
   ]
  },
  {
   "cell_type": "code",
   "execution_count": 21,
   "metadata": {},
   "outputs": [],
   "source": [
    "#sparse.save_npz('/home/jujun/fraudprediction_10k/data/tm_20200212', tm)"
   ]
  },
  {
   "cell_type": "code",
   "execution_count": 23,
   "metadata": {},
   "outputs": [],
   "source": [
    "text_doc_test = [text_doc[idx] for idx in test_indecis]"
   ]
  },
  {
   "cell_type": "code",
   "execution_count": 24,
   "metadata": {},
   "outputs": [
    {
     "data": {
      "text/plain": [
       "11258"
      ]
     },
     "execution_count": 24,
     "metadata": {},
     "output_type": "execute_result"
    }
   ],
   "source": [
    "len(text_doc_test)"
   ]
  },
  {
   "cell_type": "code",
   "execution_count": 25,
   "metadata": {},
   "outputs": [],
   "source": [
    "# tm = sparse.load_npz(\"/home/jujun/fraudprediction_10k/data/tm_20200212.npz\")"
   ]
  },
  {
   "cell_type": "code",
   "execution_count": 26,
   "metadata": {},
   "outputs": [],
   "source": [
    "X_train = tm[train_indecis]\n",
    "X_test = tm[test_indecis]"
   ]
  },
  {
   "cell_type": "code",
   "execution_count": 27,
   "metadata": {},
   "outputs": [
    {
     "data": {
      "text/plain": [
       "(45030, 69185)"
      ]
     },
     "execution_count": 27,
     "metadata": {},
     "output_type": "execute_result"
    }
   ],
   "source": [
    "X_train.shape"
   ]
  },
  {
   "cell_type": "code",
   "execution_count": 28,
   "metadata": {},
   "outputs": [
    {
     "data": {
      "text/plain": [
       "(11258, 69185)"
      ]
     },
     "execution_count": 28,
     "metadata": {},
     "output_type": "execute_result"
    }
   ],
   "source": [
    "X_test.shape"
   ]
  },
  {
   "cell_type": "code",
   "execution_count": null,
   "metadata": {},
   "outputs": [],
   "source": []
  },
  {
   "cell_type": "code",
   "execution_count": 29,
   "metadata": {},
   "outputs": [],
   "source": [
    "def plot_coefficients(classifier, feature_names, top_features=20):\n",
    "    coef = classifier.coef_.ravel()\n",
    "    top_positive_coefficients = np.argsort(coef)[-top_features:]\n",
    "    top_negative_coefficients = np.argsort(coef)[:top_features]\n",
    "    top_coefficients = np.hstack([top_negative_coefficients, top_positive_coefficients])\n",
    "    # create plot\n",
    "    plt.figure(figsize=(15, 5))\n",
    "    colors = ['red' if c < 0 else 'blue' for c in coef[top_coefficients]]\n",
    "    plt.bar(np.arange(2 * top_features), coef[top_coefficients], color=colors)\n",
    "    feature_names = np.array(feature_names)\n",
    "    plt.xticks(np.arange(1, 1 + 2 * top_features), feature_names[top_coefficients], rotation=60, ha='right')\n",
    "    plt.show()"
   ]
  },
  {
   "cell_type": "code",
   "execution_count": 56,
   "metadata": {},
   "outputs": [
    {
     "data": {
      "image/png": "[encoded data removed]",
      "text/plain": [
       "<Figure size 1080x360 with 1 Axes>"
      ]
     },
     "metadata": {
      "needs_background": "light"
     },
     "output_type": "display_data"
    }
   ],
   "source": [
    "train_labels = pd.Series(train_labels)\n",
    "f = 0\n",
    "\n",
    "aucs = ()\n",
    "aucs_list = []\n",
    "\n",
    "precisions = ()\n",
    "\n",
    "recalls = ()\n",
    "\n",
    "result = pd.DataFrame()\n",
    "\n",
    "#exp_weight= []\n",
    "\n",
    "#kfold = StratifiedKFold(n_splits=5, shuffle=True, random_state=42)\n",
    "#embedding_matrix = np.load('embedding_matrix_0721.npy')\n",
    "#for train_index, test_index in kfold.split(X_train,labels_train):\n",
    "#     print(' ')\n",
    "\n",
    "# f = f+1\n",
    "# print('molde_'+str(f))\n",
    "# print('train: ',train_index[0], ' / ', train_index[-1])\n",
    "# print('test: ',test_index[0],' / ', test_index[-1])\n",
    "#ModelName = './folder(6)/basicM_bestM_l12_'+str(f)\n",
    "# x_traink, x_val = tm[train_index], tm[test_index]\n",
    "# y_traink, y_val = labels_train[train_index].values, labels_train[test_index].values\n",
    "class_weights_dict = {}\n",
    "class_weights_dict[0] = 1\n",
    "class_weights_dict[1] = 10\n",
    "# class_weights_dict = {}\n",
    "# class_weights = class_weight.compute_class_weight('balanced',\n",
    "#                                              np.unique(train_labels),\n",
    "#                                              train_labels)\n",
    "# class_weights_dict[0] = class_weights[0]\n",
    "# class_weights_dict[1] = class_weights[1]\n",
    "# print(class_weights_dict)\n",
    "\n",
    "svm = LinearSVC(class_weight = class_weights_dict)\n",
    "svm.fit(X_train, train_labels)\n",
    "\n",
    "feacture_names = tfidf_vect.get_feature_names()\n",
    "plot_coefficients(svm, feacture_names)\n",
    "\n",
    "decision_values = svm.decision_function(X_test)\n",
    "auc_score = roc_auc_score(test_labels, decision_values)\n",
    "\n",
    "pred = svm.predict(X_test)\n",
    "prfs = precision_recall_fscore_support(test_labels, pred)\n",
    "\n",
    "\n",
    "ap = average_precision_score(test_labels, decision_values)\n",
    "#     if f == 1:\n",
    "#         pred_1= np.array([test_index,pred,decision_values])\n",
    "#     else: pred_2= np.array([test_index,pred,decision_values])\n",
    "\n",
    "dict_temp = {\n",
    "    'average_precision':ap,\n",
    "    'auc':auc_score,'precision_label_0':prfs[0][0],'precision_label_1':prfs[0][1],\n",
    "    'recall_label_0':prfs[1][0],'recall_label_1':prfs[1][1],\n",
    "    'fscore_label_0':prfs[2][0],'fscore_label_1':prfs[2][1],\n",
    "    'support_label_0':prfs[3][0],'support_label_1':prfs[3][1],\n",
    "}\n",
    "temp_table = pd.DataFrame(dict_temp,index=[f])\n",
    "result = pd.concat([temp_table,result])\n",
    "\n",
    "#fop, mpv = calibration_curve(test_labels, decision_values, n_bins=10, normalize=True)\n",
    "\n",
    "\n",
    "# c = make_pipeline(tfidf_vect, clf)\n",
    "\n",
    "# explainer = LimeTextExplainer(class_names = ['0','1'])\n",
    "# doc_test = [doc_cl[i] for i in test_index]\n"
   ]
  },
  {
   "cell_type": "code",
   "execution_count": 60,
   "metadata": {},
   "outputs": [],
   "source": [
    "clb = CalibratedClassifierCV(svm, method='sigmoid')\n",
    "clb.fit(X_train, train_labels)\n",
    "clb_prob = clb.predict_proba(X_test)"
   ]
  },
  {
   "cell_type": "code",
   "execution_count": 34,
   "metadata": {},
   "outputs": [
    {
     "data": {
      "text/html": [
       "<div>\n",
       "<style scoped>\n",
       "    .dataframe tbody tr th:only-of-type {\n",
       "        vertical-align: middle;\n",
       "    }\n",
       "\n",
       "    .dataframe tbody tr th {\n",
       "        vertical-align: top;\n",
       "    }\n",
       "\n",
       "    .dataframe thead th {\n",
       "        text-align: right;\n",
       "    }\n",
       "</style>\n",
       "<table border=\"1\" class=\"dataframe\">\n",
       "  <thead>\n",
       "    <tr style=\"text-align: right;\">\n",
       "      <th></th>\n",
       "      <th>auc</th>\n",
       "      <th>average_precision</th>\n",
       "      <th>fscore_label_0</th>\n",
       "      <th>fscore_label_1</th>\n",
       "      <th>precision_label_0</th>\n",
       "      <th>precision_label_1</th>\n",
       "      <th>recall_label_0</th>\n",
       "      <th>recall_label_1</th>\n",
       "      <th>support_label_0</th>\n",
       "      <th>support_label_1</th>\n",
       "    </tr>\n",
       "  </thead>\n",
       "  <tbody>\n",
       "    <tr>\n",
       "      <th>0</th>\n",
       "      <td>0.924522</td>\n",
       "      <td>0.491416</td>\n",
       "      <td>0.996146</td>\n",
       "      <td>0.574257</td>\n",
       "      <td>0.996146</td>\n",
       "      <td>0.574257</td>\n",
       "      <td>0.996146</td>\n",
       "      <td>0.574257</td>\n",
       "      <td>11157</td>\n",
       "      <td>101</td>\n",
       "    </tr>\n",
       "  </tbody>\n",
       "</table>\n",
       "</div>"
      ],
      "text/plain": [
       "        auc  average_precision  fscore_label_0  fscore_label_1  \\\n",
       "0  0.924522           0.491416        0.996146        0.574257   \n",
       "\n",
       "   precision_label_0  precision_label_1  recall_label_0  recall_label_1  \\\n",
       "0           0.996146           0.574257        0.996146        0.574257   \n",
       "\n",
       "   support_label_0  support_label_1  \n",
       "0            11157              101  "
      ]
     },
     "execution_count": 34,
     "metadata": {},
     "output_type": "execute_result"
    }
   ],
   "source": [
    "result"
   ]
  },
  {
   "cell_type": "code",
   "execution_count": 35,
   "metadata": {},
   "outputs": [],
   "source": [
    "from sklearn.metrics import precision_recall_curve\n",
    "import matplotlib.pyplot as plt"
   ]
  },
  {
   "cell_type": "code",
   "execution_count": 36,
   "metadata": {},
   "outputs": [
    {
     "data": {
      "text/plain": [
       "(11258, 69185)"
      ]
     },
     "execution_count": 36,
     "metadata": {},
     "output_type": "execute_result"
    }
   ],
   "source": [
    "X_test.shape"
   ]
  },
  {
   "cell_type": "code",
   "execution_count": 45,
   "metadata": {},
   "outputs": [
    {
     "data": {
      "image/png": "[encoded data removed]",
      "text/plain": [
       "<Figure size 720x576 with 1 Axes>"
      ]
     },
     "metadata": {
      "needs_background": "light"
     },
     "output_type": "display_data"
    }
   ],
   "source": [
    "prc,rc,_ = precision_recall_curve(test_labels, decision_values)\n",
    "\n",
    "plt.figure(figsize=(10,8))\n",
    "plt.plot(rc,prc,marker = '+')\n",
    "\n",
    "plt.xlabel(\"recall\")\n",
    "plt.ylabel(\"precision\")\n",
    "plt.title(\"precision vs. recall curve\")\n",
    "plt.show()"
   ]
  },
  {
   "cell_type": "code",
   "execution_count": 38,
   "metadata": {},
   "outputs": [
    {
     "data": {
      "text/plain": [
       "array([1.        , 0.99009901, 0.99009901, ..., 0.00990099, 0.        ,\n",
       "       0.        ])"
      ]
     },
     "execution_count": 38,
     "metadata": {},
     "output_type": "execute_result"
    }
   ],
   "source": [
    "rc"
   ]
  },
  {
   "cell_type": "code",
   "execution_count": 39,
   "metadata": {},
   "outputs": [
    {
     "data": {
      "text/plain": [
       "array([0.01141501, 0.01130327, 0.01130454, ..., 0.5       , 0.        ,\n",
       "       1.        ])"
      ]
     },
     "execution_count": 39,
     "metadata": {},
     "output_type": "execute_result"
    }
   ],
   "source": [
    "prc"
   ]
  },
  {
   "cell_type": "code",
   "execution_count": 42,
   "metadata": {},
   "outputs": [],
   "source": [
    "ap_1 = auc(rc, prc)"
   ]
  },
  {
   "cell_type": "code",
   "execution_count": 43,
   "metadata": {},
   "outputs": [
    {
     "data": {
      "text/plain": [
       "0.48492524721120756"
      ]
     },
     "execution_count": 43,
     "metadata": {},
     "output_type": "execute_result"
    }
   ],
   "source": [
    "ap_1"
   ]
  },
  {
   "cell_type": "code",
   "execution_count": 44,
   "metadata": {},
   "outputs": [
    {
     "data": {
      "image/png": "[encoded data removed]",
      "text/plain": [
       "<Figure size 432x288 with 1 Axes>"
      ]
     },
     "metadata": {
      "needs_background": "light"
     },
     "output_type": "display_data"
    }
   ],
   "source": [
    "fpr, tpr, _ = roc_curve(test_labels, decision_values)\n",
    "\n",
    "plt.plot(fpr, tpr)\n",
    "\n",
    "plt.xlabel(\"false positive rate\")\n",
    "plt.ylabel(\"true positive rate\")\n",
    "plt.title(\"ROC curve\")\n",
    "plt.show()"
   ]
  },
  {
   "cell_type": "code",
   "execution_count": 46,
   "metadata": {},
   "outputs": [
    {
     "data": {
      "text/plain": [
       "array([-1.15688678, -1.89250901, -1.06395982, ..., -1.15475869,\n",
       "       -1.37291048, -1.30871688])"
      ]
     },
     "execution_count": 46,
     "metadata": {},
     "output_type": "execute_result"
    }
   ],
   "source": [
    "decision_values"
   ]
  },
  {
   "cell_type": "code",
   "execution_count": 61,
   "metadata": {},
   "outputs": [],
   "source": [
    "test_tb = pd.read_csv('/home/jujun/fraudprediction_10k/data/test_insight_20200214.csv')"
   ]
  },
  {
   "cell_type": "code",
   "execution_count": 62,
   "metadata": {},
   "outputs": [
    {
     "data": {
      "text/html": [
       "<div>\n",
       "<style scoped>\n",
       "    .dataframe tbody tr th:only-of-type {\n",
       "        vertical-align: middle;\n",
       "    }\n",
       "\n",
       "    .dataframe tbody tr th {\n",
       "        vertical-align: top;\n",
       "    }\n",
       "\n",
       "    .dataframe thead th {\n",
       "        text-align: right;\n",
       "    }\n",
       "</style>\n",
       "<table border=\"1\" class=\"dataframe\">\n",
       "  <thead>\n",
       "    <tr style=\"text-align: right;\">\n",
       "      <th></th>\n",
       "      <th>file</th>\n",
       "      <th>cik</th>\n",
       "      <th>label</th>\n",
       "    </tr>\n",
       "  </thead>\n",
       "  <tbody>\n",
       "    <tr>\n",
       "      <th>0</th>\n",
       "      <td>edgar/data/815910/0000815910-04-000041.txt</td>\n",
       "      <td>815910</td>\n",
       "      <td>0</td>\n",
       "    </tr>\n",
       "    <tr>\n",
       "      <th>1</th>\n",
       "      <td>edgar/data/1294538/0000950124-05-001833.txt</td>\n",
       "      <td>1294538</td>\n",
       "      <td>0</td>\n",
       "    </tr>\n",
       "    <tr>\n",
       "      <th>2</th>\n",
       "      <td>edgar/data/49401/0000049401-05-000016.txt</td>\n",
       "      <td>49401</td>\n",
       "      <td>0</td>\n",
       "    </tr>\n",
       "    <tr>\n",
       "      <th>3</th>\n",
       "      <td>edgar/data/1326973/0000950134-07-023627.txt</td>\n",
       "      <td>1326973</td>\n",
       "      <td>0</td>\n",
       "    </tr>\n",
       "    <tr>\n",
       "      <th>4</th>\n",
       "      <td>edgar/data/1043000/0000950134-06-006443.txt</td>\n",
       "      <td>1043000</td>\n",
       "      <td>0</td>\n",
       "    </tr>\n",
       "  </tbody>\n",
       "</table>\n",
       "</div>"
      ],
      "text/plain": [
       "                                          file      cik  label\n",
       "0   edgar/data/815910/0000815910-04-000041.txt   815910      0\n",
       "1  edgar/data/1294538/0000950124-05-001833.txt  1294538      0\n",
       "2    edgar/data/49401/0000049401-05-000016.txt    49401      0\n",
       "3  edgar/data/1326973/0000950134-07-023627.txt  1326973      0\n",
       "4  edgar/data/1043000/0000950134-06-006443.txt  1043000      0"
      ]
     },
     "execution_count": 62,
     "metadata": {},
     "output_type": "execute_result"
    }
   ],
   "source": [
    "test_tb.head()"
   ]
  },
  {
   "cell_type": "code",
   "execution_count": 64,
   "metadata": {},
   "outputs": [
    {
     "data": {
      "text/plain": [
       "array([[9.92816167e-01, 7.18383252e-03],\n",
       "       [9.99134783e-01, 8.65217481e-04],\n",
       "       [9.93494099e-01, 6.50590108e-03],\n",
       "       ...,\n",
       "       [9.96561367e-01, 3.43863255e-03],\n",
       "       [9.96557165e-01, 3.44283452e-03],\n",
       "       [9.96245804e-01, 3.75419588e-03]])"
      ]
     },
     "execution_count": 64,
     "metadata": {},
     "output_type": "execute_result"
    }
   ],
   "source": [
    "clb_prob"
   ]
  },
  {
   "cell_type": "code",
   "execution_count": 66,
   "metadata": {},
   "outputs": [],
   "source": [
    "test_tb['pred_prob'] = clb_prob[:,1]"
   ]
  },
  {
   "cell_type": "code",
   "execution_count": 67,
   "metadata": {},
   "outputs": [
    {
     "data": {
      "text/html": [
       "<div>\n",
       "<style scoped>\n",
       "    .dataframe tbody tr th:only-of-type {\n",
       "        vertical-align: middle;\n",
       "    }\n",
       "\n",
       "    .dataframe tbody tr th {\n",
       "        vertical-align: top;\n",
       "    }\n",
       "\n",
       "    .dataframe thead th {\n",
       "        text-align: right;\n",
       "    }\n",
       "</style>\n",
       "<table border=\"1\" class=\"dataframe\">\n",
       "  <thead>\n",
       "    <tr style=\"text-align: right;\">\n",
       "      <th></th>\n",
       "      <th>file</th>\n",
       "      <th>cik</th>\n",
       "      <th>label</th>\n",
       "      <th>pred_prob</th>\n",
       "    </tr>\n",
       "  </thead>\n",
       "  <tbody>\n",
       "    <tr>\n",
       "      <th>0</th>\n",
       "      <td>edgar/data/815910/0000815910-04-000041.txt</td>\n",
       "      <td>815910</td>\n",
       "      <td>0</td>\n",
       "      <td>0.007184</td>\n",
       "    </tr>\n",
       "    <tr>\n",
       "      <th>1</th>\n",
       "      <td>edgar/data/1294538/0000950124-05-001833.txt</td>\n",
       "      <td>1294538</td>\n",
       "      <td>0</td>\n",
       "      <td>0.000865</td>\n",
       "    </tr>\n",
       "    <tr>\n",
       "      <th>2</th>\n",
       "      <td>edgar/data/49401/0000049401-05-000016.txt</td>\n",
       "      <td>49401</td>\n",
       "      <td>0</td>\n",
       "      <td>0.006506</td>\n",
       "    </tr>\n",
       "    <tr>\n",
       "      <th>3</th>\n",
       "      <td>edgar/data/1326973/0000950134-07-023627.txt</td>\n",
       "      <td>1326973</td>\n",
       "      <td>0</td>\n",
       "      <td>0.002342</td>\n",
       "    </tr>\n",
       "    <tr>\n",
       "      <th>4</th>\n",
       "      <td>edgar/data/1043000/0000950134-06-006443.txt</td>\n",
       "      <td>1043000</td>\n",
       "      <td>0</td>\n",
       "      <td>0.013362</td>\n",
       "    </tr>\n",
       "  </tbody>\n",
       "</table>\n",
       "</div>"
      ],
      "text/plain": [
       "                                          file      cik  label  pred_prob\n",
       "0   edgar/data/815910/0000815910-04-000041.txt   815910      0   0.007184\n",
       "1  edgar/data/1294538/0000950124-05-001833.txt  1294538      0   0.000865\n",
       "2    edgar/data/49401/0000049401-05-000016.txt    49401      0   0.006506\n",
       "3  edgar/data/1326973/0000950134-07-023627.txt  1326973      0   0.002342\n",
       "4  edgar/data/1043000/0000950134-06-006443.txt  1043000      0   0.013362"
      ]
     },
     "execution_count": 67,
     "metadata": {},
     "output_type": "execute_result"
    }
   ],
   "source": [
    "test_tb.head()"
   ]
  },
  {
   "cell_type": "code",
   "execution_count": 68,
   "metadata": {},
   "outputs": [],
   "source": [
    "test_tb_fraud = test_tb[test_tb.label == 1]"
   ]
  },
  {
   "cell_type": "code",
   "execution_count": 69,
   "metadata": {},
   "outputs": [],
   "source": [
    "cik_fraud = list(set(test_tb_fraud.cik))"
   ]
  },
  {
   "cell_type": "code",
   "execution_count": 71,
   "metadata": {},
   "outputs": [],
   "source": [
    "test_tb_fraud = test_tb[test_tb.cik.isin(cik_fraud)]"
   ]
  },
  {
   "cell_type": "code",
   "execution_count": 72,
   "metadata": {},
   "outputs": [
    {
     "data": {
      "text/html": [
       "<div>\n",
       "<style scoped>\n",
       "    .dataframe tbody tr th:only-of-type {\n",
       "        vertical-align: middle;\n",
       "    }\n",
       "\n",
       "    .dataframe tbody tr th {\n",
       "        vertical-align: top;\n",
       "    }\n",
       "\n",
       "    .dataframe thead th {\n",
       "        text-align: right;\n",
       "    }\n",
       "</style>\n",
       "<table border=\"1\" class=\"dataframe\">\n",
       "  <thead>\n",
       "    <tr style=\"text-align: right;\">\n",
       "      <th></th>\n",
       "      <th>file</th>\n",
       "      <th>cik</th>\n",
       "      <th>label</th>\n",
       "      <th>pred_prob</th>\n",
       "    </tr>\n",
       "  </thead>\n",
       "  <tbody>\n",
       "    <tr>\n",
       "      <th>20</th>\n",
       "      <td>edgar/data/860518/0000949303-00-000171.txt</td>\n",
       "      <td>860518</td>\n",
       "      <td>0</td>\n",
       "      <td>0.035448</td>\n",
       "    </tr>\n",
       "    <tr>\n",
       "      <th>58</th>\n",
       "      <td>edgar/data/737561/0000737561-05-000024.txt</td>\n",
       "      <td>737561</td>\n",
       "      <td>1</td>\n",
       "      <td>0.739874</td>\n",
       "    </tr>\n",
       "    <tr>\n",
       "      <th>143</th>\n",
       "      <td>edgar/data/933974/0000950135-05-006941.txt</td>\n",
       "      <td>933974</td>\n",
       "      <td>1</td>\n",
       "      <td>0.103282</td>\n",
       "    </tr>\n",
       "    <tr>\n",
       "      <th>154</th>\n",
       "      <td>edgar/data/1051118/0001193125-05-038641.txt</td>\n",
       "      <td>1051118</td>\n",
       "      <td>0</td>\n",
       "      <td>0.018622</td>\n",
       "    </tr>\n",
       "    <tr>\n",
       "      <th>175</th>\n",
       "      <td>edgar/data/1012482/0001193125-06-253438.txt</td>\n",
       "      <td>1012482</td>\n",
       "      <td>0</td>\n",
       "      <td>0.014160</td>\n",
       "    </tr>\n",
       "    <tr>\n",
       "      <th>222</th>\n",
       "      <td>edgar/data/1292055/0001193125-05-061017.txt</td>\n",
       "      <td>1292055</td>\n",
       "      <td>1</td>\n",
       "      <td>0.270050</td>\n",
       "    </tr>\n",
       "    <tr>\n",
       "      <th>296</th>\n",
       "      <td>edgar/data/1095600/0001193125-03-025762.txt</td>\n",
       "      <td>1095600</td>\n",
       "      <td>1</td>\n",
       "      <td>0.197626</td>\n",
       "    </tr>\n",
       "    <tr>\n",
       "      <th>298</th>\n",
       "      <td>edgar/data/73887/0000899243-98-001228.txt</td>\n",
       "      <td>73887</td>\n",
       "      <td>0</td>\n",
       "      <td>0.262550</td>\n",
       "    </tr>\n",
       "    <tr>\n",
       "      <th>419</th>\n",
       "      <td>edgar/data/109156/0000950134-05-018666.txt</td>\n",
       "      <td>109156</td>\n",
       "      <td>1</td>\n",
       "      <td>0.524986</td>\n",
       "    </tr>\n",
       "    <tr>\n",
       "      <th>593</th>\n",
       "      <td>edgar/data/826083/0000950134-07-022267.txt</td>\n",
       "      <td>826083</td>\n",
       "      <td>1</td>\n",
       "      <td>0.015368</td>\n",
       "    </tr>\n",
       "    <tr>\n",
       "      <th>612</th>\n",
       "      <td>edgar/data/860518/0000949303-00-000077.txt</td>\n",
       "      <td>860518</td>\n",
       "      <td>0</td>\n",
       "      <td>0.035448</td>\n",
       "    </tr>\n",
       "    <tr>\n",
       "      <th>616</th>\n",
       "      <td>edgar/data/929994/0001140361-13-012500.txt</td>\n",
       "      <td>929994</td>\n",
       "      <td>0</td>\n",
       "      <td>0.615893</td>\n",
       "    </tr>\n",
       "    <tr>\n",
       "      <th>647</th>\n",
       "      <td>edgar/data/73887/0000073887-08-000013.txt</td>\n",
       "      <td>73887</td>\n",
       "      <td>0</td>\n",
       "      <td>0.011372</td>\n",
       "    </tr>\n",
       "    <tr>\n",
       "      <th>652</th>\n",
       "      <td>edgar/data/944765/0000944765-09-000015.txt</td>\n",
       "      <td>944765</td>\n",
       "      <td>0</td>\n",
       "      <td>0.004894</td>\n",
       "    </tr>\n",
       "    <tr>\n",
       "      <th>727</th>\n",
       "      <td>edgar/data/28823/0000950152-05-001857.txt</td>\n",
       "      <td>28823</td>\n",
       "      <td>1</td>\n",
       "      <td>0.246680</td>\n",
       "    </tr>\n",
       "    <tr>\n",
       "      <th>842</th>\n",
       "      <td>edgar/data/1095600/0001193125-08-144214.txt</td>\n",
       "      <td>1095600</td>\n",
       "      <td>0</td>\n",
       "      <td>0.006606</td>\n",
       "    </tr>\n",
       "    <tr>\n",
       "      <th>850</th>\n",
       "      <td>edgar/data/826253/0000898430-97-002536.txt</td>\n",
       "      <td>826253</td>\n",
       "      <td>0</td>\n",
       "      <td>0.075202</td>\n",
       "    </tr>\n",
       "    <tr>\n",
       "      <th>908</th>\n",
       "      <td>edgar/data/26172/0000026172-98-000004.txt</td>\n",
       "      <td>26172</td>\n",
       "      <td>1</td>\n",
       "      <td>0.394565</td>\n",
       "    </tr>\n",
       "    <tr>\n",
       "      <th>945</th>\n",
       "      <td>edgar/data/1060822/0001060822-10-000016.txt</td>\n",
       "      <td>1060822</td>\n",
       "      <td>0</td>\n",
       "      <td>0.489181</td>\n",
       "    </tr>\n",
       "    <tr>\n",
       "      <th>1144</th>\n",
       "      <td>edgar/data/866535/0001019687-07-003875.txt</td>\n",
       "      <td>866535</td>\n",
       "      <td>0</td>\n",
       "      <td>0.001958</td>\n",
       "    </tr>\n",
       "  </tbody>\n",
       "</table>\n",
       "</div>"
      ],
      "text/plain": [
       "                                             file      cik  label  pred_prob\n",
       "20     edgar/data/860518/0000949303-00-000171.txt   860518      0   0.035448\n",
       "58     edgar/data/737561/0000737561-05-000024.txt   737561      1   0.739874\n",
       "143    edgar/data/933974/0000950135-05-006941.txt   933974      1   0.103282\n",
       "154   edgar/data/1051118/0001193125-05-038641.txt  1051118      0   0.018622\n",
       "175   edgar/data/1012482/0001193125-06-253438.txt  1012482      0   0.014160\n",
       "222   edgar/data/1292055/0001193125-05-061017.txt  1292055      1   0.270050\n",
       "296   edgar/data/1095600/0001193125-03-025762.txt  1095600      1   0.197626\n",
       "298     edgar/data/73887/0000899243-98-001228.txt    73887      0   0.262550\n",
       "419    edgar/data/109156/0000950134-05-018666.txt   109156      1   0.524986\n",
       "593    edgar/data/826083/0000950134-07-022267.txt   826083      1   0.015368\n",
       "612    edgar/data/860518/0000949303-00-000077.txt   860518      0   0.035448\n",
       "616    edgar/data/929994/0001140361-13-012500.txt   929994      0   0.615893\n",
       "647     edgar/data/73887/0000073887-08-000013.txt    73887      0   0.011372\n",
       "652    edgar/data/944765/0000944765-09-000015.txt   944765      0   0.004894\n",
       "727     edgar/data/28823/0000950152-05-001857.txt    28823      1   0.246680\n",
       "842   edgar/data/1095600/0001193125-08-144214.txt  1095600      0   0.006606\n",
       "850    edgar/data/826253/0000898430-97-002536.txt   826253      0   0.075202\n",
       "908     edgar/data/26172/0000026172-98-000004.txt    26172      1   0.394565\n",
       "945   edgar/data/1060822/0001060822-10-000016.txt  1060822      0   0.489181\n",
       "1144   edgar/data/866535/0001019687-07-003875.txt   866535      0   0.001958"
      ]
     },
     "execution_count": 72,
     "metadata": {},
     "output_type": "execute_result"
    }
   ],
   "source": [
    "test_tb_fraud.head(20)"
   ]
  },
  {
   "cell_type": "code",
   "execution_count": 78,
   "metadata": {},
   "outputs": [
    {
     "data": {
      "text/plain": [
       "78"
      ]
     },
     "execution_count": 78,
     "metadata": {},
     "output_type": "execute_result"
    }
   ],
   "source": [
    "len(cik_fraud)"
   ]
  },
  {
   "cell_type": "code",
   "execution_count": 77,
   "metadata": {},
   "outputs": [
    {
     "data": {
      "text/plain": [
       "(211, 4)"
      ]
     },
     "execution_count": 77,
     "metadata": {},
     "output_type": "execute_result"
    }
   ],
   "source": [
    "test_tb_fraud.shape"
   ]
  },
  {
   "cell_type": "code",
   "execution_count": 96,
   "metadata": {},
   "outputs": [
    {
     "data": {
      "text/plain": [
       "0.008273742610845512"
      ]
     },
     "execution_count": 96,
     "metadata": {},
     "output_type": "execute_result"
    }
   ],
   "source": [
    "np.average(test_tb_fraud[test_tb_fraud.cik == 51644].pred_prob)"
   ]
  },
  {
   "cell_type": "code",
   "execution_count": 97,
   "metadata": {},
   "outputs": [
    {
     "data": {
      "text/plain": [
       "0.012118756827490425"
      ]
     },
     "execution_count": 97,
     "metadata": {},
     "output_type": "execute_result"
    }
   ],
   "source": [
    "np.average(test_tb_fraud[(test_tb_fraud.cik == 51644)&(test_tb_fraud.label == 1)].pred_prob)"
   ]
  },
  {
   "cell_type": "code",
   "execution_count": 93,
   "metadata": {},
   "outputs": [],
   "source": [
    "pvtb_fraud_svm = pd.pivot_table(test_tb_fraud, values='pred_prob', index=['cik'], columns =['label'],\n",
    "                     aggfunc=[np.average,len], margins=True)"
   ]
  },
  {
   "cell_type": "code",
   "execution_count": 99,
   "metadata": {},
   "outputs": [
    {
     "data": {
      "text/html": [
       "<div>\n",
       "<style scoped>\n",
       "    .dataframe tbody tr th:only-of-type {\n",
       "        vertical-align: middle;\n",
       "    }\n",
       "\n",
       "    .dataframe tbody tr th {\n",
       "        vertical-align: top;\n",
       "    }\n",
       "\n",
       "    .dataframe thead tr th {\n",
       "        text-align: left;\n",
       "    }\n",
       "\n",
       "    .dataframe thead tr:last-of-type th {\n",
       "        text-align: right;\n",
       "    }\n",
       "</style>\n",
       "<table border=\"1\" class=\"dataframe\">\n",
       "  <thead>\n",
       "    <tr>\n",
       "      <th></th>\n",
       "      <th colspan=\"3\" halign=\"left\">average</th>\n",
       "      <th colspan=\"3\" halign=\"left\">len</th>\n",
       "    </tr>\n",
       "    <tr>\n",
       "      <th>label</th>\n",
       "      <th>0</th>\n",
       "      <th>1</th>\n",
       "      <th>All</th>\n",
       "      <th>0</th>\n",
       "      <th>1</th>\n",
       "      <th>All</th>\n",
       "    </tr>\n",
       "    <tr>\n",
       "      <th>cik</th>\n",
       "      <th></th>\n",
       "      <th></th>\n",
       "      <th></th>\n",
       "      <th></th>\n",
       "      <th></th>\n",
       "      <th></th>\n",
       "    </tr>\n",
       "  </thead>\n",
       "  <tbody>\n",
       "    <tr>\n",
       "      <th>3116</th>\n",
       "      <td>0.003869</td>\n",
       "      <td>0.003486</td>\n",
       "      <td>0.003792</td>\n",
       "      <td>4.0</td>\n",
       "      <td>1.0</td>\n",
       "      <td>5.0</td>\n",
       "    </tr>\n",
       "    <tr>\n",
       "      <th>3662</th>\n",
       "      <td>NaN</td>\n",
       "      <td>0.004072</td>\n",
       "      <td>0.004072</td>\n",
       "      <td>NaN</td>\n",
       "      <td>1.0</td>\n",
       "      <td>1.0</td>\n",
       "    </tr>\n",
       "    <tr>\n",
       "      <th>14272</th>\n",
       "      <td>0.005132</td>\n",
       "      <td>0.004862</td>\n",
       "      <td>0.004997</td>\n",
       "      <td>1.0</td>\n",
       "      <td>1.0</td>\n",
       "      <td>2.0</td>\n",
       "    </tr>\n",
       "    <tr>\n",
       "      <th>23217</th>\n",
       "      <td>NaN</td>\n",
       "      <td>0.015070</td>\n",
       "      <td>0.015070</td>\n",
       "      <td>NaN</td>\n",
       "      <td>1.0</td>\n",
       "      <td>1.0</td>\n",
       "    </tr>\n",
       "    <tr>\n",
       "      <th>26172</th>\n",
       "      <td>0.047770</td>\n",
       "      <td>0.394565</td>\n",
       "      <td>0.221167</td>\n",
       "      <td>1.0</td>\n",
       "      <td>1.0</td>\n",
       "      <td>2.0</td>\n",
       "    </tr>\n",
       "  </tbody>\n",
       "</table>\n",
       "</div>"
      ],
      "text/plain": [
       "        average                      len          \n",
       "label         0         1       All    0    1  All\n",
       "cik                                               \n",
       "3116   0.003869  0.003486  0.003792  4.0  1.0  5.0\n",
       "3662        NaN  0.004072  0.004072  NaN  1.0  1.0\n",
       "14272  0.005132  0.004862  0.004997  1.0  1.0  2.0\n",
       "23217       NaN  0.015070  0.015070  NaN  1.0  1.0\n",
       "26172  0.047770  0.394565  0.221167  1.0  1.0  2.0"
      ]
     },
     "execution_count": 99,
     "metadata": {},
     "output_type": "execute_result"
    }
   ],
   "source": [
    "pvtb_fraud_svm.head()"
   ]
  },
  {
   "cell_type": "code",
   "execution_count": 117,
   "metadata": {},
   "outputs": [],
   "source": [
    "pvtb_fraud_svm_ave_1 = pvtb_fraud_svm['average'][1].rename('prob_ave')\n",
    "\n",
    "pvtb_fraud_svm_len_1 = pvtb_fraud_svm['len'][1].rename('count_lb_1')\n",
    "\n",
    "tb_lb_1 = pd.concat([pvtb_fraud_svm_ave_1, pvtb_fraud_svm_len_1],axis=1)\n",
    "\n",
    "tb_lb_1 = tb_lb_1.drop('All',axis =0)\n",
    "\n",
    "tb_lb_1 = tb_lb_1.sort_values(by=['count_lb_1'])"
   ]
  },
  {
   "cell_type": "code",
   "execution_count": 128,
   "metadata": {},
   "outputs": [
    {
     "data": {
      "text/html": [
       "<div>\n",
       "<style scoped>\n",
       "    .dataframe tbody tr th:only-of-type {\n",
       "        vertical-align: middle;\n",
       "    }\n",
       "\n",
       "    .dataframe tbody tr th {\n",
       "        vertical-align: top;\n",
       "    }\n",
       "\n",
       "    .dataframe thead th {\n",
       "        text-align: right;\n",
       "    }\n",
       "</style>\n",
       "<table border=\"1\" class=\"dataframe\">\n",
       "  <thead>\n",
       "    <tr style=\"text-align: right;\">\n",
       "      <th></th>\n",
       "      <th>prob_ave</th>\n",
       "      <th>count_lb_1</th>\n",
       "    </tr>\n",
       "    <tr>\n",
       "      <th>cik</th>\n",
       "      <th></th>\n",
       "      <th></th>\n",
       "    </tr>\n",
       "  </thead>\n",
       "  <tbody>\n",
       "    <tr>\n",
       "      <th>3116</th>\n",
       "      <td>0.003486</td>\n",
       "      <td>1.0</td>\n",
       "    </tr>\n",
       "    <tr>\n",
       "      <th>929994</th>\n",
       "      <td>0.636868</td>\n",
       "      <td>1.0</td>\n",
       "    </tr>\n",
       "    <tr>\n",
       "      <th>932112</th>\n",
       "      <td>0.003303</td>\n",
       "      <td>1.0</td>\n",
       "    </tr>\n",
       "    <tr>\n",
       "      <th>933974</th>\n",
       "      <td>0.103282</td>\n",
       "      <td>1.0</td>\n",
       "    </tr>\n",
       "    <tr>\n",
       "      <th>935802</th>\n",
       "      <td>0.425730</td>\n",
       "      <td>1.0</td>\n",
       "    </tr>\n",
       "  </tbody>\n",
       "</table>\n",
       "</div>"
      ],
      "text/plain": [
       "        prob_ave  count_lb_1\n",
       "cik                         \n",
       "3116    0.003486         1.0\n",
       "929994  0.636868         1.0\n",
       "932112  0.003303         1.0\n",
       "933974  0.103282         1.0\n",
       "935802  0.425730         1.0"
      ]
     },
     "execution_count": 128,
     "metadata": {},
     "output_type": "execute_result"
    }
   ],
   "source": [
    "tb_lb_1.head()"
   ]
  },
  {
   "cell_type": "code",
   "execution_count": 129,
   "metadata": {},
   "outputs": [
    {
     "data": {
      "text/html": [
       "<div>\n",
       "<style scoped>\n",
       "    .dataframe tbody tr th:only-of-type {\n",
       "        vertical-align: middle;\n",
       "    }\n",
       "\n",
       "    .dataframe tbody tr th {\n",
       "        vertical-align: top;\n",
       "    }\n",
       "\n",
       "    .dataframe thead th {\n",
       "        text-align: right;\n",
       "    }\n",
       "</style>\n",
       "<table border=\"1\" class=\"dataframe\">\n",
       "  <thead>\n",
       "    <tr style=\"text-align: right;\">\n",
       "      <th></th>\n",
       "      <th>prob_ave</th>\n",
       "      <th>count_lb_1</th>\n",
       "    </tr>\n",
       "    <tr>\n",
       "      <th>cik</th>\n",
       "      <th></th>\n",
       "      <th></th>\n",
       "    </tr>\n",
       "  </thead>\n",
       "  <tbody>\n",
       "    <tr>\n",
       "      <th>1107112</th>\n",
       "      <td>0.482855</td>\n",
       "      <td>3.0</td>\n",
       "    </tr>\n",
       "    <tr>\n",
       "      <th>278352</th>\n",
       "      <td>0.187323</td>\n",
       "      <td>3.0</td>\n",
       "    </tr>\n",
       "    <tr>\n",
       "      <th>859475</th>\n",
       "      <td>0.557794</td>\n",
       "      <td>3.0</td>\n",
       "    </tr>\n",
       "    <tr>\n",
       "      <th>73887</th>\n",
       "      <td>0.205653</td>\n",
       "      <td>3.0</td>\n",
       "    </tr>\n",
       "    <tr>\n",
       "      <th>1054374</th>\n",
       "      <td>0.171161</td>\n",
       "      <td>5.0</td>\n",
       "    </tr>\n",
       "  </tbody>\n",
       "</table>\n",
       "</div>"
      ],
      "text/plain": [
       "         prob_ave  count_lb_1\n",
       "cik                          \n",
       "1107112  0.482855         3.0\n",
       "278352   0.187323         3.0\n",
       "859475   0.557794         3.0\n",
       "73887    0.205653         3.0\n",
       "1054374  0.171161         5.0"
      ]
     },
     "execution_count": 129,
     "metadata": {},
     "output_type": "execute_result"
    }
   ],
   "source": [
    "tb_lb_1.tail()"
   ]
  },
  {
   "cell_type": "code",
   "execution_count": 140,
   "metadata": {},
   "outputs": [
    {
     "data": {
      "image/png": "[encoded data removed]",
      "text/plain": [
       "<Figure size 432x288 with 1 Axes>"
      ]
     },
     "metadata": {
      "needs_background": "light"
     },
     "output_type": "display_data"
    }
   ],
   "source": [
    "x_axis = [str(i) for i in tb_lb_1.count_lb_1]\n",
    "plt.plot(x_axis, tb_lb_1.prob_ave,'ro')\n",
    "plt.show()"
   ]
  },
  {
   "cell_type": "code",
   "execution_count": null,
   "metadata": {},
   "outputs": [],
   "source": []
  },
  {
   "cell_type": "code",
   "execution_count": null,
   "metadata": {},
   "outputs": [],
   "source": []
  },
  {
   "cell_type": "code",
   "execution_count": null,
   "metadata": {},
   "outputs": [],
   "source": []
  },
  {
   "cell_type": "code",
   "execution_count": null,
   "metadata": {},
   "outputs": [],
   "source": []
  },
  {
   "cell_type": "code",
   "execution_count": 49,
   "metadata": {},
   "outputs": [],
   "source": [
    "train_labels = pd.Series(train_labels)\n",
    "f = 0\n",
    "\n",
    "aucs = ()\n",
    "aucs_list = []\n",
    "\n",
    "precisions = ()\n",
    "\n",
    "recalls = ()\n",
    "\n",
    "result = pd.DataFrame()\n",
    "\n",
    "#exp_weight= []\n",
    "\n",
    "#kfold = StratifiedKFold(n_splits=5, shuffle=True, random_state=42)\n",
    "#embedding_matrix = np.load('embedding_matrix_0721.npy')\n",
    "#for train_index, test_index in kfold.split(X_train,labels_train):\n",
    "#     print(' ')\n",
    "\n",
    "# f = f+1\n",
    "# print('molde_'+str(f))\n",
    "# print('train: ',train_index[0], ' / ', train_index[-1])\n",
    "# print('test: ',test_index[0],' / ', test_index[-1])\n",
    "#ModelName = './folder(6)/basicM_bestM_l12_'+str(f)\n",
    "# x_traink, x_val = tm[train_index], tm[test_index]\n",
    "# y_traink, y_val = labels_train[train_index].values, labels_train[test_index].values\n",
    "\n",
    "class_weights_dict = {}\n",
    "class_weights_dict[0] = 1\n",
    "class_weights_dict[1] = 75\n",
    "# class_weights = class_weight.compute_class_weight('balanced',\n",
    "#                                              np.unique(train_labels),\n",
    "#                                              train_labels)\n",
    "# class_weights_dict[0] = class_weights[0]\n",
    "# class_weights_dict[1] = class_weights[1]\n",
    "# print(class_weights_dict)\n",
    "\n",
    "svm = LinearSVC(class_weight = class_weights_dict)\n",
    "svm.fit(X_train, train_labels)\n",
    "\n",
    "#feacture_names = tfidf_vect.get_feature_names()\n",
    "\n",
    "#plot_coefficients(svm, feacture_names)\n",
    "\n",
    "decision_values = svm.decision_function(X_test)\n",
    "auc = roc_auc_score(test_labels, decision_values)\n",
    "\n",
    "pred = svm.predict(X_test)\n",
    "prfs = precision_recall_fscore_support(test_labels, pred)\n",
    "\n",
    "\n",
    "ap = average_precision_score(test_labels, decision_values)\n",
    "#     if f == 1:\n",
    "#         pred_1= np.array([test_index,pred,decision_values])\n",
    "#     else: pred_2= np.array([test_index,pred,decision_values])\n",
    "\n",
    "dict_temp = {\n",
    "    'average_precision':ap,\n",
    "    'auc':auc,'precision_label_0':prfs[0][0],'precision_label_1':prfs[0][1],\n",
    "    'recall_label_0':prfs[1][0],'recall_label_1':prfs[1][1],\n",
    "    'fscore_label_0':prfs[2][0],'fscore_label_1':prfs[2][1],\n",
    "    'support_label_0':prfs[3][0],'support_label_1':prfs[3][1],\n",
    "}\n",
    "temp_table = pd.DataFrame(dict_temp,index=[f])\n",
    "result = pd.concat([temp_table,result])"
   ]
  },
  {
   "cell_type": "code",
   "execution_count": 50,
   "metadata": {},
   "outputs": [
    {
     "data": {
      "text/html": [
       "<div>\n",
       "<style scoped>\n",
       "    .dataframe tbody tr th:only-of-type {\n",
       "        vertical-align: middle;\n",
       "    }\n",
       "\n",
       "    .dataframe tbody tr th {\n",
       "        vertical-align: top;\n",
       "    }\n",
       "\n",
       "    .dataframe thead th {\n",
       "        text-align: right;\n",
       "    }\n",
       "</style>\n",
       "<table border=\"1\" class=\"dataframe\">\n",
       "  <thead>\n",
       "    <tr style=\"text-align: right;\">\n",
       "      <th></th>\n",
       "      <th>auc</th>\n",
       "      <th>average_precision</th>\n",
       "      <th>fscore_label_0</th>\n",
       "      <th>fscore_label_1</th>\n",
       "      <th>precision_label_0</th>\n",
       "      <th>precision_label_1</th>\n",
       "      <th>recall_label_0</th>\n",
       "      <th>recall_label_1</th>\n",
       "      <th>support_label_0</th>\n",
       "      <th>support_label_1</th>\n",
       "    </tr>\n",
       "  </thead>\n",
       "  <tbody>\n",
       "    <tr>\n",
       "      <th>0</th>\n",
       "      <td>0.92473</td>\n",
       "      <td>0.389777</td>\n",
       "      <td>0.994114</td>\n",
       "      <td>0.498084</td>\n",
       "      <td>0.996756</td>\n",
       "      <td>0.40625</td>\n",
       "      <td>0.991485</td>\n",
       "      <td>0.643564</td>\n",
       "      <td>11157</td>\n",
       "      <td>101</td>\n",
       "    </tr>\n",
       "  </tbody>\n",
       "</table>\n",
       "</div>"
      ],
      "text/plain": [
       "       auc  average_precision  fscore_label_0  fscore_label_1  \\\n",
       "0  0.92473           0.389777        0.994114        0.498084   \n",
       "\n",
       "   precision_label_0  precision_label_1  recall_label_0  recall_label_1  \\\n",
       "0           0.996756            0.40625        0.991485        0.643564   \n",
       "\n",
       "   support_label_0  support_label_1  \n",
       "0            11157              101  "
      ]
     },
     "execution_count": 50,
     "metadata": {},
     "output_type": "execute_result"
    }
   ],
   "source": [
    "result"
   ]
  },
  {
   "cell_type": "code",
   "execution_count": 51,
   "metadata": {},
   "outputs": [
    {
     "data": {
      "image/png": "[encoded data removed]",
      "text/plain": [
       "<Figure size 1440x1080 with 1 Axes>"
      ]
     },
     "metadata": {
      "needs_background": "light"
     },
     "output_type": "display_data"
    }
   ],
   "source": [
    "prc,rc,_ = precision_recall_curve(test_labels, decision_values)\n",
    "\n",
    "plt.figure(figsize=(20,15))\n",
    "plt.plot(rc,prc,marker = '+')\n",
    "\n",
    "plt.xlabel(\"recall\")\n",
    "plt.ylabel(\"precision\")\n",
    "plt.title(\"precision vs. recall curve\")\n",
    "plt.show()"
   ]
  },
  {
   "cell_type": "code",
   "execution_count": 52,
   "metadata": {},
   "outputs": [],
   "source": [
    "train_labels = pd.Series(train_labels)\n",
    "f = 0\n",
    "\n",
    "aucs = ()\n",
    "aucs_list = []\n",
    "\n",
    "precisions = ()\n",
    "\n",
    "recalls = ()\n",
    "\n",
    "result = pd.DataFrame()\n",
    "\n",
    "#exp_weight= []\n",
    "\n",
    "#kfold = StratifiedKFold(n_splits=5, shuffle=True, random_state=42)\n",
    "#embedding_matrix = np.load('embedding_matrix_0721.npy')\n",
    "#for train_index, test_index in kfold.split(X_train,labels_train):\n",
    "#     print(' ')\n",
    "\n",
    "# f = f+1\n",
    "# print('molde_'+str(f))\n",
    "# print('train: ',train_index[0], ' / ', train_index[-1])\n",
    "# print('test: ',test_index[0],' / ', test_index[-1])\n",
    "#ModelName = './folder(6)/basicM_bestM_l12_'+str(f)\n",
    "# x_traink, x_val = tm[train_index], tm[test_index]\n",
    "# y_traink, y_val = labels_train[train_index].values, labels_train[test_index].values\n",
    "\n",
    "class_weights_dict = {}\n",
    "class_weights_dict[0] = 1\n",
    "class_weights_dict[1] = 50\n",
    "# class_weights = class_weight.compute_class_weight('balanced',\n",
    "#                                              np.unique(train_labels),\n",
    "#                                              train_labels)\n",
    "# class_weights_dict[0] = class_weights[0]\n",
    "# class_weights_dict[1] = class_weights[1]\n",
    "# print(class_weights_dict)\n",
    "\n",
    "svm = LinearSVC(class_weight = class_weights_dict)\n",
    "svm.fit(X_train, train_labels)\n",
    "\n",
    "#feacture_names = tfidf_vect.get_feature_names()\n",
    "\n",
    "#plot_coefficients(svm, feacture_names)\n",
    "\n",
    "decision_values = svm.decision_function(X_test)\n",
    "auc = roc_auc_score(test_labels, decision_values)\n",
    "\n",
    "pred = svm.predict(X_test)\n",
    "prfs = precision_recall_fscore_support(test_labels, pred)\n",
    "\n",
    "\n",
    "ap = average_precision_score(test_labels, decision_values)\n",
    "#     if f == 1:\n",
    "#         pred_1= np.array([test_index,pred,decision_values])\n",
    "#     else: pred_2= np.array([test_index,pred,decision_values])\n",
    "\n",
    "dict_temp = {\n",
    "    'average_precision':ap,\n",
    "    'auc':auc,'precision_label_0':prfs[0][0],'precision_label_1':prfs[0][1],\n",
    "    'recall_label_0':prfs[1][0],'recall_label_1':prfs[1][1],\n",
    "    'fscore_label_0':prfs[2][0],'fscore_label_1':prfs[2][1],\n",
    "    'support_label_0':prfs[3][0],'support_label_1':prfs[3][1],\n",
    "}\n",
    "temp_table = pd.DataFrame(dict_temp,index=[f])\n",
    "result = pd.concat([temp_table,result])"
   ]
  },
  {
   "cell_type": "code",
   "execution_count": 53,
   "metadata": {},
   "outputs": [
    {
     "data": {
      "text/html": [
       "<div>\n",
       "<style scoped>\n",
       "    .dataframe tbody tr th:only-of-type {\n",
       "        vertical-align: middle;\n",
       "    }\n",
       "\n",
       "    .dataframe tbody tr th {\n",
       "        vertical-align: top;\n",
       "    }\n",
       "\n",
       "    .dataframe thead th {\n",
       "        text-align: right;\n",
       "    }\n",
       "</style>\n",
       "<table border=\"1\" class=\"dataframe\">\n",
       "  <thead>\n",
       "    <tr style=\"text-align: right;\">\n",
       "      <th></th>\n",
       "      <th>auc</th>\n",
       "      <th>average_precision</th>\n",
       "      <th>fscore_label_0</th>\n",
       "      <th>fscore_label_1</th>\n",
       "      <th>precision_label_0</th>\n",
       "      <th>precision_label_1</th>\n",
       "      <th>recall_label_0</th>\n",
       "      <th>recall_label_1</th>\n",
       "      <th>support_label_0</th>\n",
       "      <th>support_label_1</th>\n",
       "    </tr>\n",
       "  </thead>\n",
       "  <tbody>\n",
       "    <tr>\n",
       "      <th>0</th>\n",
       "      <td>0.925169</td>\n",
       "      <td>0.427077</td>\n",
       "      <td>0.99443</td>\n",
       "      <td>0.511811</td>\n",
       "      <td>0.996758</td>\n",
       "      <td>0.424837</td>\n",
       "      <td>0.992113</td>\n",
       "      <td>0.643564</td>\n",
       "      <td>11157</td>\n",
       "      <td>101</td>\n",
       "    </tr>\n",
       "  </tbody>\n",
       "</table>\n",
       "</div>"
      ],
      "text/plain": [
       "        auc  average_precision  fscore_label_0  fscore_label_1  \\\n",
       "0  0.925169           0.427077         0.99443        0.511811   \n",
       "\n",
       "   precision_label_0  precision_label_1  recall_label_0  recall_label_1  \\\n",
       "0           0.996758           0.424837        0.992113        0.643564   \n",
       "\n",
       "   support_label_0  support_label_1  \n",
       "0            11157              101  "
      ]
     },
     "execution_count": 53,
     "metadata": {},
     "output_type": "execute_result"
    }
   ],
   "source": [
    "result"
   ]
  },
  {
   "cell_type": "code",
   "execution_count": 54,
   "metadata": {},
   "outputs": [],
   "source": [
    "train_labels = pd.Series(train_labels)\n",
    "f = 0\n",
    "\n",
    "aucs = ()\n",
    "aucs_list = []\n",
    "\n",
    "precisions = ()\n",
    "\n",
    "recalls = ()\n",
    "\n",
    "result = pd.DataFrame()\n",
    "\n",
    "#exp_weight= []\n",
    "\n",
    "#kfold = StratifiedKFold(n_splits=5, shuffle=True, random_state=42)\n",
    "#embedding_matrix = np.load('embedding_matrix_0721.npy')\n",
    "#for train_index, test_index in kfold.split(X_train,labels_train):\n",
    "#     print(' ')\n",
    "\n",
    "# f = f+1\n",
    "# print('molde_'+str(f))\n",
    "# print('train: ',train_index[0], ' / ', train_index[-1])\n",
    "# print('test: ',test_index[0],' / ', test_index[-1])\n",
    "#ModelName = './folder(6)/basicM_bestM_l12_'+str(f)\n",
    "# x_traink, x_val = tm[train_index], tm[test_index]\n",
    "# y_traink, y_val = labels_train[train_index].values, labels_train[test_index].values\n",
    "\n",
    "class_weights_dict = {}\n",
    "class_weights_dict[0] = 1\n",
    "class_weights_dict[1] = 25\n",
    "# class_weights = class_weight.compute_class_weight('balanced',\n",
    "#                                              np.unique(train_labels),\n",
    "#                                              train_labels)\n",
    "# class_weights_dict[0] = class_weights[0]\n",
    "# class_weights_dict[1] = class_weights[1]\n",
    "# print(class_weights_dict)\n",
    "\n",
    "svm = LinearSVC(class_weight = class_weights_dict)\n",
    "svm.fit(X_train, train_labels)\n",
    "\n",
    "#feacture_names = tfidf_vect.get_feature_names()\n",
    "\n",
    "#plot_coefficients(svm, feacture_names)\n",
    "\n",
    "decision_values = svm.decision_function(X_test)\n",
    "auc = roc_auc_score(test_labels, decision_values)\n",
    "\n",
    "pred = svm.predict(X_test)\n",
    "prfs = precision_recall_fscore_support(test_labels, pred)\n",
    "\n",
    "\n",
    "ap = average_precision_score(test_labels, decision_values)\n",
    "#     if f == 1:\n",
    "#         pred_1= np.array([test_index,pred,decision_values])\n",
    "#     else: pred_2= np.array([test_index,pred,decision_values])\n",
    "\n",
    "dict_temp = {\n",
    "    'average_precision':ap,\n",
    "    'auc':auc,'precision_label_0':prfs[0][0],'precision_label_1':prfs[0][1],\n",
    "    'recall_label_0':prfs[1][0],'recall_label_1':prfs[1][1],\n",
    "    'fscore_label_0':prfs[2][0],'fscore_label_1':prfs[2][1],\n",
    "    'support_label_0':prfs[3][0],'support_label_1':prfs[3][1],\n",
    "}\n",
    "temp_table = pd.DataFrame(dict_temp,index=[f])\n",
    "result = pd.concat([temp_table,result])"
   ]
  },
  {
   "cell_type": "code",
   "execution_count": 55,
   "metadata": {},
   "outputs": [
    {
     "data": {
      "text/html": [
       "<div>\n",
       "<style scoped>\n",
       "    .dataframe tbody tr th:only-of-type {\n",
       "        vertical-align: middle;\n",
       "    }\n",
       "\n",
       "    .dataframe tbody tr th {\n",
       "        vertical-align: top;\n",
       "    }\n",
       "\n",
       "    .dataframe thead th {\n",
       "        text-align: right;\n",
       "    }\n",
       "</style>\n",
       "<table border=\"1\" class=\"dataframe\">\n",
       "  <thead>\n",
       "    <tr style=\"text-align: right;\">\n",
       "      <th></th>\n",
       "      <th>auc</th>\n",
       "      <th>average_precision</th>\n",
       "      <th>fscore_label_0</th>\n",
       "      <th>fscore_label_1</th>\n",
       "      <th>precision_label_0</th>\n",
       "      <th>precision_label_1</th>\n",
       "      <th>recall_label_0</th>\n",
       "      <th>recall_label_1</th>\n",
       "      <th>support_label_0</th>\n",
       "      <th>support_label_1</th>\n",
       "    </tr>\n",
       "  </thead>\n",
       "  <tbody>\n",
       "    <tr>\n",
       "      <th>0</th>\n",
       "      <td>0.925004</td>\n",
       "      <td>0.467583</td>\n",
       "      <td>0.995243</td>\n",
       "      <td>0.547009</td>\n",
       "      <td>0.996674</td>\n",
       "      <td>0.481203</td>\n",
       "      <td>0.993816</td>\n",
       "      <td>0.633663</td>\n",
       "      <td>11157</td>\n",
       "      <td>101</td>\n",
       "    </tr>\n",
       "  </tbody>\n",
       "</table>\n",
       "</div>"
      ],
      "text/plain": [
       "        auc  average_precision  fscore_label_0  fscore_label_1  \\\n",
       "0  0.925004           0.467583        0.995243        0.547009   \n",
       "\n",
       "   precision_label_0  precision_label_1  recall_label_0  recall_label_1  \\\n",
       "0           0.996674           0.481203        0.993816        0.633663   \n",
       "\n",
       "   support_label_0  support_label_1  \n",
       "0            11157              101  "
      ]
     },
     "execution_count": 55,
     "metadata": {},
     "output_type": "execute_result"
    }
   ],
   "source": [
    "result"
   ]
  },
  {
   "cell_type": "code",
   "execution_count": 56,
   "metadata": {},
   "outputs": [],
   "source": [
    "train_labels = pd.Series(train_labels)\n",
    "f = 0\n",
    "\n",
    "aucs = ()\n",
    "aucs_list = []\n",
    "\n",
    "precisions = ()\n",
    "\n",
    "recalls = ()\n",
    "\n",
    "result = pd.DataFrame()\n",
    "\n",
    "#exp_weight= []\n",
    "\n",
    "#kfold = StratifiedKFold(n_splits=5, shuffle=True, random_state=42)\n",
    "#embedding_matrix = np.load('embedding_matrix_0721.npy')\n",
    "#for train_index, test_index in kfold.split(X_train,labels_train):\n",
    "#     print(' ')\n",
    "\n",
    "# f = f+1\n",
    "# print('molde_'+str(f))\n",
    "# print('train: ',train_index[0], ' / ', train_index[-1])\n",
    "# print('test: ',test_index[0],' / ', test_index[-1])\n",
    "#ModelName = './folder(6)/basicM_bestM_l12_'+str(f)\n",
    "# x_traink, x_val = tm[train_index], tm[test_index]\n",
    "# y_traink, y_val = labels_train[train_index].values, labels_train[test_index].values\n",
    "\n",
    "class_weights_dict = {}\n",
    "class_weights_dict[0] = 1\n",
    "class_weights_dict[1] = 10\n",
    "# class_weights = class_weight.compute_class_weight('balanced',\n",
    "#                                              np.unique(train_labels),\n",
    "#                                              train_labels)\n",
    "# class_weights_dict[0] = class_weights[0]\n",
    "# class_weights_dict[1] = class_weights[1]\n",
    "# print(class_weights_dict)\n",
    "\n",
    "svm = LinearSVC(class_weight = class_weights_dict)\n",
    "svm.fit(X_train, train_labels)\n",
    "\n",
    "#feacture_names = tfidf_vect.get_feature_names()\n",
    "\n",
    "#plot_coefficients(svm, feacture_names)\n",
    "\n",
    "decision_values = svm.decision_function(X_test)\n",
    "auc = roc_auc_score(test_labels, decision_values)\n",
    "\n",
    "pred = svm.predict(X_test)\n",
    "prfs = precision_recall_fscore_support(test_labels, pred)\n",
    "\n",
    "\n",
    "ap = average_precision_score(test_labels, decision_values)\n",
    "#     if f == 1:\n",
    "#         pred_1= np.array([test_index,pred,decision_values])\n",
    "#     else: pred_2= np.array([test_index,pred,decision_values])\n",
    "\n",
    "dict_temp = {\n",
    "    'average_precision':ap,\n",
    "    'auc':auc,'precision_label_0':prfs[0][0],'precision_label_1':prfs[0][1],\n",
    "    'recall_label_0':prfs[1][0],'recall_label_1':prfs[1][1],\n",
    "    'fscore_label_0':prfs[2][0],'fscore_label_1':prfs[2][1],\n",
    "    'support_label_0':prfs[3][0],'support_label_1':prfs[3][1],\n",
    "}\n",
    "temp_table = pd.DataFrame(dict_temp,index=[f])\n",
    "result = pd.concat([temp_table,result])"
   ]
  },
  {
   "cell_type": "code",
   "execution_count": 57,
   "metadata": {},
   "outputs": [
    {
     "data": {
      "text/html": [
       "<div>\n",
       "<style scoped>\n",
       "    .dataframe tbody tr th:only-of-type {\n",
       "        vertical-align: middle;\n",
       "    }\n",
       "\n",
       "    .dataframe tbody tr th {\n",
       "        vertical-align: top;\n",
       "    }\n",
       "\n",
       "    .dataframe thead th {\n",
       "        text-align: right;\n",
       "    }\n",
       "</style>\n",
       "<table border=\"1\" class=\"dataframe\">\n",
       "  <thead>\n",
       "    <tr style=\"text-align: right;\">\n",
       "      <th></th>\n",
       "      <th>auc</th>\n",
       "      <th>average_precision</th>\n",
       "      <th>fscore_label_0</th>\n",
       "      <th>fscore_label_1</th>\n",
       "      <th>precision_label_0</th>\n",
       "      <th>precision_label_1</th>\n",
       "      <th>recall_label_0</th>\n",
       "      <th>recall_label_1</th>\n",
       "      <th>support_label_0</th>\n",
       "      <th>support_label_1</th>\n",
       "    </tr>\n",
       "  </thead>\n",
       "  <tbody>\n",
       "    <tr>\n",
       "      <th>0</th>\n",
       "      <td>0.924522</td>\n",
       "      <td>0.491416</td>\n",
       "      <td>0.996146</td>\n",
       "      <td>0.574257</td>\n",
       "      <td>0.996146</td>\n",
       "      <td>0.574257</td>\n",
       "      <td>0.996146</td>\n",
       "      <td>0.574257</td>\n",
       "      <td>11157</td>\n",
       "      <td>101</td>\n",
       "    </tr>\n",
       "  </tbody>\n",
       "</table>\n",
       "</div>"
      ],
      "text/plain": [
       "        auc  average_precision  fscore_label_0  fscore_label_1  \\\n",
       "0  0.924522           0.491416        0.996146        0.574257   \n",
       "\n",
       "   precision_label_0  precision_label_1  recall_label_0  recall_label_1  \\\n",
       "0           0.996146           0.574257        0.996146        0.574257   \n",
       "\n",
       "   support_label_0  support_label_1  \n",
       "0            11157              101  "
      ]
     },
     "execution_count": 57,
     "metadata": {},
     "output_type": "execute_result"
    }
   ],
   "source": [
    "result"
   ]
  },
  {
   "cell_type": "code",
   "execution_count": null,
   "metadata": {},
   "outputs": [],
   "source": []
  },
  {
   "cell_type": "code",
   "execution_count": null,
   "metadata": {},
   "outputs": [],
   "source": []
  },
  {
   "cell_type": "code",
   "execution_count": 58,
   "metadata": {},
   "outputs": [],
   "source": [
    "train_labels = pd.Series(train_labels)\n",
    "f = 0\n",
    "\n",
    "aucs = ()\n",
    "aucs_list = []\n",
    "\n",
    "precisions = ()\n",
    "\n",
    "recalls = ()\n",
    "\n",
    "result = pd.DataFrame()\n",
    "\n",
    "#exp_weight= []\n",
    "\n",
    "#kfold = StratifiedKFold(n_splits=5, shuffle=True, random_state=42)\n",
    "#embedding_matrix = np.load('embedding_matrix_0721.npy')\n",
    "#for train_index, test_index in kfold.split(X_train,labels_train):\n",
    "#     print(' ')\n",
    "\n",
    "# f = f+1\n",
    "# print('molde_'+str(f))\n",
    "# print('train: ',train_index[0], ' / ', train_index[-1])\n",
    "# print('test: ',test_index[0],' / ', test_index[-1])\n",
    "#ModelName = './folder(6)/basicM_bestM_l12_'+str(f)\n",
    "# x_traink, x_val = tm[train_index], tm[test_index]\n",
    "# y_traink, y_val = labels_train[train_index].values, labels_train[test_index].values\n",
    "\n",
    "class_weights_dict = {}\n",
    "class_weights_dict[0] = 1\n",
    "class_weights_dict[1] = 5\n",
    "# class_weights = class_weight.compute_class_weight('balanced',\n",
    "#                                              np.unique(train_labels),\n",
    "#                                              train_labels)\n",
    "# class_weights_dict[0] = class_weights[0]\n",
    "# class_weights_dict[1] = class_weights[1]\n",
    "# print(class_weights_dict)\n",
    "\n",
    "svm = LinearSVC(class_weight = class_weights_dict)\n",
    "svm.fit(X_train, train_labels)\n",
    "\n",
    "#feacture_names = tfidf_vect.get_feature_names()\n",
    "\n",
    "#plot_coefficients(svm, feacture_names)\n",
    "\n",
    "decision_values = svm.decision_function(X_test)\n",
    "auc = roc_auc_score(test_labels, decision_values)\n",
    "\n",
    "pred = svm.predict(X_test)\n",
    "prfs = precision_recall_fscore_support(test_labels, pred)\n",
    "\n",
    "\n",
    "ap = average_precision_score(test_labels, decision_values)\n",
    "#     if f == 1:\n",
    "#         pred_1= np.array([test_index,pred,decision_values])\n",
    "#     else: pred_2= np.array([test_index,pred,decision_values])\n",
    "\n",
    "dict_temp = {\n",
    "    'average_precision':ap,\n",
    "    'auc':auc,'precision_label_0':prfs[0][0],'precision_label_1':prfs[0][1],\n",
    "    'recall_label_0':prfs[1][0],'recall_label_1':prfs[1][1],\n",
    "    'fscore_label_0':prfs[2][0],'fscore_label_1':prfs[2][1],\n",
    "    'support_label_0':prfs[3][0],'support_label_1':prfs[3][1],\n",
    "}\n",
    "temp_table = pd.DataFrame(dict_temp,index=[f])\n",
    "result = pd.concat([temp_table,result])"
   ]
  },
  {
   "cell_type": "code",
   "execution_count": 59,
   "metadata": {},
   "outputs": [
    {
     "data": {
      "text/html": [
       "<div>\n",
       "<style scoped>\n",
       "    .dataframe tbody tr th:only-of-type {\n",
       "        vertical-align: middle;\n",
       "    }\n",
       "\n",
       "    .dataframe tbody tr th {\n",
       "        vertical-align: top;\n",
       "    }\n",
       "\n",
       "    .dataframe thead th {\n",
       "        text-align: right;\n",
       "    }\n",
       "</style>\n",
       "<table border=\"1\" class=\"dataframe\">\n",
       "  <thead>\n",
       "    <tr style=\"text-align: right;\">\n",
       "      <th></th>\n",
       "      <th>auc</th>\n",
       "      <th>average_precision</th>\n",
       "      <th>fscore_label_0</th>\n",
       "      <th>fscore_label_1</th>\n",
       "      <th>precision_label_0</th>\n",
       "      <th>precision_label_1</th>\n",
       "      <th>recall_label_0</th>\n",
       "      <th>recall_label_1</th>\n",
       "      <th>support_label_0</th>\n",
       "      <th>support_label_1</th>\n",
       "    </tr>\n",
       "  </thead>\n",
       "  <tbody>\n",
       "    <tr>\n",
       "      <th>0</th>\n",
       "      <td>0.924366</td>\n",
       "      <td>0.490773</td>\n",
       "      <td>0.996285</td>\n",
       "      <td>0.531073</td>\n",
       "      <td>0.995171</td>\n",
       "      <td>0.618421</td>\n",
       "      <td>0.997401</td>\n",
       "      <td>0.465347</td>\n",
       "      <td>11157</td>\n",
       "      <td>101</td>\n",
       "    </tr>\n",
       "  </tbody>\n",
       "</table>\n",
       "</div>"
      ],
      "text/plain": [
       "        auc  average_precision  fscore_label_0  fscore_label_1  \\\n",
       "0  0.924366           0.490773        0.996285        0.531073   \n",
       "\n",
       "   precision_label_0  precision_label_1  recall_label_0  recall_label_1  \\\n",
       "0           0.995171           0.618421        0.997401        0.465347   \n",
       "\n",
       "   support_label_0  support_label_1  \n",
       "0            11157              101  "
      ]
     },
     "execution_count": 59,
     "metadata": {},
     "output_type": "execute_result"
    }
   ],
   "source": [
    "result"
   ]
  },
  {
   "cell_type": "code",
   "execution_count": 60,
   "metadata": {},
   "outputs": [
    {
     "data": {
      "image/png": "[encoded data removed]",
      "text/plain": [
       "<Figure size 1440x1080 with 1 Axes>"
      ]
     },
     "metadata": {
      "needs_background": "light"
     },
     "output_type": "display_data"
    }
   ],
   "source": [
    "prc,rc,_ = precision_recall_curve(test_labels, decision_values)\n",
    "\n",
    "plt.figure(figsize=(20,15))\n",
    "plt.plot(rc,prc,marker = '+')\n",
    "\n",
    "plt.xlabel(\"recall\")\n",
    "plt.ylabel(\"precision\")\n",
    "plt.title(\"precision vs. recall curve\")\n",
    "plt.show()"
   ]
  },
  {
   "cell_type": "code",
   "execution_count": null,
   "metadata": {},
   "outputs": [],
   "source": []
  }
 ],
 "metadata": {
  "kernelspec": {
   "display_name": "Python 3",
   "language": "python",
   "name": "python3"
  },
  "language_info": {
   "codemirror_mode": {
    "name": "ipython",
    "version": 3
   },
   "file_extension": ".py",
   "mimetype": "text/x-python",
   "name": "python",
   "nbconvert_exporter": "python",
   "pygments_lexer": "ipython3",
   "version": "3.5.2"
  }
 },
 "nbformat": 4,
 "nbformat_minor": 2
}
