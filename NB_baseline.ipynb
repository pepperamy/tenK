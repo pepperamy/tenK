{
 "cells": [
  {
   "cell_type": "code",
   "execution_count": 1,
   "metadata": {},
   "outputs": [],
   "source": [
    "import numpy as np\n",
    "import pandas as pd\n",
    "import _pickle as pickle\n",
    "from collections import defaultdict\n",
    "import re\n",
    "import ast\n",
    "\n",
    "from bs4 import BeautifulSoup\n",
    "\n",
    "import sys\n",
    "import os\n",
    "import json\n",
    "import operator\n",
    "\n",
    "#from keras.preprocessing.text import Tokenizer, text_to_word_sequence\n",
    "#from keras.preprocessing.sequence import pad_sequences\n",
    "#from keras.utils.np_utils import to_categorical\n",
    "\n",
    "#from keras import backend as K\n",
    "#from keras.engine.topology import Layer, InputSpec\n",
    "#from keras import initializers\n",
    "\n",
    "#from keras.optimizers import SGD\n",
    "\n",
    "#from keras.layers import Embedding, Dense, Conv1D, MaxPooling1D, Dropout, Activation, Input, Flatten, Concatenate, GlobalAveragePooling1D, LSTM, GRU, Bidirectional, dot, multiply, Lambda, TimeDistributed, Masking\n",
    "\n",
    "#from keras.models import Model, Sequential\n",
    "#from keras.regularizers import l2,l1,l1_l2\n",
    "#from keras.callbacks import Callback,EarlyStopping, ModelCheckpoint\n",
    "from sklearn.utils import class_weight\n",
    "\n",
    "#from keras.callbacks import Callback\n",
    "\n",
    "\n",
    "#from keras.layers.normalization import BatchNormalization\n",
    "from sklearn.svm import SVC, LinearSVC\n",
    "from sklearn.calibration import CalibratedClassifierCV\n",
    "from sklearn.model_selection import KFold, train_test_split, StratifiedKFold\n",
    "from sklearn.metrics import precision_recall_fscore_support, precision_recall_curve, classification_report,accuracy_score, auc, roc_curve, roc_auc_score\n",
    "\n",
    "import matplotlib.pyplot as plt\n",
    "\n",
    "from sklearn.feature_extraction.text import TfidfVectorizer"
   ]
  },
  {
   "cell_type": "code",
   "execution_count": 2,
   "metadata": {},
   "outputs": [],
   "source": [
    "from collections import OrderedDict\n",
    "from lime.lime_text import LimeTextExplainer \n",
    "from sklearn.pipeline import make_pipeline\n",
    "from sklearn.feature_extraction import text"
   ]
  },
  {
   "cell_type": "code",
   "execution_count": 3,
   "metadata": {},
   "outputs": [],
   "source": [
    "import pickle"
   ]
  },
  {
   "cell_type": "code",
   "execution_count": 4,
   "metadata": {},
   "outputs": [],
   "source": [
    "import optunity.metrics"
   ]
  },
  {
   "cell_type": "code",
   "execution_count": 5,
   "metadata": {},
   "outputs": [],
   "source": [
    "from scipy import sparse"
   ]
  },
  {
   "cell_type": "code",
   "execution_count": 6,
   "metadata": {},
   "outputs": [],
   "source": [
    "from sklearn.metrics import average_precision_score"
   ]
  },
  {
   "cell_type": "code",
   "execution_count": 7,
   "metadata": {},
   "outputs": [],
   "source": [
    "def load_data(data_name):\n",
    "    f = open(data_name,'rb')\n",
    "    data = pickle.load(f)\n",
    "    return data"
   ]
  },
  {
   "cell_type": "code",
   "execution_count": 8,
   "metadata": {},
   "outputs": [],
   "source": [
    "train_labels = load_data('/home/jujun/fraudprediction_10k/data/y_train_20200214')"
   ]
  },
  {
   "cell_type": "code",
   "execution_count": 9,
   "metadata": {},
   "outputs": [],
   "source": [
    "test_labels = load_data('/home/jujun/fraudprediction_10k/data/y_test_20200214')"
   ]
  },
  {
   "cell_type": "code",
   "execution_count": 10,
   "metadata": {},
   "outputs": [],
   "source": [
    "train_indecis = load_data('/home/jujun/fraudprediction_10k/data/indices_train_20200214')"
   ]
  },
  {
   "cell_type": "code",
   "execution_count": 11,
   "metadata": {},
   "outputs": [],
   "source": [
    "test_indecis = load_data('/home/jujun/fraudprediction_10k/data/indices_test_20200214')"
   ]
  },
  {
   "cell_type": "code",
   "execution_count": 12,
   "metadata": {},
   "outputs": [],
   "source": [
    "# doc_text = load_data('doc_20200206_2012')"
   ]
  },
  {
   "cell_type": "code",
   "execution_count": 13,
   "metadata": {},
   "outputs": [],
   "source": [
    "# my_stop_words = text.ENGLISH_STOP_WORDS.union([\"dd\",\"PRON\",\"-PRON-\"])"
   ]
  },
  {
   "cell_type": "code",
   "execution_count": 14,
   "metadata": {},
   "outputs": [],
   "source": [
    "# tfidf_vect = TfidfVectorizer(stop_words = my_stop_words, min_df=5)\n",
    "# tm= tfidf_vect.fit_transform(doc_text)"
   ]
  },
  {
   "cell_type": "code",
   "execution_count": 15,
   "metadata": {},
   "outputs": [],
   "source": [
    "#tm is from the SVM_baseline script\n",
    "tm = sparse.load_npz(\"/home/jujun/fraudprediction_10k/data/tm_20200212.npz\")"
   ]
  },
  {
   "cell_type": "code",
   "execution_count": 16,
   "metadata": {},
   "outputs": [
    {
     "data": {
      "text/plain": [
       "<56288x69185 sparse matrix of type '<class 'numpy.float64'>'\n",
       "\twith 48325957 stored elements in Compressed Sparse Row format>"
      ]
     },
     "execution_count": 16,
     "metadata": {},
     "output_type": "execute_result"
    }
   ],
   "source": [
    "tm"
   ]
  },
  {
   "cell_type": "code",
   "execution_count": 17,
   "metadata": {},
   "outputs": [],
   "source": [
    "X_train = tm[train_indecis]\n",
    "X_test = tm[test_indecis]"
   ]
  },
  {
   "cell_type": "code",
   "execution_count": 19,
   "metadata": {},
   "outputs": [],
   "source": [
    "from sklearn.naive_bayes import GaussianNB,MultinomialNB"
   ]
  },
  {
   "cell_type": "code",
   "execution_count": 20,
   "metadata": {},
   "outputs": [
    {
     "name": "stdout",
     "output_type": "stream",
     "text": [
      "{0: 0.5045378151260504, 1: 55.592592592592595}\n",
      "True\n"
     ]
    }
   ],
   "source": [
    "f = 0\n",
    "\n",
    "aucs = ()\n",
    "aucs_list = []\n",
    "\n",
    "precisions = ()\n",
    "\n",
    "recalls = ()\n",
    "\n",
    "result = pd.DataFrame()\n",
    "\n",
    "exp_weight= []\n",
    "\n",
    "# kfold = StratifiedKFold(n_splits=5, shuffle=True, random_state=42)\n",
    "\n",
    "# for train_index, test_index in kfold.split(X_train,labels_train):\n",
    "#     print(' ')\n",
    "\n",
    "#     f = f+1\n",
    "#     print('molde_'+str(f))\n",
    "#     print('train: ',train_index[0], ' / ', train_index[-1])\n",
    "#     print('test: ',test_index[0],' / ', test_index[-1])\n",
    "    #ModelName = './folder(6)/basicM_bestM_l12_'+str(f)\n",
    "#     x_traink, x_val = tm[train_index], tm[test_index]\n",
    "#     y_traink, y_val = labels_train[train_index].values, labels_train[test_index].values\n",
    "    \n",
    "class_weights_dict = {}\n",
    "class_weights = class_weight.compute_class_weight('balanced',\n",
    "                                             np.unique(train_labels),\n",
    "                                             train_labels)\n",
    "class_weights_dict[0] = class_weights[0]\n",
    "class_weights_dict[1] = class_weights[1]\n",
    "print(class_weights_dict)\n",
    "\n",
    "sample_weights = []\n",
    "for y in train_labels:\n",
    "    if y == 1:\n",
    "        sample_weights.append(class_weights[1])\n",
    "    else: sample_weights.append(class_weights[0])\n",
    "\n",
    "print(class_weights[1] in sample_weights)\n",
    "    \n",
    "    \n",
    "nb = MultinomialNB()\n",
    "nb.fit(X_train, train_labels, sample_weight = sample_weights)\n",
    "\n",
    "pred_proba = nb.predict_proba(X_test)    \n",
    "auc = roc_auc_score(test_labels, pred_proba[:,1])\n",
    "    \n",
    "    #plot_coefficients(nb, tfidf_vect.get_feature_names())\n",
    "    \n",
    "pred = nb.predict(X_test)\n",
    "prfs = precision_recall_fscore_support(test_labels, pred)\n",
    "ap = average_precision_score(test_labels, pred)\n",
    "\n",
    "\n",
    "dict_temp = {\n",
    "    'average_precision':ap,\n",
    "    'auc':auc,'precision_label_0':prfs[0][0],'precision_label_1':prfs[0][1],\n",
    "    'recall_label_0':prfs[1][0],'recall_label_1':prfs[1][1],\n",
    "    'fscore_label_0':prfs[2][0],'fscore_label_1':prfs[2][1],\n",
    "    'support_label_0':prfs[3][0],'support_label_1':prfs[3][1],\n",
    "}\n",
    "temp_table = pd.DataFrame(dict_temp,index=[f])\n",
    "result = pd.concat([temp_table,result])"
   ]
  },
  {
   "cell_type": "code",
   "execution_count": 21,
   "metadata": {},
   "outputs": [
    {
     "data": {
      "text/html": [
       "<div>\n",
       "<style scoped>\n",
       "    .dataframe tbody tr th:only-of-type {\n",
       "        vertical-align: middle;\n",
       "    }\n",
       "\n",
       "    .dataframe tbody tr th {\n",
       "        vertical-align: top;\n",
       "    }\n",
       "\n",
       "    .dataframe thead th {\n",
       "        text-align: right;\n",
       "    }\n",
       "</style>\n",
       "<table border=\"1\" class=\"dataframe\">\n",
       "  <thead>\n",
       "    <tr style=\"text-align: right;\">\n",
       "      <th></th>\n",
       "      <th>auc</th>\n",
       "      <th>average_precision</th>\n",
       "      <th>fscore_label_0</th>\n",
       "      <th>fscore_label_1</th>\n",
       "      <th>precision_label_0</th>\n",
       "      <th>precision_label_1</th>\n",
       "      <th>recall_label_0</th>\n",
       "      <th>recall_label_1</th>\n",
       "      <th>support_label_0</th>\n",
       "      <th>support_label_1</th>\n",
       "    </tr>\n",
       "  </thead>\n",
       "  <tbody>\n",
       "    <tr>\n",
       "      <th>0</th>\n",
       "      <td>0.896612</td>\n",
       "      <td>0.032754</td>\n",
       "      <td>0.899793</td>\n",
       "      <td>0.073703</td>\n",
       "      <td>0.997817</td>\n",
       "      <td>0.038627</td>\n",
       "      <td>0.819306</td>\n",
       "      <td>0.80198</td>\n",
       "      <td>11157</td>\n",
       "      <td>101</td>\n",
       "    </tr>\n",
       "  </tbody>\n",
       "</table>\n",
       "</div>"
      ],
      "text/plain": [
       "        auc  average_precision  fscore_label_0  fscore_label_1  \\\n",
       "0  0.896612           0.032754        0.899793        0.073703   \n",
       "\n",
       "   precision_label_0  precision_label_1  recall_label_0  recall_label_1  \\\n",
       "0           0.997817           0.038627        0.819306         0.80198   \n",
       "\n",
       "   support_label_0  support_label_1  \n",
       "0            11157              101  "
      ]
     },
     "execution_count": 21,
     "metadata": {},
     "output_type": "execute_result"
    }
   ],
   "source": [
    "result"
   ]
  },
  {
   "cell_type": "code",
   "execution_count": null,
   "metadata": {},
   "outputs": [],
   "source": []
  }
 ],
 "metadata": {
  "kernelspec": {
   "display_name": "Python 3",
   "language": "python",
   "name": "python3"
  },
  "language_info": {
   "codemirror_mode": {
    "name": "ipython",
    "version": 3
   },
   "file_extension": ".py",
   "mimetype": "text/x-python",
   "name": "python",
   "nbconvert_exporter": "python",
   "pygments_lexer": "ipython3",
   "version": "3.5.2"
  }
 },
 "nbformat": 4,
 "nbformat_minor": 2
}
